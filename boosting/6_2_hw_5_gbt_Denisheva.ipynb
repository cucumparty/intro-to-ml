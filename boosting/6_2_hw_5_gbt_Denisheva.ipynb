{
 "cells": [
  {
   "cell_type": "markdown",
   "metadata": {},
   "source": [
    "# Домашнее задание 5.\n",
    "\n",
    "Ниже приведено решение задачи Walmart TripType prediction.\n",
    "\n",
    "Сначала мы строим простую baseline модель используя алгоритм случайного леса, затем делаем Exploratory Data Analysis, и наконец генерим новый набор признаков и на нем обучаем алгоритм градиентного бустинга.\n",
    "\n",
    "Разберитесь в этом нотбуке: \n",
    "- в чем заключается задача?\n",
    "- какие признаки мы генерим?\n",
    "\n",
    "Существует 3 популярные библиотеки реализующие алгоритм градиентного бустинга:\n",
    "- xgboost https://xgboost.readthedocs.io/en/stable/python/python_intro.html\n",
    "- catboost https://catboost.ai/en/docs/concepts/python-quickstart\n",
    "- lightgbm https://lightgbm.readthedocs.io/en/latest/Python-Intro.html\n",
    "\n",
    " \n",
    "Решение отправляйте на почту kurmukovai@gmail.com, до полуночи 24 марта, 23:59:59 с темой письма [iitp-intro-ds-2024-ha5-Surname], например [iitp-intro-ds-2024-ha5-Kurmukov]\n",
    "\n",
    "* если вам нужно будет обработать пропуски (missing values) обрабатывайте их любым разумным образом (см. семинар 3)\n",
    "* все 3 библиотеки умеют работать с категориальным переменными \"из коробки\":\n",
    "- https://xgboost.readthedocs.io/en/stable/tutorials/categorical.html\n",
    "- https://lightgbm.readthedocs.io/en/latest/Advanced-Topics.html\n",
    "\n",
    "возможно необходимо строковые признаки закодировать в числа 1..n ."
   ]
  },
  {
   "cell_type": "code",
   "execution_count": null,
   "metadata": {},
   "outputs": [],
   "source": []
  },
  {
   "cell_type": "markdown",
   "metadata": {},
   "source": [
    "# п. 1-5 смотрите ниже\n",
    "\n",
    "\n",
    "Данные без пароля можно скачать тут https://disk.yandex.ru/d/xTXpgXJwiWyYSQ\n",
    "\n",
    "Ниже предложено два baseline решения, изучите их прежде чем переходить к разделам 6-7.\n",
    "\n",
    "\n",
    "# 6. Вопросы про данные\n",
    "\n",
    "В вопросах про данные используйте выборку `train.csv`\n",
    "\n",
    "1. Сколько всего уникальных типов покупок (TripType) в данной задаче?  \n",
    "38 типов   \n",
    "2. В какой день недели совершается больше всего покупок?  \n",
    "Воскресенье  \n",
    "3. Какой мультиклассовой точности соответствует логлосс 0.997 в данной задаче?  \n",
    "0.7 на train  \n",
    "0.69 на evalution \n",
    "4. Опишите качественно самый частый и самый редкий типы покупок в данных: в какой день они происходят, каким категорям товаров соответствуют, какой в них средний размер чека (количество позиций) и т.д.      \n",
    "Самый редкий тип покупок - 14: чаще всего происходит по понедельникам и субботам, самые часто встречающиеся категории товаров у этого типа покупок FABRICS AND CRAFTS, IMPULSE MERCHANDISE, среднее количество покупаемых позиций - 20.75  \n",
    "Самый частый тип покупок - 40:  чаще всего происходит по воскресеньям и субботам, самые часто встречающиеся категории товаров у этого типа покупок GROCERY DRY GOODS, DSD GROCERY, DAIRY, PRODUCE, среднее количество покупаемых позиций - 33.5    \n",
    "\n"
   ]
  },
  {
   "cell_type": "markdown",
   "metadata": {},
   "source": [
    "# Walmart TripType prediction\n",
    "\n",
    "https://www.kaggle.com/c/walmart-recruiting-trip-type-classification\n",
    "\n",
    ">For this competition, you are tasked with categorizing shopping trip types based on the items that customers purchased. To give a few hypothetical examples of trip types: a customer may make a small daily dinner trip, a weekly large grocery trip, a trip to buy gifts for an upcoming holiday, or a seasonal trip to buy clothes.\n",
    "\n",
    "\n",
    "## Multi-class classification, goal is to predict `type of the trip`."
   ]
  },
  {
   "cell_type": "code",
   "execution_count": 1,
   "metadata": {},
   "outputs": [],
   "source": [
    "# !kaggle competitions download -c walmart-recruiting-trip-type-classification"
   ]
  },
  {
   "cell_type": "code",
   "execution_count": 25,
   "metadata": {},
   "outputs": [],
   "source": [
    "import pandas as pd\n",
    "import numpy as np\n",
    "import matplotlib.pyplot as plt\n",
    "import seaborn as sns\n",
    "%matplotlib inline"
   ]
  },
  {
   "cell_type": "code",
   "execution_count": 26,
   "metadata": {},
   "outputs": [],
   "source": [
    "train = pd.read_csv('train.csv')\n",
    "# test = pd.read_csv('walmart-recruiting-trip-type-classification/test.csv')"
   ]
  },
  {
   "cell_type": "code",
   "execution_count": 27,
   "metadata": {},
   "outputs": [
    {
     "data": {
      "text/html": [
       "<div>\n",
       "<style scoped>\n",
       "    .dataframe tbody tr th:only-of-type {\n",
       "        vertical-align: middle;\n",
       "    }\n",
       "\n",
       "    .dataframe tbody tr th {\n",
       "        vertical-align: top;\n",
       "    }\n",
       "\n",
       "    .dataframe thead th {\n",
       "        text-align: right;\n",
       "    }\n",
       "</style>\n",
       "<table border=\"1\" class=\"dataframe\">\n",
       "  <thead>\n",
       "    <tr style=\"text-align: right;\">\n",
       "      <th></th>\n",
       "      <th>TripType</th>\n",
       "      <th>VisitNumber</th>\n",
       "      <th>Weekday</th>\n",
       "      <th>Upc</th>\n",
       "      <th>ScanCount</th>\n",
       "      <th>DepartmentDescription</th>\n",
       "      <th>FinelineNumber</th>\n",
       "    </tr>\n",
       "  </thead>\n",
       "  <tbody>\n",
       "    <tr>\n",
       "      <th>0</th>\n",
       "      <td>999</td>\n",
       "      <td>5</td>\n",
       "      <td>Friday</td>\n",
       "      <td>6.811315e+10</td>\n",
       "      <td>-1</td>\n",
       "      <td>FINANCIAL SERVICES</td>\n",
       "      <td>1000.0</td>\n",
       "    </tr>\n",
       "    <tr>\n",
       "      <th>1</th>\n",
       "      <td>30</td>\n",
       "      <td>7</td>\n",
       "      <td>Friday</td>\n",
       "      <td>6.053882e+10</td>\n",
       "      <td>1</td>\n",
       "      <td>SHOES</td>\n",
       "      <td>8931.0</td>\n",
       "    </tr>\n",
       "    <tr>\n",
       "      <th>2</th>\n",
       "      <td>30</td>\n",
       "      <td>7</td>\n",
       "      <td>Friday</td>\n",
       "      <td>7.410811e+09</td>\n",
       "      <td>1</td>\n",
       "      <td>PERSONAL CARE</td>\n",
       "      <td>4504.0</td>\n",
       "    </tr>\n",
       "    <tr>\n",
       "      <th>3</th>\n",
       "      <td>26</td>\n",
       "      <td>8</td>\n",
       "      <td>Friday</td>\n",
       "      <td>2.238404e+09</td>\n",
       "      <td>2</td>\n",
       "      <td>PAINT AND ACCESSORIES</td>\n",
       "      <td>3565.0</td>\n",
       "    </tr>\n",
       "    <tr>\n",
       "      <th>4</th>\n",
       "      <td>26</td>\n",
       "      <td>8</td>\n",
       "      <td>Friday</td>\n",
       "      <td>2.006614e+09</td>\n",
       "      <td>2</td>\n",
       "      <td>PAINT AND ACCESSORIES</td>\n",
       "      <td>1017.0</td>\n",
       "    </tr>\n",
       "  </tbody>\n",
       "</table>\n",
       "</div>"
      ],
      "text/plain": [
       "   TripType  VisitNumber Weekday           Upc  ScanCount  \\\n",
       "0       999            5  Friday  6.811315e+10         -1   \n",
       "1        30            7  Friday  6.053882e+10          1   \n",
       "2        30            7  Friday  7.410811e+09          1   \n",
       "3        26            8  Friday  2.238404e+09          2   \n",
       "4        26            8  Friday  2.006614e+09          2   \n",
       "\n",
       "   DepartmentDescription  FinelineNumber  \n",
       "0     FINANCIAL SERVICES          1000.0  \n",
       "1                  SHOES          8931.0  \n",
       "2          PERSONAL CARE          4504.0  \n",
       "3  PAINT AND ACCESSORIES          3565.0  \n",
       "4  PAINT AND ACCESSORIES          1017.0  "
      ]
     },
     "execution_count": 27,
     "metadata": {},
     "output_type": "execute_result"
    }
   ],
   "source": [
    "train.head()"
   ]
  },
  {
   "cell_type": "markdown",
   "metadata": {},
   "source": [
    "### Columns description\n",
    "\n",
    "- `TripType` - a categorical id representing the type of shopping trip the customer made. This is the ground truth that you are predicting. TripType_999 is an \"other\" category.\n",
    "- `VisitNumber` - an id corresponding to a single trip by a single customer\n",
    "- `Weekday` - the weekday of the trip\n",
    "- `Upc`- the UPC number of the product purchased\n",
    "- `ScanCount` - the number of the given item that was purchased. A negative value indicates a product return.\n",
    "- `DepartmentDescription` - a high-level description of the item's department\n",
    "- `FinelineNumber` - a more refined category for each of the products, created by Walmart\n"
   ]
  },
  {
   "cell_type": "code",
   "execution_count": 28,
   "metadata": {},
   "outputs": [
    {
     "data": {
      "text/plain": [
       "(647054, 7)"
      ]
     },
     "execution_count": 28,
     "metadata": {},
     "output_type": "execute_result"
    }
   ],
   "source": [
    "train.shape"
   ]
  },
  {
   "cell_type": "code",
   "execution_count": 29,
   "metadata": {},
   "outputs": [
    {
     "data": {
      "text/plain": [
       "TripType                 647054\n",
       "VisitNumber              647054\n",
       "Weekday                  647054\n",
       "Upc                      642925\n",
       "ScanCount                647054\n",
       "DepartmentDescription    645693\n",
       "FinelineNumber           642925\n",
       "dtype: int64"
      ]
     },
     "execution_count": 29,
     "metadata": {},
     "output_type": "execute_result"
    }
   ],
   "source": [
    "train.count()"
   ]
  },
  {
   "cell_type": "code",
   "execution_count": 30,
   "metadata": {},
   "outputs": [
    {
     "data": {
      "text/plain": [
       "40     174164\n",
       "39      95504\n",
       "37      38954\n",
       "38      29565\n",
       "25      27609\n",
       "7       23199\n",
       "8       22844\n",
       "36      21990\n",
       "44      20424\n",
       "42      19468\n",
       "24      18015\n",
       "999     17590\n",
       "9       16820\n",
       "32      13843\n",
       "5       13836\n",
       "35      12501\n",
       "33       9918\n",
       "15       7147\n",
       "3        6827\n",
       "43       6383\n",
       "41       5508\n",
       "30       4861\n",
       "34       4751\n",
       "27       4613\n",
       "21       4032\n",
       "22       3592\n",
       "6        3405\n",
       "20       3116\n",
       "18       2977\n",
       "28       2664\n",
       "26       2507\n",
       "12       2108\n",
       "29       2105\n",
       "31       1765\n",
       "19       1188\n",
       "4         901\n",
       "23        325\n",
       "14         35\n",
       "Name: TripType, dtype: int64"
      ]
     },
     "execution_count": 30,
     "metadata": {},
     "output_type": "execute_result"
    }
   ],
   "source": [
    "train.TripType.value_counts()"
   ]
  },
  {
   "cell_type": "code",
   "execution_count": 31,
   "metadata": {},
   "outputs": [
    {
     "name": "stdout",
     "output_type": "stream",
     "text": [
      "14 40\n"
     ]
    }
   ],
   "source": [
    "min_id = train.TripType.value_counts().idxmin()\n",
    "max_id = train.TripType.value_counts().idxmax()\n",
    "print(min_id, max_id)"
   ]
  },
  {
   "cell_type": "code",
   "execution_count": 32,
   "metadata": {},
   "outputs": [
    {
     "data": {
      "text/plain": [
       "Weekday\n",
       "Friday       8\n",
       "Monday      14\n",
       "Saturday    13\n",
       "dtype: int64"
      ]
     },
     "execution_count": 32,
     "metadata": {},
     "output_type": "execute_result"
    }
   ],
   "source": [
    "train.loc[train.TripType == min_id].groupby(['Weekday']).size()"
   ]
  },
  {
   "cell_type": "code",
   "execution_count": 33,
   "metadata": {},
   "outputs": [
    {
     "data": {
      "text/plain": [
       "Weekday\n",
       "Friday       23002\n",
       "Monday       22380\n",
       "Saturday     36383\n",
       "Sunday       43024\n",
       "Thursday     14673\n",
       "Tuesday      17954\n",
       "Wednesday    16748\n",
       "dtype: int64"
      ]
     },
     "execution_count": 33,
     "metadata": {},
     "output_type": "execute_result"
    }
   ],
   "source": [
    "train.loc[train.TripType == max_id].groupby(['Weekday']).size()"
   ]
  },
  {
   "cell_type": "code",
   "execution_count": 34,
   "metadata": {},
   "outputs": [
    {
     "data": {
      "text/plain": [
       "DepartmentDescription\n",
       "FABRICS AND CRAFTS       15\n",
       "IMPULSE MERCHANDISE       6\n",
       "CELEBRATION               3\n",
       "PETS AND SUPPLIES         3\n",
       "FINANCIAL SERVICES        2\n",
       "MEDIA AND GAMING          2\n",
       "PRODUCE                   2\n",
       "HOUSEHOLD PAPER GOODS     1\n",
       "OFFICE SUPPLIES           1\n",
       "dtype: int64"
      ]
     },
     "execution_count": 34,
     "metadata": {},
     "output_type": "execute_result"
    }
   ],
   "source": [
    "train.loc[train.TripType == min_id].groupby(['DepartmentDescription']).size().sort_values(ascending=False)"
   ]
  },
  {
   "cell_type": "code",
   "execution_count": 35,
   "metadata": {},
   "outputs": [
    {
     "data": {
      "text/plain": [
       "DepartmentDescription\n",
       "GROCERY DRY GOODS       32639\n",
       "DSD GROCERY             22157\n",
       "DAIRY                   17354\n",
       "PRODUCE                 16704\n",
       "PERSONAL CARE            9911\n",
       "                        ...  \n",
       "FURNITURE                  23\n",
       "SEASONAL                    4\n",
       "CAMERAS AND SUPPLIES        4\n",
       "PHARMACY RX                 2\n",
       "1-HR PHOTO                  1\n",
       "Length: 63, dtype: int64"
      ]
     },
     "execution_count": 35,
     "metadata": {},
     "output_type": "execute_result"
    }
   ],
   "source": [
    "train.loc[train.TripType == max_id].groupby(['DepartmentDescription']).size().sort_values(ascending=False)"
   ]
  },
  {
   "cell_type": "code",
   "execution_count": 36,
   "metadata": {},
   "outputs": [
    {
     "data": {
      "text/plain": [
       "20.75"
      ]
     },
     "execution_count": 36,
     "metadata": {},
     "output_type": "execute_result"
    }
   ],
   "source": [
    "train.loc[train.TripType == min_id].groupby(['VisitNumber'])['ScanCount'].sum().mean()"
   ]
  },
  {
   "cell_type": "code",
   "execution_count": 37,
   "metadata": {},
   "outputs": [
    {
     "data": {
      "text/plain": [
       "33.49200652528548"
      ]
     },
     "execution_count": 37,
     "metadata": {},
     "output_type": "execute_result"
    }
   ],
   "source": [
    "train.loc[train.TripType == max_id].groupby(['VisitNumber'])['ScanCount'].sum().mean()"
   ]
  },
  {
   "cell_type": "markdown",
   "metadata": {},
   "source": [
    "# 1. Understand the task.\n",
    "\n",
    "> Every single ml task has its features, and there are no universal solutions, only generally working principles.\n",
    "\n",
    "We need to predict type of the visit: `TripType`. Every row of the data table contains information about a single product not a visit, threfore we need to combine the information about the visit from all the purchases. \n",
    "\n",
    "![](trip-type.png)\n",
    "\n",
    "Unfortunately, we do not have the information about customers, so we do not know if some of the Visits were performed by the same person.\n"
   ]
  },
  {
   "cell_type": "code",
   "execution_count": 38,
   "metadata": {},
   "outputs": [
    {
     "data": {
      "text/html": [
       "<div>\n",
       "<style scoped>\n",
       "    .dataframe tbody tr th:only-of-type {\n",
       "        vertical-align: middle;\n",
       "    }\n",
       "\n",
       "    .dataframe tbody tr th {\n",
       "        vertical-align: top;\n",
       "    }\n",
       "\n",
       "    .dataframe thead th {\n",
       "        text-align: right;\n",
       "    }\n",
       "</style>\n",
       "<table border=\"1\" class=\"dataframe\">\n",
       "  <thead>\n",
       "    <tr style=\"text-align: right;\">\n",
       "      <th></th>\n",
       "      <th>TripType</th>\n",
       "      <th>VisitNumber</th>\n",
       "      <th>Weekday</th>\n",
       "      <th>Upc</th>\n",
       "      <th>ScanCount</th>\n",
       "      <th>DepartmentDescription</th>\n",
       "      <th>FinelineNumber</th>\n",
       "    </tr>\n",
       "  </thead>\n",
       "  <tbody>\n",
       "    <tr>\n",
       "      <th>0</th>\n",
       "      <td>999</td>\n",
       "      <td>5</td>\n",
       "      <td>Friday</td>\n",
       "      <td>6.811315e+10</td>\n",
       "      <td>-1</td>\n",
       "      <td>FINANCIAL SERVICES</td>\n",
       "      <td>1000.0</td>\n",
       "    </tr>\n",
       "    <tr>\n",
       "      <th>1</th>\n",
       "      <td>30</td>\n",
       "      <td>7</td>\n",
       "      <td>Friday</td>\n",
       "      <td>6.053882e+10</td>\n",
       "      <td>1</td>\n",
       "      <td>SHOES</td>\n",
       "      <td>8931.0</td>\n",
       "    </tr>\n",
       "    <tr>\n",
       "      <th>2</th>\n",
       "      <td>30</td>\n",
       "      <td>7</td>\n",
       "      <td>Friday</td>\n",
       "      <td>7.410811e+09</td>\n",
       "      <td>1</td>\n",
       "      <td>PERSONAL CARE</td>\n",
       "      <td>4504.0</td>\n",
       "    </tr>\n",
       "    <tr>\n",
       "      <th>3</th>\n",
       "      <td>26</td>\n",
       "      <td>8</td>\n",
       "      <td>Friday</td>\n",
       "      <td>2.238404e+09</td>\n",
       "      <td>2</td>\n",
       "      <td>PAINT AND ACCESSORIES</td>\n",
       "      <td>3565.0</td>\n",
       "    </tr>\n",
       "    <tr>\n",
       "      <th>4</th>\n",
       "      <td>26</td>\n",
       "      <td>8</td>\n",
       "      <td>Friday</td>\n",
       "      <td>2.006614e+09</td>\n",
       "      <td>2</td>\n",
       "      <td>PAINT AND ACCESSORIES</td>\n",
       "      <td>1017.0</td>\n",
       "    </tr>\n",
       "  </tbody>\n",
       "</table>\n",
       "</div>"
      ],
      "text/plain": [
       "   TripType  VisitNumber Weekday           Upc  ScanCount  \\\n",
       "0       999            5  Friday  6.811315e+10         -1   \n",
       "1        30            7  Friday  6.053882e+10          1   \n",
       "2        30            7  Friday  7.410811e+09          1   \n",
       "3        26            8  Friday  2.238404e+09          2   \n",
       "4        26            8  Friday  2.006614e+09          2   \n",
       "\n",
       "   DepartmentDescription  FinelineNumber  \n",
       "0     FINANCIAL SERVICES          1000.0  \n",
       "1                  SHOES          8931.0  \n",
       "2          PERSONAL CARE          4504.0  \n",
       "3  PAINT AND ACCESSORIES          3565.0  \n",
       "4  PAINT AND ACCESSORIES          1017.0  "
      ]
     },
     "execution_count": 38,
     "metadata": {},
     "output_type": "execute_result"
    }
   ],
   "source": [
    "train.head(5)"
   ]
  },
  {
   "cell_type": "code",
   "execution_count": null,
   "metadata": {},
   "outputs": [],
   "source": []
  },
  {
   "cell_type": "markdown",
   "metadata": {},
   "source": [
    "# 2. Build a simple baseline model\n",
    "\n",
    "- Count number of purchases in a Visit\n",
    "- Create binary column `is_weekend`\n",
    "- Drop all the remaining columns"
   ]
  },
  {
   "cell_type": "code",
   "execution_count": 39,
   "metadata": {},
   "outputs": [],
   "source": [
    "from sklearn.model_selection import train_test_split\n",
    "from sklearn.ensemble import RandomForestClassifier\n",
    "from sklearn.preprocessing import LabelEncoder"
   ]
  },
  {
   "cell_type": "code",
   "execution_count": 40,
   "metadata": {},
   "outputs": [],
   "source": [
    "def is_weekend(day):\n",
    "    return int(day in ['Saturday', 'Sunday'])\n",
    "\n",
    "df_train = train.copy()\n",
    "\n",
    "# Generate is_weekend\n",
    "df_train['is_weekend'] = df_train.Weekday.apply(is_weekend)\n",
    "\n",
    "# Generate n_products\n",
    "gp_n_products = df_train.groupby('VisitNumber')['ScanCount'].count()\n",
    "df_train['n_products'] = df_train.VisitNumber.map(gp_n_products)\n",
    "\n",
    "# drop duplicated Visit numbers\n",
    "df_train = df_train.drop_duplicates(subset=['VisitNumber']).reset_index(drop=True)\n",
    "\n",
    "# drop all columns except `is_weekend`, `n_products` and `TripType`\n",
    "df_train = df_train.drop(['VisitNumber', 'Weekday', 'Upc', 'ScanCount',\n",
    "                          'DepartmentDescription', 'FinelineNumber'], axis=1)\n",
    "\n",
    "# Encode TripType so unique values are from 0 to (m-1), where m is number of classes\n",
    "encoder = LabelEncoder().fit(df_train['TripType'])\n",
    "df_train['TripType_encoded'] =  encoder.transform(df_train['TripType'])\n",
    "df_train = df_train.drop('TripType', axis=1)\n",
    "\n",
    "# Create separate variables X and y\n",
    "X = df_train.drop('TripType_encoded', axis=1)\n",
    "y = df_train.TripType_encoded"
   ]
  },
  {
   "cell_type": "code",
   "execution_count": 41,
   "metadata": {},
   "outputs": [],
   "source": [
    "from sklearn.model_selection import train_test_split"
   ]
  },
  {
   "cell_type": "code",
   "execution_count": 42,
   "metadata": {},
   "outputs": [],
   "source": [
    "# Split data into train and test, use parameter `stratify=y`\n",
    "\n",
    "X_train, X_test, y_train, y_test = train_test_split(X, y, test_size=0.20, random_state=774, stratify=y)"
   ]
  },
  {
   "cell_type": "code",
   "execution_count": 43,
   "metadata": {},
   "outputs": [],
   "source": [
    "from sklearn.ensemble import RandomForestClassifier\n",
    "from sklearn.metrics import log_loss"
   ]
  },
  {
   "cell_type": "code",
   "execution_count": 44,
   "metadata": {},
   "outputs": [
    {
     "data": {
      "text/html": [
       "<style>#sk-container-id-1 {color: black;background-color: white;}#sk-container-id-1 pre{padding: 0;}#sk-container-id-1 div.sk-toggleable {background-color: white;}#sk-container-id-1 label.sk-toggleable__label {cursor: pointer;display: block;width: 100%;margin-bottom: 0;padding: 0.3em;box-sizing: border-box;text-align: center;}#sk-container-id-1 label.sk-toggleable__label-arrow:before {content: \"▸\";float: left;margin-right: 0.25em;color: #696969;}#sk-container-id-1 label.sk-toggleable__label-arrow:hover:before {color: black;}#sk-container-id-1 div.sk-estimator:hover label.sk-toggleable__label-arrow:before {color: black;}#sk-container-id-1 div.sk-toggleable__content {max-height: 0;max-width: 0;overflow: hidden;text-align: left;background-color: #f0f8ff;}#sk-container-id-1 div.sk-toggleable__content pre {margin: 0.2em;color: black;border-radius: 0.25em;background-color: #f0f8ff;}#sk-container-id-1 input.sk-toggleable__control:checked~div.sk-toggleable__content {max-height: 200px;max-width: 100%;overflow: auto;}#sk-container-id-1 input.sk-toggleable__control:checked~label.sk-toggleable__label-arrow:before {content: \"▾\";}#sk-container-id-1 div.sk-estimator input.sk-toggleable__control:checked~label.sk-toggleable__label {background-color: #d4ebff;}#sk-container-id-1 div.sk-label input.sk-toggleable__control:checked~label.sk-toggleable__label {background-color: #d4ebff;}#sk-container-id-1 input.sk-hidden--visually {border: 0;clip: rect(1px 1px 1px 1px);clip: rect(1px, 1px, 1px, 1px);height: 1px;margin: -1px;overflow: hidden;padding: 0;position: absolute;width: 1px;}#sk-container-id-1 div.sk-estimator {font-family: monospace;background-color: #f0f8ff;border: 1px dotted black;border-radius: 0.25em;box-sizing: border-box;margin-bottom: 0.5em;}#sk-container-id-1 div.sk-estimator:hover {background-color: #d4ebff;}#sk-container-id-1 div.sk-parallel-item::after {content: \"\";width: 100%;border-bottom: 1px solid gray;flex-grow: 1;}#sk-container-id-1 div.sk-label:hover label.sk-toggleable__label {background-color: #d4ebff;}#sk-container-id-1 div.sk-serial::before {content: \"\";position: absolute;border-left: 1px solid gray;box-sizing: border-box;top: 0;bottom: 0;left: 50%;z-index: 0;}#sk-container-id-1 div.sk-serial {display: flex;flex-direction: column;align-items: center;background-color: white;padding-right: 0.2em;padding-left: 0.2em;position: relative;}#sk-container-id-1 div.sk-item {position: relative;z-index: 1;}#sk-container-id-1 div.sk-parallel {display: flex;align-items: stretch;justify-content: center;background-color: white;position: relative;}#sk-container-id-1 div.sk-item::before, #sk-container-id-1 div.sk-parallel-item::before {content: \"\";position: absolute;border-left: 1px solid gray;box-sizing: border-box;top: 0;bottom: 0;left: 50%;z-index: -1;}#sk-container-id-1 div.sk-parallel-item {display: flex;flex-direction: column;z-index: 1;position: relative;background-color: white;}#sk-container-id-1 div.sk-parallel-item:first-child::after {align-self: flex-end;width: 50%;}#sk-container-id-1 div.sk-parallel-item:last-child::after {align-self: flex-start;width: 50%;}#sk-container-id-1 div.sk-parallel-item:only-child::after {width: 0;}#sk-container-id-1 div.sk-dashed-wrapped {border: 1px dashed gray;margin: 0 0.4em 0.5em 0.4em;box-sizing: border-box;padding-bottom: 0.4em;background-color: white;}#sk-container-id-1 div.sk-label label {font-family: monospace;font-weight: bold;display: inline-block;line-height: 1.2em;}#sk-container-id-1 div.sk-label-container {text-align: center;}#sk-container-id-1 div.sk-container {/* jupyter's `normalize.less` sets `[hidden] { display: none; }` but bootstrap.min.css set `[hidden] { display: none !important; }` so we also need the `!important` here to be able to override the default hidden behavior on the sphinx rendered scikit-learn.org. See: https://github.com/scikit-learn/scikit-learn/issues/21755 */display: inline-block !important;position: relative;}#sk-container-id-1 div.sk-text-repr-fallback {display: none;}</style><div id=\"sk-container-id-1\" class=\"sk-top-container\"><div class=\"sk-text-repr-fallback\"><pre>RandomForestClassifier()</pre><b>In a Jupyter environment, please rerun this cell to show the HTML representation or trust the notebook. <br />On GitHub, the HTML representation is unable to render, please try loading this page with nbviewer.org.</b></div><div class=\"sk-container\" hidden><div class=\"sk-item\"><div class=\"sk-estimator sk-toggleable\"><input class=\"sk-toggleable__control sk-hidden--visually\" id=\"sk-estimator-id-1\" type=\"checkbox\" checked><label for=\"sk-estimator-id-1\" class=\"sk-toggleable__label sk-toggleable__label-arrow\">RandomForestClassifier</label><div class=\"sk-toggleable__content\"><pre>RandomForestClassifier()</pre></div></div></div></div></div>"
      ],
      "text/plain": [
       "RandomForestClassifier()"
      ]
     },
     "execution_count": 44,
     "metadata": {},
     "output_type": "execute_result"
    }
   ],
   "source": [
    "# train a RandomForest model with default hyperparameters\n",
    "\n",
    "clf = RandomForestClassifier()\n",
    "clf.fit(X_train, y_train)"
   ]
  },
  {
   "cell_type": "markdown",
   "metadata": {},
   "source": [
    "---\n",
    "For this tash we are using a log loss $$- y \\log p - (1-y)\\log(1-p)$$\n",
    "in the following multi class form:\n",
    "\n",
    "$$\\frac{1}{N}\\sum_{i=1}^N \\log {\\left(\\frac{e^{a_{it_i}}}{\\sum_{j=0}^{M-1} e^{a_{ij}}}\\right)}$$\n",
    "\n",
    "$t \\in \\{0\\ldots M-1\\}$, $M$ is number of classes, $N$ is number of objects. Numerator is $a_{it_{i}}$ = \\[ unnormalized probability of an $i$'th object to be assigned to the right class $t_i$\\], thus:\n",
    "\n",
    "$$p_{it_i} = \\frac{e^{a_{it_i}}}{\\sum_{j=0}^{M-1} e^{a_{ij}}}$$\n",
    "\n",
    "see for example https://towardsdatascience.com/cross-entropy-for-classification-d98e7f974451"
   ]
  },
  {
   "cell_type": "code",
   "execution_count": 45,
   "metadata": {},
   "outputs": [
    {
     "data": {
      "text/plain": [
       "2.6323517100163354"
      ]
     },
     "execution_count": 45,
     "metadata": {},
     "output_type": "execute_result"
    }
   ],
   "source": [
    "# predict y_test and compute multi-class log loss of your prediction\n",
    "\n",
    "y_pred = clf.predict_proba(X_test)\n",
    "log_loss(y_test, y_pred)"
   ]
  },
  {
   "cell_type": "code",
   "execution_count": 46,
   "metadata": {},
   "outputs": [
    {
     "data": {
      "text/plain": [
       "(19135, 38)"
      ]
     },
     "execution_count": 46,
     "metadata": {},
     "output_type": "execute_result"
    }
   ],
   "source": [
    "y_pred.shape"
   ]
  },
  {
   "cell_type": "code",
   "execution_count": 47,
   "metadata": {},
   "outputs": [],
   "source": [
    "from sklearn.metrics import accuracy_score"
   ]
  },
  {
   "cell_type": "code",
   "execution_count": 48,
   "metadata": {},
   "outputs": [
    {
     "data": {
      "text/plain": [
       "0.27640449438202247"
      ]
     },
     "execution_count": 48,
     "metadata": {},
     "output_type": "execute_result"
    }
   ],
   "source": [
    "# just to get an intuition on whether it is a good a bad prediction compute an accuracy of your model\n",
    "\n",
    "y_pred = clf.predict(X_test)\n",
    "accuracy_score(y_test, y_pred)"
   ]
  },
  {
   "cell_type": "code",
   "execution_count": 49,
   "metadata": {},
   "outputs": [
    {
     "data": {
      "text/plain": [
       "(array([ 5, 31, 32]), array([9480, 7923, 1732]))"
      ]
     },
     "execution_count": 49,
     "metadata": {},
     "output_type": "execute_result"
    }
   ],
   "source": [
    "# Remember this is a 38 class classification, count predicted classes\n",
    "\n",
    "np.unique(y_pred, return_counts=True)"
   ]
  },
  {
   "cell_type": "code",
   "execution_count": 50,
   "metadata": {},
   "outputs": [
    {
     "data": {
      "text/plain": [
       "5     9729\n",
       "31    7917\n",
       "6     7571\n",
       "37    6755\n",
       "32    4904\n",
       "4     4602\n",
       "2     3674\n",
       "17    2958\n",
       "0     2914\n",
       "28    2404\n",
       "30    2330\n",
       "29    2230\n",
       "16    2087\n",
       "27    1624\n",
       "24    1587\n",
       "34    1486\n",
       "25    1052\n",
       "3     1022\n",
       "36     950\n",
       "22     865\n",
       "9      782\n",
       "14     742\n",
       "35     698\n",
       "19     628\n",
       "26     575\n",
       "13     513\n",
       "12     510\n",
       "23     475\n",
       "33     466\n",
       "10     439\n",
       "18     403\n",
       "20     394\n",
       "21     347\n",
       "11     300\n",
       "1      277\n",
       "7      215\n",
       "15     111\n",
       "8        3\n",
       "Name: TripType_encoded, dtype: int64"
      ]
     },
     "execution_count": 50,
     "metadata": {},
     "output_type": "execute_result"
    }
   ],
   "source": [
    "# Check value counts of a TripType on a train set\n",
    "\n",
    "y_train.value_counts()"
   ]
  },
  {
   "cell_type": "markdown",
   "metadata": {},
   "source": [
    "## Compare with the constant prediction\n"
   ]
  },
  {
   "cell_type": "code",
   "execution_count": 51,
   "metadata": {},
   "outputs": [
    {
     "name": "stdout",
     "output_type": "stream",
     "text": [
      "0.1270969427750196\n",
      "31.462615236917888\n"
     ]
    }
   ],
   "source": [
    "# Compute a log loss and an accuracy of a constant prediction (predict most frequent TripType)\n",
    "\n",
    "y_dummy = [5]*19135\n",
    "print(accuracy_score(y_test, y_dummy))\n",
    "\n",
    "y_dummy_proba = np.zeros((19135, 38))\n",
    "y_dummy_proba[:, 5] = 1\n",
    "print(log_loss(y_test, y_dummy_proba))"
   ]
  },
  {
   "cell_type": "code",
   "execution_count": null,
   "metadata": {},
   "outputs": [],
   "source": []
  },
  {
   "cell_type": "markdown",
   "metadata": {},
   "source": [
    "## Conclusions on the baseline\n",
    "1. Even with this simple features and relatively stupid predictions we are better than a constant prediction.\n",
    "2. Classifier mostly predicts frequent classes.\n",
    "3. Some frequent classes are predicted and some are not. This may be due to the fact that predicted\n",
    "classes are better described by the generated features."
   ]
  },
  {
   "cell_type": "code",
   "execution_count": null,
   "metadata": {},
   "outputs": [],
   "source": []
  },
  {
   "cell_type": "markdown",
   "metadata": {},
   "source": [
    "# 3. Deeper look on the features.\n",
    "\n",
    "### Columns description\n",
    "\n",
    "- `TripType` - a categorical id representing the type of shopping trip the customer made. This is the ground truth that you are predicting. TripType_999 is an \"other\" category.\n",
    "- `VisitNumber` - an id corresponding to a single trip by a single customer\n",
    "- `Weekday` - the weekday of the trip\n",
    "- `Upc`- the UPC number of the product purchased\n",
    "- `ScanCount` - the number of the given item that was purchased. A negative value indicates a product return.\n",
    "- `DepartmentDescription` - a high-level description of the item's department\n",
    "- `FinelineNumber` - a more refined category for each of the products, created by Walmart\n"
   ]
  },
  {
   "cell_type": "code",
   "execution_count": 52,
   "metadata": {},
   "outputs": [
    {
     "data": {
      "text/html": [
       "<div>\n",
       "<style scoped>\n",
       "    .dataframe tbody tr th:only-of-type {\n",
       "        vertical-align: middle;\n",
       "    }\n",
       "\n",
       "    .dataframe tbody tr th {\n",
       "        vertical-align: top;\n",
       "    }\n",
       "\n",
       "    .dataframe thead th {\n",
       "        text-align: right;\n",
       "    }\n",
       "</style>\n",
       "<table border=\"1\" class=\"dataframe\">\n",
       "  <thead>\n",
       "    <tr style=\"text-align: right;\">\n",
       "      <th></th>\n",
       "      <th>TripType</th>\n",
       "      <th>VisitNumber</th>\n",
       "      <th>Weekday</th>\n",
       "      <th>Upc</th>\n",
       "      <th>ScanCount</th>\n",
       "      <th>DepartmentDescription</th>\n",
       "      <th>FinelineNumber</th>\n",
       "    </tr>\n",
       "  </thead>\n",
       "  <tbody>\n",
       "    <tr>\n",
       "      <th>0</th>\n",
       "      <td>999</td>\n",
       "      <td>5</td>\n",
       "      <td>Friday</td>\n",
       "      <td>6.811315e+10</td>\n",
       "      <td>-1</td>\n",
       "      <td>FINANCIAL SERVICES</td>\n",
       "      <td>1000.0</td>\n",
       "    </tr>\n",
       "    <tr>\n",
       "      <th>1</th>\n",
       "      <td>30</td>\n",
       "      <td>7</td>\n",
       "      <td>Friday</td>\n",
       "      <td>6.053882e+10</td>\n",
       "      <td>1</td>\n",
       "      <td>SHOES</td>\n",
       "      <td>8931.0</td>\n",
       "    </tr>\n",
       "    <tr>\n",
       "      <th>2</th>\n",
       "      <td>30</td>\n",
       "      <td>7</td>\n",
       "      <td>Friday</td>\n",
       "      <td>7.410811e+09</td>\n",
       "      <td>1</td>\n",
       "      <td>PERSONAL CARE</td>\n",
       "      <td>4504.0</td>\n",
       "    </tr>\n",
       "    <tr>\n",
       "      <th>3</th>\n",
       "      <td>26</td>\n",
       "      <td>8</td>\n",
       "      <td>Friday</td>\n",
       "      <td>2.238404e+09</td>\n",
       "      <td>2</td>\n",
       "      <td>PAINT AND ACCESSORIES</td>\n",
       "      <td>3565.0</td>\n",
       "    </tr>\n",
       "    <tr>\n",
       "      <th>4</th>\n",
       "      <td>26</td>\n",
       "      <td>8</td>\n",
       "      <td>Friday</td>\n",
       "      <td>2.006614e+09</td>\n",
       "      <td>2</td>\n",
       "      <td>PAINT AND ACCESSORIES</td>\n",
       "      <td>1017.0</td>\n",
       "    </tr>\n",
       "  </tbody>\n",
       "</table>\n",
       "</div>"
      ],
      "text/plain": [
       "   TripType  VisitNumber Weekday           Upc  ScanCount  \\\n",
       "0       999            5  Friday  6.811315e+10         -1   \n",
       "1        30            7  Friday  6.053882e+10          1   \n",
       "2        30            7  Friday  7.410811e+09          1   \n",
       "3        26            8  Friday  2.238404e+09          2   \n",
       "4        26            8  Friday  2.006614e+09          2   \n",
       "\n",
       "   DepartmentDescription  FinelineNumber  \n",
       "0     FINANCIAL SERVICES          1000.0  \n",
       "1                  SHOES          8931.0  \n",
       "2          PERSONAL CARE          4504.0  \n",
       "3  PAINT AND ACCESSORIES          3565.0  \n",
       "4  PAINT AND ACCESSORIES          1017.0  "
      ]
     },
     "execution_count": 52,
     "metadata": {},
     "output_type": "execute_result"
    }
   ],
   "source": [
    "train.head()"
   ]
  },
  {
   "cell_type": "code",
   "execution_count": 53,
   "metadata": {},
   "outputs": [
    {
     "data": {
      "text/plain": [
       "TripType                   int64\n",
       "VisitNumber                int64\n",
       "Weekday                   object\n",
       "Upc                      float64\n",
       "ScanCount                  int64\n",
       "DepartmentDescription     object\n",
       "FinelineNumber           float64\n",
       "dtype: object"
      ]
     },
     "execution_count": 53,
     "metadata": {},
     "output_type": "execute_result"
    }
   ],
   "source": [
    "train.dtypes"
   ]
  },
  {
   "cell_type": "markdown",
   "metadata": {},
   "source": [
    "All features, except `ScanCount` are categorical, a negative value of a `ScanCount` indicates a product return.\n",
    "\n",
    "### 3.1 VisitNumber \n",
    "is an indicator of a visit, we need it to aggregate different purchases,\n",
    "but the number itself is not important it is just an index. Let's have a quick look on it."
   ]
  },
  {
   "cell_type": "code",
   "execution_count": 54,
   "metadata": {},
   "outputs": [
    {
     "data": {
      "text/plain": [
       "72439     209\n",
       "88011     151\n",
       "9181      113\n",
       "60971     112\n",
       "65792     111\n",
       "         ... \n",
       "59978       1\n",
       "107116      1\n",
       "59988       1\n",
       "162017      1\n",
       "5           1\n",
       "Name: VisitNumber, Length: 95674, dtype: int64"
      ]
     },
     "execution_count": 54,
     "metadata": {},
     "output_type": "execute_result"
    }
   ],
   "source": [
    "train.VisitNumber.value_counts()"
   ]
  },
  {
   "cell_type": "code",
   "execution_count": 55,
   "metadata": {},
   "outputs": [
    {
     "data": {
      "image/png": "[encoded data removed]",
      "text/plain": [
       "<Figure size 432x288 with 1 Axes>"
      ]
     },
     "metadata": {
      "needs_background": "light"
     },
     "output_type": "display_data"
    }
   ],
   "source": [
    "sns.histplot(data=train.VisitNumber.value_counts(), bins=50);"
   ]
  },
  {
   "cell_type": "code",
   "execution_count": 56,
   "metadata": {},
   "outputs": [
    {
     "data": {
      "text/plain": [
       "1     19563\n",
       "2     17255\n",
       "3     10362\n",
       "4      8038\n",
       "5      5884\n",
       "6      4633\n",
       "7      3716\n",
       "8      3154\n",
       "9      2593\n",
       "10     2251\n",
       "11     1889\n",
       "12     1746\n",
       "13     1519\n",
       "14     1253\n",
       "15     1207\n",
       "16     1030\n",
       "17      887\n",
       "18      772\n",
       "19      699\n",
       "20      674\n",
       "Name: VisitNumber, dtype: int64"
      ]
     },
     "execution_count": 56,
     "metadata": {},
     "output_type": "execute_result"
    }
   ],
   "source": [
    "train.VisitNumber.value_counts().value_counts().sort_index()[:20]"
   ]
  },
  {
   "cell_type": "markdown",
   "metadata": {},
   "source": [
    "--- \n",
    "\n",
    "- More than half of all Visit consists of 4 or less purchases\n",
    "- 90% of Visits consist of 17 or less purchases"
   ]
  },
  {
   "cell_type": "code",
   "execution_count": null,
   "metadata": {},
   "outputs": [],
   "source": []
  },
  {
   "cell_type": "markdown",
   "metadata": {},
   "source": [
    "### 3.2 Weekday"
   ]
  },
  {
   "cell_type": "code",
   "execution_count": 57,
   "metadata": {},
   "outputs": [
    {
     "data": {
      "text/plain": [
       "Monday        83130\n",
       "Tuesday       72529\n",
       "Wednesday     71115\n",
       "Thursday      67962\n",
       "Friday        96247\n",
       "Saturday     122096\n",
       "Sunday       133975\n",
       "Name: Weekday, dtype: int64"
      ]
     },
     "execution_count": 57,
     "metadata": {},
     "output_type": "execute_result"
    }
   ],
   "source": [
    "# How many visits are on different weekdays\n",
    "weekdays = ['Monday', 'Tuesday', 'Wednesday','Thursday','Friday', 'Saturday', 'Sunday']\n",
    "\n",
    "train.Weekday.value_counts().reindex(weekdays)"
   ]
  },
  {
   "cell_type": "code",
   "execution_count": 58,
   "metadata": {},
   "outputs": [
    {
     "data": {
      "text/plain": [
       "Weekday\n",
       "Monday       1926\n",
       "Tuesday      1878\n",
       "Wednesday    1871\n",
       "Thursday     1793\n",
       "Friday       2418\n",
       "Saturday     2763\n",
       "Sunday       2809\n",
       "Name: IsReturn, dtype: int64"
      ]
     },
     "execution_count": 58,
     "metadata": {},
     "output_type": "execute_result"
    }
   ],
   "source": [
    "# Do we have more returns on some weekdays?\n",
    "\n",
    "train['IsReturn'] = train['ScanCount'].apply(lambda x: x < 0)\n",
    "train.groupby(['Weekday'])['IsReturn'].sum().sort_values().reindex(weekdays)"
   ]
  },
  {
   "cell_type": "code",
   "execution_count": 59,
   "metadata": {},
   "outputs": [
    {
     "data": {
      "text/plain": [
       "-1     14394\n",
       "-2       814\n",
       "-3       143\n",
       "-4        76\n",
       "-5        16\n",
       "-6        10\n",
       "-9         2\n",
       "-12        1\n",
       "-7         1\n",
       "-10        1\n",
       "Name: ScanCount, dtype: int64"
      ]
     },
     "execution_count": 59,
     "metadata": {},
     "output_type": "execute_result"
    }
   ],
   "source": [
    "# Is there only `-1` returns?\n",
    "\n",
    "train[train.IsReturn].ScanCount.value_counts()"
   ]
  },
  {
   "cell_type": "markdown",
   "metadata": {},
   "source": [
    "### 3.3 DepartmentDescription"
   ]
  },
  {
   "cell_type": "code",
   "execution_count": 60,
   "metadata": {},
   "outputs": [
    {
     "data": {
      "text/plain": [
       "DepartmentDescription\n",
       "GROCERY DRY GOODS              88718\n",
       "DSD GROCERY                    79814\n",
       "PRODUCE                        52813\n",
       "DAIRY                          50550\n",
       "PERSONAL CARE                  44819\n",
       "IMPULSE MERCHANDISE            31811\n",
       "HOUSEHOLD CHEMICALS/SUPP       26915\n",
       "PHARMACY OTC                   25620\n",
       "FROZEN FOODS                   25368\n",
       "HOUSEHOLD PAPER GOODS          17986\n",
       "COMM BREAD                     17516\n",
       "BEAUTY                         15077\n",
       "INFANT CONSUMABLE HARDLINES    13149\n",
       "PETS AND SUPPLIES              12592\n",
       "CANDY, TOBACCO, COOKIES        11745\n",
       "MENS WEAR                      11690\n",
       "MEAT - FRESH & FROZEN          10882\n",
       "SERVICE DELI                   10777\n",
       "PRE PACKED DELI                10722\n",
       "CELEBRATION                     9957\n",
       "Name: ScanCount, dtype: int64"
      ]
     },
     "execution_count": 60,
     "metadata": {},
     "output_type": "execute_result"
    }
   ],
   "source": [
    "# What are the most popular Departments? (total sum over ScanCount)\n",
    "\n",
    "train.groupby('DepartmentDescription').ScanCount.sum().sort_values(ascending=False)[:20]"
   ]
  },
  {
   "cell_type": "code",
   "execution_count": 61,
   "metadata": {},
   "outputs": [
    {
     "data": {
      "text/html": [
       "<div>\n",
       "<style scoped>\n",
       "    .dataframe tbody tr th:only-of-type {\n",
       "        vertical-align: middle;\n",
       "    }\n",
       "\n",
       "    .dataframe tbody tr th {\n",
       "        vertical-align: top;\n",
       "    }\n",
       "\n",
       "    .dataframe thead th {\n",
       "        text-align: right;\n",
       "    }\n",
       "</style>\n",
       "<table border=\"1\" class=\"dataframe\">\n",
       "  <thead>\n",
       "    <tr style=\"text-align: right;\">\n",
       "      <th></th>\n",
       "      <th>TripType</th>\n",
       "      <th>Count</th>\n",
       "      <th>DepartmentDescription</th>\n",
       "    </tr>\n",
       "  </thead>\n",
       "  <tbody>\n",
       "    <tr>\n",
       "      <th>0</th>\n",
       "      <td>3</td>\n",
       "      <td>5369</td>\n",
       "      <td>FINANCIAL SERVICES</td>\n",
       "    </tr>\n",
       "    <tr>\n",
       "      <th>1</th>\n",
       "      <td>3</td>\n",
       "      <td>804</td>\n",
       "      <td>IMPULSE MERCHANDISE</td>\n",
       "    </tr>\n",
       "    <tr>\n",
       "      <th>2</th>\n",
       "      <td>3</td>\n",
       "      <td>76</td>\n",
       "      <td>LARGE HOUSEHOLD GOODS</td>\n",
       "    </tr>\n",
       "    <tr>\n",
       "      <th>3</th>\n",
       "      <td>4</td>\n",
       "      <td>563</td>\n",
       "      <td>PHARMACY OTC</td>\n",
       "    </tr>\n",
       "    <tr>\n",
       "      <th>4</th>\n",
       "      <td>4</td>\n",
       "      <td>73</td>\n",
       "      <td>DSD GROCERY</td>\n",
       "    </tr>\n",
       "    <tr>\n",
       "      <th>5</th>\n",
       "      <td>4</td>\n",
       "      <td>47</td>\n",
       "      <td>IMPULSE MERCHANDISE</td>\n",
       "    </tr>\n",
       "    <tr>\n",
       "      <th>6</th>\n",
       "      <td>5</td>\n",
       "      <td>5281</td>\n",
       "      <td>PHARMACY OTC</td>\n",
       "    </tr>\n",
       "    <tr>\n",
       "      <th>7</th>\n",
       "      <td>5</td>\n",
       "      <td>2714</td>\n",
       "      <td>PHARMACY RX</td>\n",
       "    </tr>\n",
       "    <tr>\n",
       "      <th>8</th>\n",
       "      <td>5</td>\n",
       "      <td>922</td>\n",
       "      <td>PERSONAL CARE</td>\n",
       "    </tr>\n",
       "    <tr>\n",
       "      <th>9</th>\n",
       "      <td>6</td>\n",
       "      <td>1000</td>\n",
       "      <td>LIQUOR,WINE,BEER</td>\n",
       "    </tr>\n",
       "    <tr>\n",
       "      <th>10</th>\n",
       "      <td>6</td>\n",
       "      <td>674</td>\n",
       "      <td>CANDY, TOBACCO, COOKIES</td>\n",
       "    </tr>\n",
       "    <tr>\n",
       "      <th>11</th>\n",
       "      <td>6</td>\n",
       "      <td>360</td>\n",
       "      <td>DSD GROCERY</td>\n",
       "    </tr>\n",
       "    <tr>\n",
       "      <th>12</th>\n",
       "      <td>7</td>\n",
       "      <td>3669</td>\n",
       "      <td>SERVICE DELI</td>\n",
       "    </tr>\n",
       "    <tr>\n",
       "      <th>13</th>\n",
       "      <td>7</td>\n",
       "      <td>3354</td>\n",
       "      <td>GROCERY DRY GOODS</td>\n",
       "    </tr>\n",
       "    <tr>\n",
       "      <th>14</th>\n",
       "      <td>7</td>\n",
       "      <td>3022</td>\n",
       "      <td>PRODUCE</td>\n",
       "    </tr>\n",
       "  </tbody>\n",
       "</table>\n",
       "</div>"
      ],
      "text/plain": [
       "    TripType  Count    DepartmentDescription\n",
       "0          3   5369       FINANCIAL SERVICES\n",
       "1          3    804      IMPULSE MERCHANDISE\n",
       "2          3     76    LARGE HOUSEHOLD GOODS\n",
       "3          4    563             PHARMACY OTC\n",
       "4          4     73              DSD GROCERY\n",
       "5          4     47      IMPULSE MERCHANDISE\n",
       "6          5   5281             PHARMACY OTC\n",
       "7          5   2714              PHARMACY RX\n",
       "8          5    922            PERSONAL CARE\n",
       "9          6   1000         LIQUOR,WINE,BEER\n",
       "10         6    674  CANDY, TOBACCO, COOKIES\n",
       "11         6    360              DSD GROCERY\n",
       "12         7   3669             SERVICE DELI\n",
       "13         7   3354        GROCERY DRY GOODS\n",
       "14         7   3022                  PRODUCE"
      ]
     },
     "execution_count": 61,
     "metadata": {},
     "output_type": "execute_result"
    }
   ],
   "source": [
    "# Does most popular DepartmentDescription differ for different TripTypes?\n",
    "# > Allows to more or less deanonymize `TripType`.\n",
    "\n",
    "gp = train.groupby('TripType')['DepartmentDescription'].value_counts().reset_index(name='Count')\n",
    "gp2 = gp.groupby(['TripType'])[['Count','DepartmentDescription']]\\\n",
    "                                                           .apply(pd.DataFrame.nlargest, n=3, columns=['Count'])\\\n",
    "                                                           .reset_index()\\\n",
    "                                                           .drop('level_1', axis=1)\n",
    "\n",
    "gp2[:15]"
   ]
  },
  {
   "cell_type": "code",
   "execution_count": 62,
   "metadata": {},
   "outputs": [
    {
     "data": {
      "text/html": [
       "<div>\n",
       "<style scoped>\n",
       "    .dataframe tbody tr th:only-of-type {\n",
       "        vertical-align: middle;\n",
       "    }\n",
       "\n",
       "    .dataframe tbody tr th {\n",
       "        vertical-align: top;\n",
       "    }\n",
       "\n",
       "    .dataframe thead th {\n",
       "        text-align: right;\n",
       "    }\n",
       "</style>\n",
       "<table border=\"1\" class=\"dataframe\">\n",
       "  <thead>\n",
       "    <tr style=\"text-align: right;\">\n",
       "      <th></th>\n",
       "      <th>TripType</th>\n",
       "      <th>Count</th>\n",
       "      <th>DepartmentDescription</th>\n",
       "    </tr>\n",
       "  </thead>\n",
       "  <tbody>\n",
       "    <tr>\n",
       "      <th>51</th>\n",
       "      <td>25</td>\n",
       "      <td>5381</td>\n",
       "      <td>MENS WEAR</td>\n",
       "    </tr>\n",
       "    <tr>\n",
       "      <th>52</th>\n",
       "      <td>25</td>\n",
       "      <td>3716</td>\n",
       "      <td>LADIESWEAR</td>\n",
       "    </tr>\n",
       "    <tr>\n",
       "      <th>53</th>\n",
       "      <td>25</td>\n",
       "      <td>1836</td>\n",
       "      <td>GIRLS WEAR, 4-6X  AND 7-14</td>\n",
       "    </tr>\n",
       "    <tr>\n",
       "      <th>87</th>\n",
       "      <td>37</td>\n",
       "      <td>13351</td>\n",
       "      <td>PRODUCE</td>\n",
       "    </tr>\n",
       "    <tr>\n",
       "      <th>88</th>\n",
       "      <td>37</td>\n",
       "      <td>5477</td>\n",
       "      <td>GROCERY DRY GOODS</td>\n",
       "    </tr>\n",
       "    <tr>\n",
       "      <th>89</th>\n",
       "      <td>37</td>\n",
       "      <td>3667</td>\n",
       "      <td>DAIRY</td>\n",
       "    </tr>\n",
       "    <tr>\n",
       "      <th>90</th>\n",
       "      <td>38</td>\n",
       "      <td>7252</td>\n",
       "      <td>DAIRY</td>\n",
       "    </tr>\n",
       "    <tr>\n",
       "      <th>91</th>\n",
       "      <td>38</td>\n",
       "      <td>6417</td>\n",
       "      <td>GROCERY DRY GOODS</td>\n",
       "    </tr>\n",
       "    <tr>\n",
       "      <th>92</th>\n",
       "      <td>38</td>\n",
       "      <td>4020</td>\n",
       "      <td>DSD GROCERY</td>\n",
       "    </tr>\n",
       "    <tr>\n",
       "      <th>93</th>\n",
       "      <td>39</td>\n",
       "      <td>12956</td>\n",
       "      <td>DSD GROCERY</td>\n",
       "    </tr>\n",
       "    <tr>\n",
       "      <th>94</th>\n",
       "      <td>39</td>\n",
       "      <td>12602</td>\n",
       "      <td>GROCERY DRY GOODS</td>\n",
       "    </tr>\n",
       "    <tr>\n",
       "      <th>95</th>\n",
       "      <td>39</td>\n",
       "      <td>8126</td>\n",
       "      <td>PERSONAL CARE</td>\n",
       "    </tr>\n",
       "    <tr>\n",
       "      <th>96</th>\n",
       "      <td>40</td>\n",
       "      <td>32639</td>\n",
       "      <td>GROCERY DRY GOODS</td>\n",
       "    </tr>\n",
       "    <tr>\n",
       "      <th>97</th>\n",
       "      <td>40</td>\n",
       "      <td>22157</td>\n",
       "      <td>DSD GROCERY</td>\n",
       "    </tr>\n",
       "    <tr>\n",
       "      <th>98</th>\n",
       "      <td>40</td>\n",
       "      <td>17354</td>\n",
       "      <td>DAIRY</td>\n",
       "    </tr>\n",
       "  </tbody>\n",
       "</table>\n",
       "</div>"
      ],
      "text/plain": [
       "    TripType  Count       DepartmentDescription\n",
       "51        25   5381                   MENS WEAR\n",
       "52        25   3716                  LADIESWEAR\n",
       "53        25   1836  GIRLS WEAR, 4-6X  AND 7-14\n",
       "87        37  13351                     PRODUCE\n",
       "88        37   5477           GROCERY DRY GOODS\n",
       "89        37   3667                       DAIRY\n",
       "90        38   7252                       DAIRY\n",
       "91        38   6417           GROCERY DRY GOODS\n",
       "92        38   4020                 DSD GROCERY\n",
       "93        39  12956                 DSD GROCERY\n",
       "94        39  12602           GROCERY DRY GOODS\n",
       "95        39   8126               PERSONAL CARE\n",
       "96        40  32639           GROCERY DRY GOODS\n",
       "97        40  22157                 DSD GROCERY\n",
       "98        40  17354                       DAIRY"
      ]
     },
     "execution_count": 62,
     "metadata": {},
     "output_type": "execute_result"
    }
   ],
   "source": [
    "# From our baseline, recall most popular TripTypes, let's deanonymize them.\n",
    "# Select subset of the previous table with TripType in [40, 39, 37, 38, 25]\n",
    "\n",
    "gp2[gp2.TripType.isin([40, 39, 37, 38, 25])]"
   ]
  },
  {
   "cell_type": "code",
   "execution_count": 63,
   "metadata": {},
   "outputs": [
    {
     "data": {
      "text/plain": [
       "DepartmentDescription\n",
       "FINANCIAL SERVICES          1162\n",
       "LADIESWEAR                   800\n",
       "PRODUCE                      733\n",
       "PERSONAL CARE                682\n",
       "DSD GROCERY                  679\n",
       "MENS WEAR                    634\n",
       "GROCERY DRY GOODS            606\n",
       "PHARMACY OTC                 472\n",
       "IMPULSE MERCHANDISE          453\n",
       "BEAUTY                       452\n",
       "ELECTRONICS                  450\n",
       "HOUSEHOLD CHEMICALS/SUPP     392\n",
       "COOK AND DINE                382\n",
       "TOYS                         356\n",
       "DAIRY                        343\n",
       "Name: IsReturn, dtype: int64"
      ]
     },
     "execution_count": 63,
     "metadata": {},
     "output_type": "execute_result"
    }
   ],
   "source": [
    "# What are the DepartmentDescription with most returns?\n",
    "\n",
    "train.groupby('DepartmentDescription')['IsReturn'].sum().sort_values(ascending=False)[:15]"
   ]
  },
  {
   "cell_type": "code",
   "execution_count": null,
   "metadata": {},
   "outputs": [],
   "source": []
  },
  {
   "cell_type": "markdown",
   "metadata": {},
   "source": [
    "### 3.4 FinelineNumber\n",
    "\n",
    "> according to the data description `FinelineNumber` is just a more detailed `DepartmentDescription`"
   ]
  },
  {
   "cell_type": "code",
   "execution_count": 64,
   "metadata": {},
   "outputs": [
    {
     "data": {
      "text/html": [
       "<div>\n",
       "<style scoped>\n",
       "    .dataframe tbody tr th:only-of-type {\n",
       "        vertical-align: middle;\n",
       "    }\n",
       "\n",
       "    .dataframe tbody tr th {\n",
       "        vertical-align: top;\n",
       "    }\n",
       "\n",
       "    .dataframe thead th {\n",
       "        text-align: right;\n",
       "    }\n",
       "</style>\n",
       "<table border=\"1\" class=\"dataframe\">\n",
       "  <thead>\n",
       "    <tr style=\"text-align: right;\">\n",
       "      <th>DepartmentDescription</th>\n",
       "      <th>DAIRY</th>\n",
       "      <th>DSD GROCERY</th>\n",
       "      <th>GROCERY DRY GOODS</th>\n",
       "      <th>HOUSEHOLD CHEMICALS/SUPP</th>\n",
       "      <th>HOUSEHOLD PAPER GOODS</th>\n",
       "      <th>IMPULSE MERCHANDISE</th>\n",
       "      <th>PERSONAL CARE</th>\n",
       "      <th>PHARMACY OTC</th>\n",
       "      <th>PRODUCE</th>\n",
       "    </tr>\n",
       "    <tr>\n",
       "      <th>FinelineNumber</th>\n",
       "      <th></th>\n",
       "      <th></th>\n",
       "      <th></th>\n",
       "      <th></th>\n",
       "      <th></th>\n",
       "      <th></th>\n",
       "      <th></th>\n",
       "      <th></th>\n",
       "      <th></th>\n",
       "    </tr>\n",
       "  </thead>\n",
       "  <tbody>\n",
       "    <tr>\n",
       "      <th>100.0</th>\n",
       "      <td>0</td>\n",
       "      <td>0</td>\n",
       "      <td>95</td>\n",
       "      <td>0</td>\n",
       "      <td>0</td>\n",
       "      <td>2354</td>\n",
       "      <td>0</td>\n",
       "      <td>0</td>\n",
       "      <td>69</td>\n",
       "    </tr>\n",
       "    <tr>\n",
       "      <th>110.0</th>\n",
       "      <td>0</td>\n",
       "      <td>0</td>\n",
       "      <td>0</td>\n",
       "      <td>536</td>\n",
       "      <td>770</td>\n",
       "      <td>773</td>\n",
       "      <td>0</td>\n",
       "      <td>0</td>\n",
       "      <td>0</td>\n",
       "    </tr>\n",
       "    <tr>\n",
       "      <th>115.0</th>\n",
       "      <td>0</td>\n",
       "      <td>0</td>\n",
       "      <td>0</td>\n",
       "      <td>10</td>\n",
       "      <td>0</td>\n",
       "      <td>2576</td>\n",
       "      <td>0</td>\n",
       "      <td>0</td>\n",
       "      <td>0</td>\n",
       "    </tr>\n",
       "    <tr>\n",
       "      <th>135.0</th>\n",
       "      <td>0</td>\n",
       "      <td>0</td>\n",
       "      <td>0</td>\n",
       "      <td>0</td>\n",
       "      <td>0</td>\n",
       "      <td>4417</td>\n",
       "      <td>26</td>\n",
       "      <td>0</td>\n",
       "      <td>0</td>\n",
       "    </tr>\n",
       "    <tr>\n",
       "      <th>203.0</th>\n",
       "      <td>0</td>\n",
       "      <td>0</td>\n",
       "      <td>0</td>\n",
       "      <td>0</td>\n",
       "      <td>69</td>\n",
       "      <td>0</td>\n",
       "      <td>2353</td>\n",
       "      <td>0</td>\n",
       "      <td>0</td>\n",
       "    </tr>\n",
       "    <tr>\n",
       "      <th>808.0</th>\n",
       "      <td>0</td>\n",
       "      <td>0</td>\n",
       "      <td>0</td>\n",
       "      <td>0</td>\n",
       "      <td>0</td>\n",
       "      <td>4200</td>\n",
       "      <td>140</td>\n",
       "      <td>0</td>\n",
       "      <td>0</td>\n",
       "    </tr>\n",
       "    <tr>\n",
       "      <th>1407.0</th>\n",
       "      <td>2659</td>\n",
       "      <td>0</td>\n",
       "      <td>0</td>\n",
       "      <td>0</td>\n",
       "      <td>0</td>\n",
       "      <td>0</td>\n",
       "      <td>177</td>\n",
       "      <td>0</td>\n",
       "      <td>0</td>\n",
       "    </tr>\n",
       "    <tr>\n",
       "      <th>1508.0</th>\n",
       "      <td>4961</td>\n",
       "      <td>0</td>\n",
       "      <td>0</td>\n",
       "      <td>0</td>\n",
       "      <td>0</td>\n",
       "      <td>0</td>\n",
       "      <td>0</td>\n",
       "      <td>0</td>\n",
       "      <td>0</td>\n",
       "    </tr>\n",
       "    <tr>\n",
       "      <th>3004.0</th>\n",
       "      <td>0</td>\n",
       "      <td>1074</td>\n",
       "      <td>109</td>\n",
       "      <td>0</td>\n",
       "      <td>587</td>\n",
       "      <td>0</td>\n",
       "      <td>0</td>\n",
       "      <td>0</td>\n",
       "      <td>486</td>\n",
       "    </tr>\n",
       "    <tr>\n",
       "      <th>3555.0</th>\n",
       "      <td>0</td>\n",
       "      <td>0</td>\n",
       "      <td>2056</td>\n",
       "      <td>0</td>\n",
       "      <td>0</td>\n",
       "      <td>0</td>\n",
       "      <td>0</td>\n",
       "      <td>0</td>\n",
       "      <td>0</td>\n",
       "    </tr>\n",
       "    <tr>\n",
       "      <th>3600.0</th>\n",
       "      <td>0</td>\n",
       "      <td>0</td>\n",
       "      <td>2455</td>\n",
       "      <td>0</td>\n",
       "      <td>0</td>\n",
       "      <td>0</td>\n",
       "      <td>0</td>\n",
       "      <td>0</td>\n",
       "      <td>0</td>\n",
       "    </tr>\n",
       "    <tr>\n",
       "      <th>3601.0</th>\n",
       "      <td>0</td>\n",
       "      <td>37</td>\n",
       "      <td>261</td>\n",
       "      <td>0</td>\n",
       "      <td>0</td>\n",
       "      <td>0</td>\n",
       "      <td>0</td>\n",
       "      <td>0</td>\n",
       "      <td>2034</td>\n",
       "    </tr>\n",
       "    <tr>\n",
       "      <th>4606.0</th>\n",
       "      <td>0</td>\n",
       "      <td>2721</td>\n",
       "      <td>0</td>\n",
       "      <td>0</td>\n",
       "      <td>0</td>\n",
       "      <td>0</td>\n",
       "      <td>0</td>\n",
       "      <td>0</td>\n",
       "      <td>2</td>\n",
       "    </tr>\n",
       "    <tr>\n",
       "      <th>5501.0</th>\n",
       "      <td>0</td>\n",
       "      <td>0</td>\n",
       "      <td>0</td>\n",
       "      <td>0</td>\n",
       "      <td>0</td>\n",
       "      <td>0</td>\n",
       "      <td>0</td>\n",
       "      <td>2</td>\n",
       "      <td>7799</td>\n",
       "    </tr>\n",
       "    <tr>\n",
       "      <th>9546.0</th>\n",
       "      <td>0</td>\n",
       "      <td>2997</td>\n",
       "      <td>0</td>\n",
       "      <td>0</td>\n",
       "      <td>0</td>\n",
       "      <td>0</td>\n",
       "      <td>0</td>\n",
       "      <td>0</td>\n",
       "      <td>0</td>\n",
       "    </tr>\n",
       "  </tbody>\n",
       "</table>\n",
       "</div>"
      ],
      "text/plain": [
       "DepartmentDescription  DAIRY  DSD GROCERY  GROCERY DRY GOODS  \\\n",
       "FinelineNumber                                                 \n",
       "100.0                      0            0                 95   \n",
       "110.0                      0            0                  0   \n",
       "115.0                      0            0                  0   \n",
       "135.0                      0            0                  0   \n",
       "203.0                      0            0                  0   \n",
       "808.0                      0            0                  0   \n",
       "1407.0                  2659            0                  0   \n",
       "1508.0                  4961            0                  0   \n",
       "3004.0                     0         1074                109   \n",
       "3555.0                     0            0               2056   \n",
       "3600.0                     0            0               2455   \n",
       "3601.0                     0           37                261   \n",
       "4606.0                     0         2721                  0   \n",
       "5501.0                     0            0                  0   \n",
       "9546.0                     0         2997                  0   \n",
       "\n",
       "DepartmentDescription  HOUSEHOLD CHEMICALS/SUPP  HOUSEHOLD PAPER GOODS  \\\n",
       "FinelineNumber                                                           \n",
       "100.0                                         0                      0   \n",
       "110.0                                       536                    770   \n",
       "115.0                                        10                      0   \n",
       "135.0                                         0                      0   \n",
       "203.0                                         0                     69   \n",
       "808.0                                         0                      0   \n",
       "1407.0                                        0                      0   \n",
       "1508.0                                        0                      0   \n",
       "3004.0                                        0                    587   \n",
       "3555.0                                        0                      0   \n",
       "3600.0                                        0                      0   \n",
       "3601.0                                        0                      0   \n",
       "4606.0                                        0                      0   \n",
       "5501.0                                        0                      0   \n",
       "9546.0                                        0                      0   \n",
       "\n",
       "DepartmentDescription  IMPULSE MERCHANDISE  PERSONAL CARE  PHARMACY OTC  \\\n",
       "FinelineNumber                                                            \n",
       "100.0                                 2354              0             0   \n",
       "110.0                                  773              0             0   \n",
       "115.0                                 2576              0             0   \n",
       "135.0                                 4417             26             0   \n",
       "203.0                                    0           2353             0   \n",
       "808.0                                 4200            140             0   \n",
       "1407.0                                   0            177             0   \n",
       "1508.0                                   0              0             0   \n",
       "3004.0                                   0              0             0   \n",
       "3555.0                                   0              0             0   \n",
       "3600.0                                   0              0             0   \n",
       "3601.0                                   0              0             0   \n",
       "4606.0                                   0              0             0   \n",
       "5501.0                                   0              0             2   \n",
       "9546.0                                   0              0             0   \n",
       "\n",
       "DepartmentDescription  PRODUCE  \n",
       "FinelineNumber                  \n",
       "100.0                       69  \n",
       "110.0                        0  \n",
       "115.0                        0  \n",
       "135.0                        0  \n",
       "203.0                        0  \n",
       "808.0                        0  \n",
       "1407.0                       0  \n",
       "1508.0                       0  \n",
       "3004.0                     486  \n",
       "3555.0                       0  \n",
       "3600.0                       0  \n",
       "3601.0                    2034  \n",
       "4606.0                       2  \n",
       "5501.0                    7799  \n",
       "9546.0                       0  "
      ]
     },
     "execution_count": 64,
     "metadata": {},
     "output_type": "execute_result"
    }
   ],
   "source": [
    "# Build a crosstab between DepartmentDescription and FinelineNumber,\n",
    "# for most popular DepartmentDescription (total ScanCount > 20_000)\n",
    "# and most popular FinelineNumber (total ScanCount > 2000)\n",
    "\n",
    "\n",
    "popular_dd = train.groupby('DepartmentDescription').ScanCount.sum().sort_values(ascending=False)[:10].index\n",
    "sub = train[train.DepartmentDescription.isin(popular_dd)]\n",
    "sub = sub[sub.FinelineNumber.isin(sub.FinelineNumber.value_counts().iloc[:15].index)]\n",
    "\n",
    "tab = pd.crosstab(sub.FinelineNumber, sub.DepartmentDescription)\n",
    "tab"
   ]
  },
  {
   "cell_type": "code",
   "execution_count": null,
   "metadata": {},
   "outputs": [],
   "source": []
  },
  {
   "cell_type": "markdown",
   "metadata": {},
   "source": [
    "### 3.5 Upc"
   ]
  },
  {
   "cell_type": "code",
   "execution_count": 65,
   "metadata": {},
   "outputs": [
    {
     "data": {
      "text/plain": [
       "4.011000e+03    7657\n",
       "6.053886e+10    2501\n",
       "7.874235e+09    2067\n",
       "7.874235e+09    1883\n",
       "4.046000e+03    1652\n",
       "                ... \n",
       "1.714581e+09       1\n",
       "8.961101e+11       1\n",
       "7.461946e+10       1\n",
       "7.245368e+10       1\n",
       "5.440000e+09       1\n",
       "Name: Upc, Length: 97714, dtype: int64"
      ]
     },
     "execution_count": 65,
     "metadata": {},
     "output_type": "execute_result"
    }
   ],
   "source": [
    "train.Upc.value_counts()"
   ]
  },
  {
   "cell_type": "markdown",
   "metadata": {},
   "source": [
    "## Conclusions on EDA\n",
    "\n",
    " - Visits are mostly consist of small number of products\n",
    " - Large visits are on weekends\n",
    " - `TripType` depends on `DepartmentDescription` and `FinelineNumber`\n",
    " - `Upc` is something like a bar code, could be usefull but contains almost 100k unique values\n",
    " "
   ]
  },
  {
   "cell_type": "markdown",
   "metadata": {},
   "source": [
    "# 4. Generate features"
   ]
  },
  {
   "cell_type": "code",
   "execution_count": 66,
   "metadata": {},
   "outputs": [],
   "source": [
    "train = pd.read_csv('train.csv')\n",
    "# test = pd.read_csv('walmart-recruiting-trip-type-classification/test.csv')"
   ]
  },
  {
   "cell_type": "code",
   "execution_count": 67,
   "metadata": {},
   "outputs": [],
   "source": [
    "def return_nth(x, n=0):\n",
    "    try:\n",
    "        return x[n]\n",
    "    except:\n",
    "        return np.nan\n",
    "    \n",
    "def return_nth_val(x, n=0):\n",
    "    try:\n",
    "        return x[n]\n",
    "    except:\n",
    "        return 0\n",
    "    \n",
    "def is_weekend(x):\n",
    "    return int(x in ['Sunday', 'Saturday'])\n",
    "\n",
    "def has_return(x):\n",
    "    return int(any(_x < 0 for _x in x))\n",
    "\n",
    "def sum_return(x):\n",
    "    return np.sum([_x for _x in x if _x < 0])"
   ]
  },
  {
   "cell_type": "code",
   "execution_count": 68,
   "metadata": {},
   "outputs": [],
   "source": [
    "df = train.copy()"
   ]
  },
  {
   "cell_type": "code",
   "execution_count": 73,
   "metadata": {},
   "outputs": [],
   "source": [
    "def generate_features(df):\n",
    "    \n",
    "    df = df.copy()\n",
    "    \n",
    "    # 1. Most frequent DepartmentDescription in the purchase, second most frequent, third, fourth.\n",
    "    f = lambda grp: grp.value_counts().nlargest(6)\n",
    "    x = df.groupby('VisitNumber')['DepartmentDescription'].apply(f).reset_index()\n",
    "    gp = x.groupby('VisitNumber')['level_1'].unique()\n",
    "\n",
    "    df['PopularCategory'] = df.VisitNumber.map(gp)\n",
    "    for i in range(4):\n",
    "        df[f'Category_{i}'] = df['PopularCategory'].apply(return_nth, args=[i])\n",
    "\n",
    "    # 2. Same for FinelineNumber, but 6\n",
    "    x = df.groupby('VisitNumber')['FinelineNumber'].apply(f).reset_index()\n",
    "    gp = x.groupby('VisitNumber')['level_1'].unique()\n",
    "\n",
    "    df['PopularFineline'] = df.VisitNumber.map(gp)\n",
    "    for i in range(6):\n",
    "        df[f'Fineline_{i}'] = df['PopularFineline'].apply(return_nth, args=[i]).astype(object)\n",
    "\n",
    "    # 3. Count number of unique DepartmentDescription in the purchase\n",
    "    gp = df.groupby('VisitNumber')['DepartmentDescription'].nunique()\n",
    "    df['#Unique_Department'] = df.VisitNumber.map(gp)\n",
    "\n",
    "    # 4. Count number of unique FinelineNumber in the purchase.\n",
    "    gp = df.groupby('VisitNumber')['FinelineNumber'].nunique()\n",
    "    df['#Unique_Fineline'] = df.VisitNumber.map(gp)\n",
    "\n",
    "    # 5. Count ScanCount (number of unique Upc in the purchase)\n",
    "\n",
    "    gp = df.groupby('VisitNumber')['ScanCount'].count()\n",
    "    df['#UniqueScanCount'] = df['VisitNumber'].map(gp)   \n",
    "\n",
    "    # 6. Sum ScanCount\n",
    "\n",
    "    gp = df.groupby('VisitNumber')['ScanCount'].sum()\n",
    "    df['TotalScanCount'] = df['VisitNumber'].map(gp)\n",
    "\n",
    "    # 7. Is weekend\n",
    "\n",
    "    df['is_Weekend'] = df['Weekday'].apply(is_weekend).astype(object)\n",
    "\n",
    "    # 8. Sum returns\n",
    "\n",
    "    gp = df.groupby('VisitNumber')['ScanCount'].apply(sum_return)\n",
    "    df['total_return'] = df.VisitNumber.map(gp)\n",
    "    df['total_return'].fillna(0, inplace=True)\n",
    "\n",
    "    # Drop old and intermediate features\n",
    "\n",
    "    df = df.drop(['Upc', 'ScanCount', 'DepartmentDescription',\n",
    "                  'FinelineNumber', 'PopularFineline', 'PopularCategory'], axis=1)\n",
    "\n",
    "    # Drop duplicated rows (with the same VisitNumber)\n",
    "\n",
    "    df = df.drop_duplicates(keep='first')\n",
    "    \n",
    "    return df"
   ]
  },
  {
   "cell_type": "code",
   "execution_count": 74,
   "metadata": {},
   "outputs": [],
   "source": [
    "# Running this cell takes about 10 minutes\n",
    "df = generate_features(df)"
   ]
  },
  {
   "cell_type": "markdown",
   "metadata": {},
   "source": [
    "# 5. Train a model"
   ]
  },
  {
   "cell_type": "code",
   "execution_count": 41,
   "metadata": {},
   "outputs": [
    {
     "name": "stdout",
     "output_type": "stream",
     "text": [
      "Collecting catboost\n",
      "  Downloading catboost-1.2.3-cp310-cp310-macosx_11_0_universal2.whl (26.2 MB)\n",
      "\u001b[2K     \u001b[90m━━━━━━━━━━━━━━━━━━━━━━━━━━━━━━━━━━━━━━━\u001b[0m \u001b[32m26.2/26.2 MB\u001b[0m \u001b[31m660.4 kB/s\u001b[0m eta \u001b[36m0:00:00\u001b[0m00:01\u001b[0m00:02\u001b[0m\n",
      "\u001b[?25hCollecting graphviz (from catboost)\n",
      "  Downloading graphviz-0.20.3-py3-none-any.whl (47 kB)\n",
      "\u001b[2K     \u001b[90m━━━━━━━━━━━━━━━━━━━━━━━━━━━━━━━━━━━━━━━\u001b[0m \u001b[32m47.1/47.1 kB\u001b[0m \u001b[31m846.5 kB/s\u001b[0m eta \u001b[36m0:00:00\u001b[0ma \u001b[36m0:00:01\u001b[0m\n",
      "\u001b[?25hRequirement already satisfied: matplotlib in /Library/Frameworks/Python.framework/Versions/3.10/lib/python3.10/site-packages (from catboost) (3.6.3)\n",
      "Requirement already satisfied: numpy>=1.16.0 in /Library/Frameworks/Python.framework/Versions/3.10/lib/python3.10/site-packages (from catboost) (1.23.1)\n",
      "Requirement already satisfied: pandas>=0.24 in /Library/Frameworks/Python.framework/Versions/3.10/lib/python3.10/site-packages (from catboost) (1.5.3)\n",
      "Requirement already satisfied: scipy in /Library/Frameworks/Python.framework/Versions/3.10/lib/python3.10/site-packages (from catboost) (1.10.1)\n",
      "Collecting plotly (from catboost)\n",
      "  Downloading plotly-5.20.0-py3-none-any.whl (15.7 MB)\n",
      "\u001b[2K     \u001b[90m━━━━━━━━━━━━━━━━━━━━━━━━━━━━━━━━━━━━━━━\u001b[0m \u001b[32m15.7/15.7 MB\u001b[0m \u001b[31m733.0 kB/s\u001b[0m eta \u001b[36m0:00:00\u001b[0m00:01\u001b[0m00:01\u001b[0m\n",
      "\u001b[?25hRequirement already satisfied: six in /Library/Frameworks/Python.framework/Versions/3.10/lib/python3.10/site-packages (from catboost) (1.16.0)\n",
      "Requirement already satisfied: python-dateutil>=2.8.1 in /Library/Frameworks/Python.framework/Versions/3.10/lib/python3.10/site-packages (from pandas>=0.24->catboost) (2.8.2)\n",
      "Requirement already satisfied: pytz>=2020.1 in /Library/Frameworks/Python.framework/Versions/3.10/lib/python3.10/site-packages (from pandas>=0.24->catboost) (2022.7.1)\n",
      "Requirement already satisfied: contourpy>=1.0.1 in /Library/Frameworks/Python.framework/Versions/3.10/lib/python3.10/site-packages (from matplotlib->catboost) (1.0.7)\n",
      "Requirement already satisfied: cycler>=0.10 in /Library/Frameworks/Python.framework/Versions/3.10/lib/python3.10/site-packages (from matplotlib->catboost) (0.11.0)\n",
      "Requirement already satisfied: fonttools>=4.22.0 in /Library/Frameworks/Python.framework/Versions/3.10/lib/python3.10/site-packages (from matplotlib->catboost) (4.38.0)\n",
      "Requirement already satisfied: kiwisolver>=1.0.1 in /Library/Frameworks/Python.framework/Versions/3.10/lib/python3.10/site-packages (from matplotlib->catboost) (1.4.4)\n",
      "Requirement already satisfied: packaging>=20.0 in /Library/Frameworks/Python.framework/Versions/3.10/lib/python3.10/site-packages (from matplotlib->catboost) (23.0)\n",
      "Requirement already satisfied: pillow>=6.2.0 in /Library/Frameworks/Python.framework/Versions/3.10/lib/python3.10/site-packages (from matplotlib->catboost) (9.4.0)\n",
      "Requirement already satisfied: pyparsing>=2.2.1 in /Library/Frameworks/Python.framework/Versions/3.10/lib/python3.10/site-packages (from matplotlib->catboost) (3.0.9)\n",
      "Collecting tenacity>=6.2.0 (from plotly->catboost)\n",
      "  Downloading tenacity-8.2.3-py3-none-any.whl (24 kB)\n",
      "Installing collected packages: tenacity, graphviz, plotly, catboost\n",
      "Successfully installed catboost-1.2.3 graphviz-0.20.3 plotly-5.20.0 tenacity-8.2.3\n",
      "\n",
      "\u001b[1m[\u001b[0m\u001b[34;49mnotice\u001b[0m\u001b[1;39;49m]\u001b[0m\u001b[39;49m A new release of pip is available: \u001b[0m\u001b[31;49m23.1.2\u001b[0m\u001b[39;49m -> \u001b[0m\u001b[32;49m24.0\u001b[0m\n",
      "\u001b[1m[\u001b[0m\u001b[34;49mnotice\u001b[0m\u001b[1;39;49m]\u001b[0m\u001b[39;49m To update, run: \u001b[0m\u001b[32;49mpip install --upgrade pip\u001b[0m\n"
     ]
    }
   ],
   "source": [
    "# !pip install catboost"
   ]
  },
  {
   "cell_type": "code",
   "execution_count": 75,
   "metadata": {},
   "outputs": [],
   "source": [
    "from catboost import CatBoostClassifier, Pool"
   ]
  },
  {
   "cell_type": "code",
   "execution_count": 76,
   "metadata": {},
   "outputs": [
    {
     "name": "stdout",
     "output_type": "stream",
     "text": [
      "-2 TripType int64\n",
      "-1 VisitNumber int64\n",
      "0 Weekday object\n",
      "1 Category_0 object\n",
      "2 Category_1 object\n",
      "3 Category_2 object\n",
      "4 Category_3 object\n",
      "5 Fineline_0 object\n",
      "6 Fineline_1 object\n",
      "7 Fineline_2 object\n",
      "8 Fineline_3 object\n",
      "9 Fineline_4 object\n",
      "10 Fineline_5 object\n",
      "11 #Unique_Department int64\n",
      "12 #Unique_Fineline int64\n",
      "13 #UniqueScanCount int64\n",
      "14 TotalScanCount int64\n",
      "15 is_Weekend object\n",
      "16 total_return float64\n"
     ]
    }
   ],
   "source": [
    "for i, col in enumerate(df.columns):\n",
    "    print(i-2, col, df[col].dtype)"
   ]
  },
  {
   "cell_type": "code",
   "execution_count": 77,
   "metadata": {},
   "outputs": [],
   "source": [
    "for col in df.columns:\n",
    "    if col.startswith('Category'):\n",
    "        df[col]=df[col].apply(str)\n",
    "    if col.startswith('Fineline'):\n",
    "        df[col]=df[col].apply(str)"
   ]
  },
  {
   "cell_type": "code",
   "execution_count": 78,
   "metadata": {},
   "outputs": [],
   "source": [
    "train.fillna('NaN', inplace=True)\n",
    "x_train, x_eval = train_test_split(df, test_size=0.1, random_state=10, shuffle=True)\n",
    "\n",
    "cat_features = [*list(range(10)), 15]\n",
    "\n",
    "data_train = Pool(x_train.drop(['TripType', 'VisitNumber'], axis=1), \n",
    "                  label=x_train.TripType,\n",
    "                  cat_features=cat_features)\n",
    "\n",
    "data_eval = Pool(x_eval.drop(['TripType', 'VisitNumber'], axis=1), \n",
    "                 label=x_eval.TripType,\n",
    "                 cat_features=cat_features)"
   ]
  },
  {
   "cell_type": "code",
   "execution_count": 46,
   "metadata": {},
   "outputs": [],
   "source": [
    "ctb_params = {\n",
    "    'depth': 4,\n",
    "    'learning_rate': .3,\n",
    "    'l2_leaf_reg': 3,\n",
    "    'loss_function': 'MultiClass',\n",
    "    'verbose': 1,\n",
    "    'thread_count': 12,\n",
    "    'iterations': 100\n",
    "}"
   ]
  },
  {
   "cell_type": "code",
   "execution_count": 47,
   "metadata": {},
   "outputs": [
    {
     "name": "stderr",
     "output_type": "stream",
     "text": [
      "TBB Warning: The number of workers is currently limited to 3. The request for 11 workers is ignored. Further requests for more workers will be silently ignored until the limit changes.\n",
      "\n"
     ]
    },
    {
     "name": "stdout",
     "output_type": "stream",
     "text": [
      "0:\tlearn: 2.5003169\ttest: 2.5023496\tbest: 2.5023496 (0)\ttotal: 19.2s\tremaining: 31m 43s\n",
      "1:\tlearn: 2.1687069\ttest: 2.1689262\tbest: 2.1689262 (1)\ttotal: 40s\tremaining: 32m 39s\n",
      "2:\tlearn: 1.9832113\ttest: 1.9666134\tbest: 1.9666134 (2)\ttotal: 1m\tremaining: 32m 24s\n",
      "3:\tlearn: 1.9312787\ttest: 1.9138151\tbest: 1.9138151 (3)\ttotal: 1m 21s\tremaining: 32m 34s\n",
      "4:\tlearn: 1.8529427\ttest: 1.8356256\tbest: 1.8356256 (4)\ttotal: 1m 41s\tremaining: 32m 2s\n",
      "5:\tlearn: 1.7816361\ttest: 1.7633018\tbest: 1.7633018 (5)\ttotal: 2m 1s\tremaining: 31m 39s\n",
      "6:\tlearn: 1.7063736\ttest: 1.6891190\tbest: 1.6891190 (6)\ttotal: 2m 20s\tremaining: 31m 7s\n",
      "7:\tlearn: 1.6517512\ttest: 1.6333151\tbest: 1.6333151 (7)\ttotal: 2m 39s\tremaining: 30m 39s\n",
      "8:\tlearn: 1.6079575\ttest: 1.5863785\tbest: 1.5863785 (8)\ttotal: 2m 59s\tremaining: 30m 11s\n",
      "9:\tlearn: 1.5607590\ttest: 1.5449389\tbest: 1.5449389 (9)\ttotal: 3m 18s\tremaining: 29m 46s\n",
      "10:\tlearn: 1.5295865\ttest: 1.5129462\tbest: 1.5129462 (10)\ttotal: 3m 37s\tremaining: 29m 20s\n",
      "11:\tlearn: 1.5023356\ttest: 1.4865528\tbest: 1.4865528 (11)\ttotal: 3m 56s\tremaining: 28m 57s\n",
      "12:\tlearn: 1.4759889\ttest: 1.4589769\tbest: 1.4589769 (12)\ttotal: 4m 16s\tremaining: 28m 37s\n",
      "13:\tlearn: 1.4513513\ttest: 1.4349187\tbest: 1.4349187 (13)\ttotal: 4m 35s\tremaining: 28m 15s\n",
      "14:\tlearn: 1.4093920\ttest: 1.3899054\tbest: 1.3899054 (14)\ttotal: 4m 54s\tremaining: 27m 51s\n",
      "15:\tlearn: 1.3940246\ttest: 1.3764160\tbest: 1.3764160 (15)\ttotal: 5m 14s\tremaining: 27m 32s\n",
      "16:\tlearn: 1.3805233\ttest: 1.3635848\tbest: 1.3635848 (16)\ttotal: 5m 34s\tremaining: 27m 13s\n",
      "17:\tlearn: 1.3651301\ttest: 1.3497011\tbest: 1.3497011 (17)\ttotal: 5m 55s\tremaining: 27m 1s\n",
      "18:\tlearn: 1.3448050\ttest: 1.3310756\tbest: 1.3310756 (18)\ttotal: 6m 15s\tremaining: 26m 41s\n",
      "19:\tlearn: 1.3254717\ttest: 1.3147028\tbest: 1.3147028 (19)\ttotal: 6m 35s\tremaining: 26m 22s\n",
      "20:\tlearn: 1.3181286\ttest: 1.3074625\tbest: 1.3074625 (20)\ttotal: 6m 55s\tremaining: 26m 3s\n",
      "21:\tlearn: 1.3033474\ttest: 1.2937173\tbest: 1.2937173 (21)\ttotal: 7m 16s\tremaining: 25m 46s\n",
      "22:\tlearn: 1.2865869\ttest: 1.2764722\tbest: 1.2764722 (22)\ttotal: 7m 37s\tremaining: 25m 31s\n",
      "23:\tlearn: 1.2764250\ttest: 1.2663214\tbest: 1.2663214 (23)\ttotal: 7m 57s\tremaining: 25m 13s\n",
      "24:\tlearn: 1.2675800\ttest: 1.2593734\tbest: 1.2593734 (24)\ttotal: 8m 19s\tremaining: 24m 59s\n",
      "25:\tlearn: 1.2607738\ttest: 1.2529364\tbest: 1.2529364 (25)\ttotal: 8m 40s\tremaining: 24m 42s\n",
      "26:\tlearn: 1.2519358\ttest: 1.2446447\tbest: 1.2446447 (26)\ttotal: 9m 3s\tremaining: 24m 30s\n",
      "27:\tlearn: 1.2456152\ttest: 1.2386894\tbest: 1.2386894 (27)\ttotal: 9m 26s\tremaining: 24m 15s\n",
      "28:\tlearn: 1.2381411\ttest: 1.2320929\tbest: 1.2320929 (28)\ttotal: 9m 46s\tremaining: 23m 56s\n",
      "29:\tlearn: 1.2269570\ttest: 1.2203671\tbest: 1.2203671 (29)\ttotal: 10m 7s\tremaining: 23m 37s\n",
      "30:\tlearn: 1.2213628\ttest: 1.2152439\tbest: 1.2152439 (30)\ttotal: 10m 28s\tremaining: 23m 19s\n",
      "31:\tlearn: 1.2162747\ttest: 1.2105803\tbest: 1.2105803 (31)\ttotal: 10m 49s\tremaining: 23m\n",
      "32:\tlearn: 1.2112866\ttest: 1.2052769\tbest: 1.2052769 (32)\ttotal: 11m 10s\tremaining: 22m 40s\n",
      "33:\tlearn: 1.2000497\ttest: 1.1956024\tbest: 1.1956024 (33)\ttotal: 11m 30s\tremaining: 22m 20s\n",
      "34:\tlearn: 1.1939892\ttest: 1.1883364\tbest: 1.1883364 (34)\ttotal: 11m 51s\tremaining: 22m 1s\n",
      "35:\tlearn: 1.1871308\ttest: 1.1810231\tbest: 1.1810231 (35)\ttotal: 12m 12s\tremaining: 21m 42s\n",
      "36:\tlearn: 1.1841605\ttest: 1.1781205\tbest: 1.1781205 (36)\ttotal: 12m 35s\tremaining: 21m 25s\n",
      "37:\tlearn: 1.1789922\ttest: 1.1732812\tbest: 1.1732812 (37)\ttotal: 12m 55s\tremaining: 21m 6s\n",
      "38:\tlearn: 1.1743804\ttest: 1.1689386\tbest: 1.1689386 (38)\ttotal: 13m 17s\tremaining: 20m 46s\n",
      "39:\tlearn: 1.1680319\ttest: 1.1625572\tbest: 1.1625572 (39)\ttotal: 13m 38s\tremaining: 20m 27s\n",
      "40:\tlearn: 1.1563173\ttest: 1.1507975\tbest: 1.1507975 (40)\ttotal: 13m 59s\tremaining: 20m 7s\n",
      "41:\tlearn: 1.1472898\ttest: 1.1416406\tbest: 1.1416406 (41)\ttotal: 14m 20s\tremaining: 19m 48s\n",
      "42:\tlearn: 1.1418761\ttest: 1.1364382\tbest: 1.1364382 (42)\ttotal: 14m 41s\tremaining: 19m 28s\n",
      "43:\tlearn: 1.1371027\ttest: 1.1333730\tbest: 1.1333730 (43)\ttotal: 15m 2s\tremaining: 19m 9s\n",
      "44:\tlearn: 1.1336865\ttest: 1.1307347\tbest: 1.1307347 (44)\ttotal: 15m 24s\tremaining: 18m 50s\n",
      "45:\tlearn: 1.1268924\ttest: 1.1232199\tbest: 1.1232199 (45)\ttotal: 15m 48s\tremaining: 18m 33s\n",
      "46:\tlearn: 1.1231575\ttest: 1.1206113\tbest: 1.1206113 (46)\ttotal: 16m 10s\tremaining: 18m 14s\n",
      "47:\tlearn: 1.1200062\ttest: 1.1184550\tbest: 1.1184550 (47)\ttotal: 16m 31s\tremaining: 17m 54s\n",
      "48:\tlearn: 1.1160065\ttest: 1.1151888\tbest: 1.1151888 (48)\ttotal: 16m 52s\tremaining: 17m 34s\n",
      "49:\tlearn: 1.1107245\ttest: 1.1097650\tbest: 1.1097650 (49)\ttotal: 17m 14s\tremaining: 17m 14s\n",
      "50:\tlearn: 1.1083436\ttest: 1.1074552\tbest: 1.1074552 (50)\ttotal: 17m 36s\tremaining: 16m 54s\n",
      "51:\tlearn: 1.1052335\ttest: 1.1057256\tbest: 1.1057256 (51)\ttotal: 17m 57s\tremaining: 16m 34s\n",
      "52:\tlearn: 1.1010385\ttest: 1.1023919\tbest: 1.1023919 (52)\ttotal: 18m 19s\tremaining: 16m 15s\n",
      "53:\tlearn: 1.0988073\ttest: 1.1004593\tbest: 1.1004593 (53)\ttotal: 18m 41s\tremaining: 15m 55s\n",
      "54:\tlearn: 1.0955675\ttest: 1.0977436\tbest: 1.0977436 (54)\ttotal: 19m 2s\tremaining: 15m 35s\n",
      "55:\tlearn: 1.0931655\ttest: 1.0962087\tbest: 1.0962087 (55)\ttotal: 19m 25s\tremaining: 15m 15s\n",
      "56:\tlearn: 1.0846477\ttest: 1.0868180\tbest: 1.0868180 (56)\ttotal: 19m 47s\tremaining: 14m 55s\n",
      "57:\tlearn: 1.0812217\ttest: 1.0842444\tbest: 1.0842444 (57)\ttotal: 20m 9s\tremaining: 14m 35s\n",
      "58:\tlearn: 1.0767836\ttest: 1.0805692\tbest: 1.0805692 (58)\ttotal: 20m 31s\tremaining: 14m 15s\n",
      "59:\tlearn: 1.0716801\ttest: 1.0752567\tbest: 1.0752567 (59)\ttotal: 20m 53s\tremaining: 13m 55s\n",
      "60:\tlearn: 1.0689948\ttest: 1.0729903\tbest: 1.0729903 (60)\ttotal: 21m 15s\tremaining: 13m 35s\n",
      "61:\tlearn: 1.0649202\ttest: 1.0696213\tbest: 1.0696213 (61)\ttotal: 21m 42s\tremaining: 13m 18s\n",
      "62:\tlearn: 1.0613892\ttest: 1.0667417\tbest: 1.0667417 (62)\ttotal: 22m 23s\tremaining: 13m 9s\n",
      "63:\tlearn: 1.0600272\ttest: 1.0652697\tbest: 1.0652697 (63)\ttotal: 22m 54s\tremaining: 12m 53s\n",
      "64:\tlearn: 1.0571416\ttest: 1.0627080\tbest: 1.0627080 (64)\ttotal: 23m 22s\tremaining: 12m 35s\n",
      "65:\tlearn: 1.0547364\ttest: 1.0605785\tbest: 1.0605785 (65)\ttotal: 23m 53s\tremaining: 12m 18s\n",
      "66:\tlearn: 1.0529791\ttest: 1.0594927\tbest: 1.0594927 (66)\ttotal: 24m 22s\tremaining: 12m\n",
      "67:\tlearn: 1.0492948\ttest: 1.0563483\tbest: 1.0563483 (67)\ttotal: 24m 51s\tremaining: 11m 41s\n",
      "68:\tlearn: 1.0463738\ttest: 1.0541088\tbest: 1.0541088 (68)\ttotal: 25m 22s\tremaining: 11m 23s\n",
      "69:\tlearn: 1.0439411\ttest: 1.0520114\tbest: 1.0520114 (69)\ttotal: 25m 51s\tremaining: 11m 4s\n",
      "70:\tlearn: 1.0415290\ttest: 1.0504884\tbest: 1.0504884 (70)\ttotal: 26m 20s\tremaining: 10m 45s\n",
      "71:\tlearn: 1.0397583\ttest: 1.0486588\tbest: 1.0486588 (71)\ttotal: 26m 49s\tremaining: 10m 25s\n",
      "72:\tlearn: 1.0367657\ttest: 1.0459610\tbest: 1.0459610 (72)\ttotal: 27m 18s\tremaining: 10m 6s\n",
      "73:\tlearn: 1.0352038\ttest: 1.0451704\tbest: 1.0451704 (73)\ttotal: 28m 12s\tremaining: 9m 54s\n",
      "74:\tlearn: 1.0331350\ttest: 1.0430946\tbest: 1.0430946 (74)\ttotal: 28m 54s\tremaining: 9m 38s\n",
      "75:\tlearn: 1.0315487\ttest: 1.0419671\tbest: 1.0419671 (75)\ttotal: 29m 35s\tremaining: 9m 20s\n",
      "76:\tlearn: 1.0286367\ttest: 1.0394386\tbest: 1.0394386 (76)\ttotal: 30m 1s\tremaining: 8m 57s\n",
      "77:\tlearn: 1.0269718\ttest: 1.0377279\tbest: 1.0377279 (77)\ttotal: 30m 25s\tremaining: 8m 34s\n",
      "78:\tlearn: 1.0264379\ttest: 1.0374975\tbest: 1.0374975 (78)\ttotal: 30m 50s\tremaining: 8m 11s\n",
      "79:\tlearn: 1.0254383\ttest: 1.0364091\tbest: 1.0364091 (79)\ttotal: 31m 12s\tremaining: 7m 48s\n",
      "80:\tlearn: 1.0245575\ttest: 1.0356005\tbest: 1.0356005 (80)\ttotal: 31m 36s\tremaining: 7m 24s\n",
      "81:\tlearn: 1.0208074\ttest: 1.0323972\tbest: 1.0323972 (81)\ttotal: 31m 59s\tremaining: 7m 1s\n",
      "82:\tlearn: 1.0189833\ttest: 1.0313264\tbest: 1.0313264 (82)\ttotal: 32m 21s\tremaining: 6m 37s\n",
      "83:\tlearn: 1.0187331\ttest: 1.0311633\tbest: 1.0311633 (83)\ttotal: 32m 44s\tremaining: 6m 14s\n",
      "84:\tlearn: 1.0180017\ttest: 1.0306803\tbest: 1.0306803 (84)\ttotal: 33m 6s\tremaining: 5m 50s\n",
      "85:\tlearn: 1.0157915\ttest: 1.0293787\tbest: 1.0293787 (85)\ttotal: 33m 28s\tremaining: 5m 27s\n",
      "86:\tlearn: 1.0141607\ttest: 1.0285778\tbest: 1.0285778 (86)\ttotal: 33m 51s\tremaining: 5m 3s\n",
      "87:\tlearn: 1.0098456\ttest: 1.0236930\tbest: 1.0236930 (87)\ttotal: 34m 13s\tremaining: 4m 39s\n",
      "88:\tlearn: 1.0086300\ttest: 1.0225413\tbest: 1.0225413 (88)\ttotal: 34m 35s\tremaining: 4m 16s\n",
      "89:\tlearn: 1.0075344\ttest: 1.0219727\tbest: 1.0219727 (89)\ttotal: 34m 58s\tremaining: 3m 53s\n",
      "90:\tlearn: 1.0068755\ttest: 1.0212340\tbest: 1.0212340 (90)\ttotal: 35m 20s\tremaining: 3m 29s\n",
      "91:\tlearn: 1.0047642\ttest: 1.0195326\tbest: 1.0195326 (91)\ttotal: 35m 44s\tremaining: 3m 6s\n",
      "92:\tlearn: 1.0032390\ttest: 1.0182526\tbest: 1.0182526 (92)\ttotal: 36m 6s\tremaining: 2m 43s\n",
      "93:\tlearn: 1.0013494\ttest: 1.0171458\tbest: 1.0171458 (93)\ttotal: 36m 28s\tremaining: 2m 19s\n",
      "94:\tlearn: 1.0010556\ttest: 1.0169773\tbest: 1.0169773 (94)\ttotal: 36m 51s\tremaining: 1m 56s\n",
      "95:\tlearn: 1.0002817\ttest: 1.0166992\tbest: 1.0166992 (95)\ttotal: 37m 13s\tremaining: 1m 33s\n",
      "96:\tlearn: 0.9998320\ttest: 1.0165175\tbest: 1.0165175 (96)\ttotal: 37m 36s\tremaining: 1m 9s\n",
      "97:\tlearn: 0.9992700\ttest: 1.0160388\tbest: 1.0160388 (97)\ttotal: 37m 59s\tremaining: 46.5s\n",
      "98:\tlearn: 0.9985497\ttest: 1.0155789\tbest: 1.0155789 (98)\ttotal: 38m 21s\tremaining: 23.2s\n",
      "99:\tlearn: 0.9974930\ttest: 1.0145020\tbest: 1.0145020 (99)\ttotal: 38m 43s\tremaining: 0us\n",
      "\n",
      "bestTest = 1.014501969\n",
      "bestIteration = 99\n",
      "\n"
     ]
    },
    {
     "data": {
      "text/plain": [
       "<catboost.core.CatBoostClassifier at 0x11e397a30>"
      ]
     },
     "execution_count": 47,
     "metadata": {},
     "output_type": "execute_result"
    }
   ],
   "source": [
    "model = CatBoostClassifier(**ctb_params)\n",
    "model.fit(X = data_train, silent=False, eval_set=data_eval)"
   ]
  },
  {
   "cell_type": "code",
   "execution_count": null,
   "metadata": {},
   "outputs": [],
   "source": [
    "# model.save_model('catboost_depth=4_lr=.3_l2=3')\n",
    "# model = CatBoostClassifier()"
   ]
  },
  {
   "cell_type": "code",
   "execution_count": 111,
   "metadata": {},
   "outputs": [],
   "source": [
    "from sklearn.metrics import accuracy_score"
   ]
  },
  {
   "cell_type": "code",
   "execution_count": 112,
   "metadata": {},
   "outputs": [
    {
     "data": {
      "text/plain": [
       "0.709764708614963"
      ]
     },
     "execution_count": 112,
     "metadata": {},
     "output_type": "execute_result"
    }
   ],
   "source": [
    "y_pred = model.predict(data_train)\n",
    "accuracy_score(data_train.get_label(), y_pred)"
   ]
  },
  {
   "cell_type": "code",
   "execution_count": 113,
   "metadata": {},
   "outputs": [
    {
     "data": {
      "text/plain": [
       "0.6914715719063546"
      ]
     },
     "execution_count": 113,
     "metadata": {},
     "output_type": "execute_result"
    }
   ],
   "source": [
    "y_pred = model.predict(data_eval)\n",
    "accuracy_score(data_eval.get_label(), y_pred)"
   ]
  },
  {
   "cell_type": "markdown",
   "metadata": {},
   "source": [
    "# 7. Compare `xgboost`, `catboost` and `lightgbm`\n",
    "\n",
    "Ваша задача состоит в том чтобы познакомиться с 3 имплементациями градиентного бустинга. Перед вами нет задачи выбить \"наилучшее\" качество. \n",
    "\n",
    "1. Отредактируйте п.4. Разделите данные `train.csv` на тренировочную и тестовую выборки в отношении 8 к 2.\n",
    "\n",
    "2. Запустите модели `xgboost`, `lightgbm` и `catboost` с гиперпараметрами предложенными выше для `catboost`:\n",
    "```\n",
    "ctb_params = {\n",
    "    'depth': 4,\n",
    "    'learning_rate': .3,\n",
    "    'loss_function': 'MultiClass',\n",
    "    'iterations': 100\n",
    "}\n",
    "```\n",
    "остальные гиперпараметры моделей используйте \"по умолчанию\". Сравните качество полученных моделей на \"внутренней\" тестовой выборке из вопроса 1 в терминах логистического лосса и в терминах мультиклассовой точности (multi-class accuracy). \n",
    "    \n",
    "На catboost получили качество 0.33612 на train и 0.35647 на test  \n",
    "На xgboost получили качество 0.3744 на train и 0.268 на test   \n",
    "На lightgbm получили самое плохое качество 0.005 на train\n",
    "  \n",
    "3. Перечислите какие гиперпараметры для регуляризации существуют в трех имплементациях градиентного бустинга. Какие из них повторяются, а какие отличаются? \n",
    "  \n",
    "XGBoost:  \n",
    "gamma (alias min_split_loss): Минимальное снижение значения функции потерь, необходимое для дальнейшего разделения узла дерева.  \n",
    "alpha (alias reg_alpha): L1 регуляризация на весах листьев.  \n",
    "lambda (alias reg_lambda): L2 регуляризация на весах листьев.  \n",
    "colsample_bytree: Доля признаков, используемых для построения каждого дерева (аналогично subsample в других реализациях).  \n",
    "  \n",
    "CatBoost:  \n",
    "l2_leaf_reg: L2 регуляризация на весах листьев.  \n",
    "reg_lambda: L2 регуляризация на весах листьев (аналогично l2_leaf_reg).  \n",
    "max_ctr_complexity: Максимальная сложность контрольного дерева (для категориальных признаков).  \n",
    "subsample: Доля объектов, используемых для обучения каждого дерева (аналогично colsample_bytree).    \n",
    "  \n",
    "LightGBM:  \n",
    "lambda_l1 (alias reg_alpha): L1 регуляризация на весах листьев.  \n",
    "lambda_l2 (alias reg_lambda): L2 регуляризация на весах листьев.  \n",
    "min_gain_to_split: Минимальный прирост для разделения узла дерева.  \n",
    "bagging_fraction (alias subsample): Доля объектов, используемых для обучения каждого дерева (аналогично subsample в CatBoost).  \n",
    "   \n",
    "Некоторые гиперпараметры имеют аналоги в других реализациях, например, L1 и L2 регуляризация (reg_alpha и reg_lambda в XGBoost, l2_leaf_reg в CatBoost, lambda_l1 и lambda_l2 в LightGBM), а также параметры, управляющие использованием случайности в построении деревьев (subsample и colsample_bytree в XGBoost и CatBoost, bagging_fraction в LightGBM).\n",
    "\n",
    "4. Повторите п.2, но теперь в качестве гиперпараметров в моделях используйте параметры по-умолчанию из `lightgbm`:\n",
    "`num_leaves` = 31, `learning_rate` = 0.1, `n_estimators`= 100. Сравните результаты с результатами из вопроса 2.  \n",
    "\n",
    "На catboost получили качество 0.3587 на train и 0.3526 на test  (обучила на другом компьютере, так как очень долго)  \n",
    "На xgboost получили качество 0.3757 на train и 0.275 на test   \n",
    "На lightgbm получили качество 0.272 на train \n",
    "\n",
    "5. (по возможности) сделайте предсказание лучшей из моделей на тестовой выборке (test.csv) для которой у вас нет столбца `TripType`, засабмитьте результат на kaggle и сравните оценки logloss между внутренним и отложенным тестом, прокомментируйте результат."
   ]
  },
  {
   "cell_type": "code",
   "execution_count": 146,
   "metadata": {},
   "outputs": [
    {
     "name": "stdout",
     "output_type": "stream",
     "text": [
      "Collecting lightgbm\n",
      "  Using cached lightgbm-4.3.0-py3-none-macosx_10_15_x86_64.macosx_11_6_x86_64.macosx_12_5_x86_64.whl (1.8 MB)\n",
      "Requirement already satisfied: numpy in /Library/Frameworks/Python.framework/Versions/3.10/lib/python3.10/site-packages (from lightgbm) (1.23.1)\n",
      "Requirement already satisfied: scipy in /Library/Frameworks/Python.framework/Versions/3.10/lib/python3.10/site-packages (from lightgbm) (1.10.1)\n",
      "Installing collected packages: lightgbm\n",
      "Successfully installed lightgbm-4.3.0\n",
      "\n",
      "\u001b[1m[\u001b[0m\u001b[34;49mnotice\u001b[0m\u001b[1;39;49m]\u001b[0m\u001b[39;49m A new release of pip is available: \u001b[0m\u001b[31;49m23.1.2\u001b[0m\u001b[39;49m -> \u001b[0m\u001b[32;49m24.0\u001b[0m\n",
      "\u001b[1m[\u001b[0m\u001b[34;49mnotice\u001b[0m\u001b[1;39;49m]\u001b[0m\u001b[39;49m To update, run: \u001b[0m\u001b[32;49mpip install --upgrade pip\u001b[0m\n"
     ]
    }
   ],
   "source": [
    "#!pip install xgboost\n",
    "# !pip install lightgbm"
   ]
  },
  {
   "cell_type": "code",
   "execution_count": 79,
   "metadata": {},
   "outputs": [],
   "source": [
    "import xgboost as xgb\n",
    "import lightgbm as lgb\n",
    "from xgboost import XGBClassifier\n",
    "from lightgbm import LGBMClassifier"
   ]
  },
  {
   "cell_type": "code",
   "execution_count": 80,
   "metadata": {},
   "outputs": [],
   "source": [
    "train = pd.read_csv('train.csv')\n",
    "x_train, x_eval = train_test_split(train, test_size=0.2, random_state=10, shuffle=True)"
   ]
  },
  {
   "cell_type": "code",
   "execution_count": 81,
   "metadata": {},
   "outputs": [],
   "source": [
    "ctb_params = {\n",
    "    'depth': 4,\n",
    "    'learning_rate': .3,\n",
    "    'loss_function': 'MultiClass',\n",
    "    'iterations': 100\n",
    "}"
   ]
  },
  {
   "cell_type": "code",
   "execution_count": 83,
   "metadata": {},
   "outputs": [],
   "source": [
    "cat_features = ['Weekday', 'DepartmentDescription']\n",
    "x_train.fillna('NaN', inplace=True)\n",
    "x_eval.fillna('NaN', inplace=True)\n",
    "\n",
    "\n",
    "data_train = Pool(x_train.drop(['TripType'], axis=1), \n",
    "                  label=x_train.TripType,\n",
    "                  cat_features=cat_features)\n",
    "\n",
    "data_eval = Pool(x_eval.drop(['TripType'], axis=1), \n",
    "                 label=x_eval.TripType,\n",
    "                 cat_features=cat_features)"
   ]
  },
  {
   "cell_type": "code",
   "execution_count": 274,
   "metadata": {},
   "outputs": [
    {
     "name": "stdout",
     "output_type": "stream",
     "text": [
      "0:\tlearn: 2.8912846\ttest: 2.9021981\tbest: 2.9021981 (0)\ttotal: 28.8s\tremaining: 47m 32s\n",
      "1:\tlearn: 2.7713441\ttest: 2.7818981\tbest: 2.7818981 (1)\ttotal: 57.2s\tremaining: 46m 41s\n",
      "2:\tlearn: 2.6065155\ttest: 2.6152482\tbest: 2.6152482 (2)\ttotal: 1m 30s\tremaining: 48m 31s\n",
      "3:\tlearn: 2.5012643\ttest: 2.5095900\tbest: 2.5095900 (3)\ttotal: 2m 3s\tremaining: 49m 31s\n",
      "4:\tlearn: 2.4303574\ttest: 2.4384880\tbest: 2.4384880 (4)\ttotal: 2m 32s\tremaining: 48m 11s\n",
      "5:\tlearn: 2.3929608\ttest: 2.4002183\tbest: 2.4002183 (5)\ttotal: 3m 13s\tremaining: 50m 37s\n",
      "6:\tlearn: 2.3735100\ttest: 2.3811972\tbest: 2.3811972 (6)\ttotal: 3m 45s\tremaining: 49m 56s\n",
      "7:\tlearn: 2.3534722\ttest: 2.3594785\tbest: 2.3594785 (7)\ttotal: 4m 19s\tremaining: 49m 45s\n",
      "8:\tlearn: 2.3379867\ttest: 2.3435827\tbest: 2.3435827 (8)\ttotal: 4m 49s\tremaining: 48m 48s\n",
      "9:\tlearn: 2.3260849\ttest: 2.3316365\tbest: 2.3316365 (9)\ttotal: 5m 43s\tremaining: 51m 34s\n",
      "10:\tlearn: 2.3140263\ttest: 2.3195039\tbest: 2.3195039 (10)\ttotal: 6m 21s\tremaining: 51m 27s\n",
      "11:\tlearn: 2.3038014\ttest: 2.3093682\tbest: 2.3093682 (11)\ttotal: 6m 59s\tremaining: 51m 16s\n",
      "12:\tlearn: 2.2955259\ttest: 2.3015409\tbest: 2.3015409 (12)\ttotal: 7m 34s\tremaining: 50m 44s\n",
      "13:\tlearn: 2.2897215\ttest: 2.2957349\tbest: 2.2957349 (13)\ttotal: 8m 11s\tremaining: 50m 21s\n",
      "14:\tlearn: 2.2837995\ttest: 2.2901832\tbest: 2.2901832 (14)\ttotal: 8m 56s\tremaining: 50m 38s\n",
      "15:\tlearn: 2.2786574\ttest: 2.2852894\tbest: 2.2852894 (15)\ttotal: 9m 37s\tremaining: 50m 33s\n",
      "16:\tlearn: 2.2750682\ttest: 2.2818029\tbest: 2.2818029 (16)\ttotal: 10m 17s\tremaining: 50m 16s\n",
      "17:\tlearn: 2.2660073\ttest: 2.2717423\tbest: 2.2717423 (17)\ttotal: 11m 5s\tremaining: 50m 31s\n",
      "18:\tlearn: 2.2631072\ttest: 2.2689190\tbest: 2.2689190 (18)\ttotal: 11m 49s\tremaining: 50m 26s\n",
      "19:\tlearn: 2.2575121\ttest: 2.2631393\tbest: 2.2631393 (19)\ttotal: 12m 32s\tremaining: 50m 10s\n",
      "20:\tlearn: 2.2539588\ttest: 2.2596831\tbest: 2.2596831 (20)\ttotal: 13m 14s\tremaining: 49m 49s\n",
      "21:\tlearn: 2.2519421\ttest: 2.2580025\tbest: 2.2580025 (21)\ttotal: 13m 58s\tremaining: 49m 34s\n",
      "22:\tlearn: 2.2469455\ttest: 2.2526219\tbest: 2.2526219 (22)\ttotal: 14m 40s\tremaining: 49m 7s\n",
      "23:\tlearn: 2.2444062\ttest: 2.2502860\tbest: 2.2502860 (23)\ttotal: 15m 27s\tremaining: 48m 56s\n",
      "24:\tlearn: 2.2428594\ttest: 2.2488440\tbest: 2.2488440 (24)\ttotal: 16m 15s\tremaining: 48m 45s\n",
      "25:\tlearn: 2.2399920\ttest: 2.2465314\tbest: 2.2465314 (25)\ttotal: 16m 56s\tremaining: 48m 12s\n",
      "26:\tlearn: 2.2389512\ttest: 2.2456122\tbest: 2.2456122 (26)\ttotal: 17m 37s\tremaining: 47m 37s\n",
      "27:\tlearn: 2.2364747\ttest: 2.2434326\tbest: 2.2434326 (27)\ttotal: 18m 17s\tremaining: 47m 1s\n",
      "28:\tlearn: 2.2330294\ttest: 2.2399418\tbest: 2.2399418 (28)\ttotal: 19m 1s\tremaining: 46m 35s\n",
      "29:\tlearn: 2.2317989\ttest: 2.2388772\tbest: 2.2388772 (29)\ttotal: 19m 42s\tremaining: 45m 59s\n",
      "30:\tlearn: 2.2310346\ttest: 2.2380107\tbest: 2.2380107 (30)\ttotal: 20m 23s\tremaining: 45m 22s\n",
      "31:\tlearn: 2.2292928\ttest: 2.2365013\tbest: 2.2365013 (31)\ttotal: 21m 3s\tremaining: 44m 45s\n",
      "32:\tlearn: 2.2266610\ttest: 2.2358339\tbest: 2.2358339 (32)\ttotal: 21m 46s\tremaining: 44m 13s\n",
      "33:\tlearn: 2.2260297\ttest: 2.2352507\tbest: 2.2352507 (33)\ttotal: 22m 46s\tremaining: 44m 12s\n",
      "34:\tlearn: 2.2245529\ttest: 2.2339529\tbest: 2.2339529 (34)\ttotal: 23m 42s\tremaining: 44m 2s\n",
      "35:\tlearn: 2.2234973\ttest: 2.2332009\tbest: 2.2332009 (35)\ttotal: 24m 20s\tremaining: 43m 17s\n",
      "36:\tlearn: 2.2217121\ttest: 2.2315726\tbest: 2.2315726 (36)\ttotal: 25m 3s\tremaining: 42m 39s\n",
      "37:\tlearn: 2.2178368\ttest: 2.2276590\tbest: 2.2276590 (37)\ttotal: 26m 11s\tremaining: 42m 43s\n",
      "38:\tlearn: 2.2168496\ttest: 2.2266892\tbest: 2.2266892 (38)\ttotal: 27m 13s\tremaining: 42m 34s\n",
      "39:\tlearn: 2.2161217\ttest: 2.2260765\tbest: 2.2260765 (39)\ttotal: 27m 53s\tremaining: 41m 49s\n",
      "40:\tlearn: 2.2151128\ttest: 2.2252345\tbest: 2.2252345 (40)\ttotal: 28m 41s\tremaining: 41m 16s\n",
      "41:\tlearn: 2.2143795\ttest: 2.2245746\tbest: 2.2245746 (41)\ttotal: 29m 39s\tremaining: 40m 57s\n",
      "42:\tlearn: 2.2138748\ttest: 2.2242161\tbest: 2.2242161 (42)\ttotal: 30m 45s\tremaining: 40m 46s\n",
      "43:\tlearn: 2.2127419\ttest: 2.2231233\tbest: 2.2231233 (43)\ttotal: 31m 26s\tremaining: 40m\n",
      "44:\tlearn: 2.2117313\ttest: 2.2222393\tbest: 2.2222393 (44)\ttotal: 32m 4s\tremaining: 39m 12s\n",
      "45:\tlearn: 2.2110001\ttest: 2.2215438\tbest: 2.2215438 (45)\ttotal: 32m 45s\tremaining: 38m 27s\n",
      "46:\tlearn: 2.2096999\ttest: 2.2202953\tbest: 2.2202953 (46)\ttotal: 33m 23s\tremaining: 37m 39s\n",
      "47:\tlearn: 2.2085771\ttest: 2.2192778\tbest: 2.2192778 (47)\ttotal: 34m 7s\tremaining: 36m 58s\n",
      "48:\tlearn: 2.2071377\ttest: 2.2179880\tbest: 2.2179880 (48)\ttotal: 34m 46s\tremaining: 36m 12s\n",
      "49:\tlearn: 2.2061429\ttest: 2.2170894\tbest: 2.2170894 (49)\ttotal: 35m 30s\tremaining: 35m 30s\n",
      "50:\tlearn: 2.2051239\ttest: 2.2161354\tbest: 2.2161354 (50)\ttotal: 36m 14s\tremaining: 34m 49s\n",
      "51:\tlearn: 2.2041135\ttest: 2.2152207\tbest: 2.2152207 (51)\ttotal: 36m 48s\tremaining: 33m 58s\n",
      "52:\tlearn: 2.2032335\ttest: 2.2142063\tbest: 2.2142063 (52)\ttotal: 37m 21s\tremaining: 33m 7s\n",
      "53:\tlearn: 2.2023880\ttest: 2.2136182\tbest: 2.2136182 (53)\ttotal: 38m 31s\tremaining: 32m 48s\n",
      "54:\tlearn: 2.2021275\ttest: 2.2134760\tbest: 2.2134760 (54)\ttotal: 39m 3s\tremaining: 31m 57s\n",
      "55:\tlearn: 2.2014307\ttest: 2.2126481\tbest: 2.2126481 (55)\ttotal: 39m 29s\tremaining: 31m 2s\n",
      "56:\tlearn: 2.2008302\ttest: 2.2121202\tbest: 2.2121202 (56)\ttotal: 39m 55s\tremaining: 30m 6s\n",
      "57:\tlearn: 2.2001899\ttest: 2.2116116\tbest: 2.2116116 (57)\ttotal: 40m 19s\tremaining: 29m 12s\n",
      "58:\tlearn: 2.1997967\ttest: 2.2112316\tbest: 2.2112316 (58)\ttotal: 40m 43s\tremaining: 28m 18s\n",
      "59:\tlearn: 2.1995098\ttest: 2.2110513\tbest: 2.2110513 (59)\ttotal: 41m 9s\tremaining: 27m 26s\n",
      "60:\tlearn: 2.1987311\ttest: 2.2104464\tbest: 2.2104464 (60)\ttotal: 41m 32s\tremaining: 26m 33s\n",
      "61:\tlearn: 2.1977602\ttest: 2.2097340\tbest: 2.2097340 (61)\ttotal: 41m 56s\tremaining: 25m 42s\n",
      "62:\tlearn: 2.1974117\ttest: 2.2095049\tbest: 2.2095049 (62)\ttotal: 42m 23s\tremaining: 24m 53s\n",
      "63:\tlearn: 2.1958344\ttest: 2.2079310\tbest: 2.2079310 (63)\ttotal: 42m 49s\tremaining: 24m 5s\n",
      "64:\tlearn: 2.1949994\ttest: 2.2072797\tbest: 2.2072797 (64)\ttotal: 43m 17s\tremaining: 23m 18s\n",
      "65:\tlearn: 2.1945566\ttest: 2.2068842\tbest: 2.2068842 (65)\ttotal: 43m 47s\tremaining: 22m 33s\n",
      "66:\tlearn: 2.1934108\ttest: 2.2058332\tbest: 2.2058332 (66)\ttotal: 44m 16s\tremaining: 21m 48s\n",
      "67:\tlearn: 2.1929878\ttest: 2.2055075\tbest: 2.2055075 (67)\ttotal: 44m 46s\tremaining: 21m 4s\n",
      "68:\tlearn: 2.1928205\ttest: 2.2053212\tbest: 2.2053212 (68)\ttotal: 45m 13s\tremaining: 20m 19s\n",
      "69:\tlearn: 2.1921073\ttest: 2.2046778\tbest: 2.2046778 (69)\ttotal: 45m 41s\tremaining: 19m 34s\n",
      "70:\tlearn: 2.1915070\ttest: 2.2041840\tbest: 2.2041840 (70)\ttotal: 46m 13s\tremaining: 18m 52s\n",
      "71:\tlearn: 2.1905384\ttest: 2.2032499\tbest: 2.2032499 (71)\ttotal: 46m 42s\tremaining: 18m 9s\n",
      "72:\tlearn: 2.1901533\ttest: 2.2028702\tbest: 2.2028702 (72)\ttotal: 47m 11s\tremaining: 17m 27s\n",
      "73:\tlearn: 2.1895715\ttest: 2.2024656\tbest: 2.2024656 (73)\ttotal: 47m 43s\tremaining: 16m 45s\n",
      "74:\tlearn: 2.1892612\ttest: 2.2022942\tbest: 2.2022942 (74)\ttotal: 48m 20s\tremaining: 16m 6s\n",
      "75:\tlearn: 2.1888571\ttest: 2.2018819\tbest: 2.2018819 (75)\ttotal: 48m 53s\tremaining: 15m 26s\n",
      "76:\tlearn: 2.1881215\ttest: 2.2013834\tbest: 2.2013834 (76)\ttotal: 49m 29s\tremaining: 14m 46s\n",
      "77:\tlearn: 2.1877640\ttest: 2.2011053\tbest: 2.2011053 (77)\ttotal: 50m 2s\tremaining: 14m 6s\n",
      "78:\tlearn: 2.1868315\ttest: 2.2004262\tbest: 2.2004262 (78)\ttotal: 50m 34s\tremaining: 13m 26s\n",
      "79:\tlearn: 2.1863441\ttest: 2.2000248\tbest: 2.2000248 (79)\ttotal: 51m 7s\tremaining: 12m 46s\n",
      "80:\tlearn: 2.1859522\ttest: 2.1997199\tbest: 2.1997199 (80)\ttotal: 51m 37s\tremaining: 12m 6s\n",
      "81:\tlearn: 2.1854797\ttest: 2.1992654\tbest: 2.1992654 (81)\ttotal: 52m 8s\tremaining: 11m 26s\n",
      "82:\tlearn: 2.1851539\ttest: 2.1989721\tbest: 2.1989721 (82)\ttotal: 52m 56s\tremaining: 10m 50s\n",
      "83:\tlearn: 2.1846689\ttest: 2.1985583\tbest: 2.1985583 (83)\ttotal: 53m 28s\tremaining: 10m 11s\n",
      "84:\tlearn: 2.1843685\ttest: 2.1984288\tbest: 2.1984288 (84)\ttotal: 53m 59s\tremaining: 9m 31s\n",
      "85:\tlearn: 2.1841794\ttest: 2.1982692\tbest: 2.1982692 (85)\ttotal: 54m 33s\tremaining: 8m 52s\n",
      "86:\tlearn: 2.1837438\ttest: 2.1980343\tbest: 2.1980343 (86)\ttotal: 55m 5s\tremaining: 8m 13s\n",
      "87:\tlearn: 2.1833985\ttest: 2.1979145\tbest: 2.1979145 (87)\ttotal: 55m 37s\tremaining: 7m 35s\n",
      "88:\tlearn: 2.1830796\ttest: 2.1976561\tbest: 2.1976561 (88)\ttotal: 56m 7s\tremaining: 6m 56s\n",
      "89:\tlearn: 2.1824037\ttest: 2.1970804\tbest: 2.1970804 (89)\ttotal: 56m 41s\tremaining: 6m 17s\n",
      "90:\tlearn: 2.1817843\ttest: 2.1966538\tbest: 2.1966538 (90)\ttotal: 57m 12s\tremaining: 5m 39s\n",
      "91:\tlearn: 2.1814819\ttest: 2.1963774\tbest: 2.1963774 (91)\ttotal: 57m 47s\tremaining: 5m 1s\n",
      "92:\tlearn: 2.1812541\ttest: 2.1962754\tbest: 2.1962754 (92)\ttotal: 58m 19s\tremaining: 4m 23s\n",
      "93:\tlearn: 2.1810084\ttest: 2.1960824\tbest: 2.1960824 (93)\ttotal: 58m 49s\tremaining: 3m 45s\n",
      "94:\tlearn: 2.1807012\ttest: 2.1958328\tbest: 2.1958328 (94)\ttotal: 59m 22s\tremaining: 3m 7s\n",
      "95:\tlearn: 2.1803063\ttest: 2.1956439\tbest: 2.1956439 (95)\ttotal: 59m 52s\tremaining: 2m 29s\n",
      "96:\tlearn: 2.1798926\ttest: 2.1954519\tbest: 2.1954519 (96)\ttotal: 1h 30s\tremaining: 1m 52s\n",
      "97:\tlearn: 2.1796680\ttest: 2.1952914\tbest: 2.1952914 (97)\ttotal: 1h 1m 5s\tremaining: 1m 14s\n",
      "98:\tlearn: 2.1792558\ttest: 2.1949932\tbest: 2.1949932 (98)\ttotal: 1h 1m 49s\tremaining: 37.5s\n",
      "99:\tlearn: 2.1790438\ttest: 2.1948214\tbest: 2.1948214 (99)\ttotal: 1h 2m 22s\tremaining: 0us\n",
      "\n",
      "bestTest = 2.19482136\n",
      "bestIteration = 99\n",
      "\n"
     ]
    },
    {
     "data": {
      "text/plain": [
       "<catboost.core.CatBoostClassifier at 0x14284fd60>"
      ]
     },
     "execution_count": 274,
     "metadata": {},
     "output_type": "execute_result"
    }
   ],
   "source": [
    "model_1_cat = CatBoostClassifier(**ctb_params)\n",
    "model_1_cat.fit(X = data_train, silent=False, eval_set=data_eval)"
   ]
  },
  {
   "cell_type": "code",
   "execution_count": 275,
   "metadata": {},
   "outputs": [
    {
     "data": {
      "text/plain": [
       "0.36127215088391035"
      ]
     },
     "execution_count": 275,
     "metadata": {},
     "output_type": "execute_result"
    }
   ],
   "source": [
    "y_pred = model_1_cat.predict(data_train)\n",
    "accuracy_score(data_train.get_label(), y_pred)"
   ]
  },
  {
   "cell_type": "code",
   "execution_count": 277,
   "metadata": {},
   "outputs": [
    {
     "data": {
      "text/plain": [
       "0.35647665190748856"
      ]
     },
     "execution_count": 277,
     "metadata": {},
     "output_type": "execute_result"
    }
   ],
   "source": [
    "y_pred = model_1_cat.predict(data_eval)\n",
    "accuracy_score(data_eval.get_label(), y_pred)"
   ]
  },
  {
   "cell_type": "code",
   "execution_count": 9,
   "metadata": {},
   "outputs": [],
   "source": [
    "x_new = x_train.drop(['TripType', 'VisitNumber'], axis=1)\n",
    "y_new = x_train.TripType\n",
    "x_eval_new = x_eval.drop(['TripType', 'VisitNumber'], axis=1)\n",
    "y_eval_new = x_eval.TripType"
   ]
  },
  {
   "cell_type": "code",
   "execution_count": 318,
   "metadata": {},
   "outputs": [
    {
     "data": {
      "text/plain": [
       "(517643,)"
      ]
     },
     "execution_count": 318,
     "metadata": {},
     "output_type": "execute_result"
    }
   ],
   "source": [
    "pd.to_numeric(x_new['FinelineNumber'], errors='coerce').shape"
   ]
  },
  {
   "cell_type": "code",
   "execution_count": 319,
   "metadata": {},
   "outputs": [
    {
     "data": {
      "text/plain": [
       "3299"
      ]
     },
     "execution_count": 319,
     "metadata": {},
     "output_type": "execute_result"
    }
   ],
   "source": [
    "pd.to_numeric(x_new['FinelineNumber'], errors='coerce').isnull().sum()"
   ]
  },
  {
   "cell_type": "code",
   "execution_count": 10,
   "metadata": {},
   "outputs": [],
   "source": [
    "mode_value = pd.to_numeric(x_new['FinelineNumber'], errors='coerce').mode()"
   ]
  },
  {
   "cell_type": "code",
   "execution_count": 11,
   "metadata": {},
   "outputs": [],
   "source": [
    "x1=pd.to_numeric(x_new['FinelineNumber'], errors='coerce').fillna(mode_value)"
   ]
  },
  {
   "cell_type": "code",
   "execution_count": 12,
   "metadata": {},
   "outputs": [],
   "source": [
    "mode_value_1 =pd.to_numeric(x_new['Upc'], errors='coerce').mode()"
   ]
  },
  {
   "cell_type": "code",
   "execution_count": 13,
   "metadata": {},
   "outputs": [],
   "source": [
    "x2 = pd.to_numeric(x_new['Upc'], errors='coerce').fillna(mode_value_1)"
   ]
  },
  {
   "cell_type": "code",
   "execution_count": 349,
   "metadata": {},
   "outputs": [
    {
     "data": {
      "text/plain": [
       "0"
      ]
     },
     "execution_count": 349,
     "metadata": {},
     "output_type": "execute_result"
    }
   ],
   "source": [
    "x2.isnull().sum()"
   ]
  },
  {
   "cell_type": "code",
   "execution_count": null,
   "metadata": {},
   "outputs": [],
   "source": [
    "model_lgbm = LGBMClassifier(max_depth= 4, learning_rate= .3)\n",
    "x_new['Weekday'] = x_new['Weekday'].astype('category')\n",
    "x_new['DepartmentDescription'] = x_new['DepartmentDescription'].astype('category')\n",
    "x_new['FinelineNumber'] = x1\n",
    "x_new['Upc'] = x2\n",
    "model_lgbm.fit(x_new, y_new,eval_metric='multi_logloss', categorical_feature=['Weekday', 'DepartmentDescription'])"
   ]
  },
  {
   "cell_type": "code",
   "execution_count": 341,
   "metadata": {},
   "outputs": [
    {
     "data": {
      "text/plain": [
       "0.05522725121367429"
      ]
     },
     "execution_count": 341,
     "metadata": {},
     "output_type": "execute_result"
    }
   ],
   "source": [
    "y_pred = model_lgbm.predict(x_new)\n",
    "accuracy_score(y_new, y_pred)"
   ]
  },
  {
   "cell_type": "code",
   "execution_count": 7,
   "metadata": {},
   "outputs": [],
   "source": [
    "x_new_1 = x_train.drop(['TripType', 'VisitNumber'], axis=1)\n",
    "y_new_1 = x_train.TripType\n",
    "x_eval_new_1 = x_eval.drop(['TripType', 'VisitNumber'], axis=1)\n",
    "y_eval_new_1 = x_eval.TripType"
   ]
  },
  {
   "cell_type": "code",
   "execution_count": 8,
   "metadata": {},
   "outputs": [],
   "source": [
    "from sklearn.preprocessing import LabelEncoder\n",
    "le = LabelEncoder()\n",
    "y_new_1 = le.fit_transform(y_new_1)\n",
    "y_eval_new_1 = le.fit_transform(y_eval_new_1)"
   ]
  },
  {
   "cell_type": "code",
   "execution_count": 330,
   "metadata": {},
   "outputs": [
    {
     "name": "stderr",
     "output_type": "stream",
     "text": [
      "/Library/Frameworks/Python.framework/Versions/3.10/lib/python3.10/site-packages/xgboost/sklearn.py:889: UserWarning: `eval_metric` in `fit` method is deprecated for better compatibility with scikit-learn, use `eval_metric` in constructor or`set_params` instead.\n",
      "  warnings.warn(\n"
     ]
    },
    {
     "data": {
      "text/html": [
       "<style>#sk-container-id-6 {color: black;background-color: white;}#sk-container-id-6 pre{padding: 0;}#sk-container-id-6 div.sk-toggleable {background-color: white;}#sk-container-id-6 label.sk-toggleable__label {cursor: pointer;display: block;width: 100%;margin-bottom: 0;padding: 0.3em;box-sizing: border-box;text-align: center;}#sk-container-id-6 label.sk-toggleable__label-arrow:before {content: \"▸\";float: left;margin-right: 0.25em;color: #696969;}#sk-container-id-6 label.sk-toggleable__label-arrow:hover:before {color: black;}#sk-container-id-6 div.sk-estimator:hover label.sk-toggleable__label-arrow:before {color: black;}#sk-container-id-6 div.sk-toggleable__content {max-height: 0;max-width: 0;overflow: hidden;text-align: left;background-color: #f0f8ff;}#sk-container-id-6 div.sk-toggleable__content pre {margin: 0.2em;color: black;border-radius: 0.25em;background-color: #f0f8ff;}#sk-container-id-6 input.sk-toggleable__control:checked~div.sk-toggleable__content {max-height: 200px;max-width: 100%;overflow: auto;}#sk-container-id-6 input.sk-toggleable__control:checked~label.sk-toggleable__label-arrow:before {content: \"▾\";}#sk-container-id-6 div.sk-estimator input.sk-toggleable__control:checked~label.sk-toggleable__label {background-color: #d4ebff;}#sk-container-id-6 div.sk-label input.sk-toggleable__control:checked~label.sk-toggleable__label {background-color: #d4ebff;}#sk-container-id-6 input.sk-hidden--visually {border: 0;clip: rect(1px 1px 1px 1px);clip: rect(1px, 1px, 1px, 1px);height: 1px;margin: -1px;overflow: hidden;padding: 0;position: absolute;width: 1px;}#sk-container-id-6 div.sk-estimator {font-family: monospace;background-color: #f0f8ff;border: 1px dotted black;border-radius: 0.25em;box-sizing: border-box;margin-bottom: 0.5em;}#sk-container-id-6 div.sk-estimator:hover {background-color: #d4ebff;}#sk-container-id-6 div.sk-parallel-item::after {content: \"\";width: 100%;border-bottom: 1px solid gray;flex-grow: 1;}#sk-container-id-6 div.sk-label:hover label.sk-toggleable__label {background-color: #d4ebff;}#sk-container-id-6 div.sk-serial::before {content: \"\";position: absolute;border-left: 1px solid gray;box-sizing: border-box;top: 0;bottom: 0;left: 50%;z-index: 0;}#sk-container-id-6 div.sk-serial {display: flex;flex-direction: column;align-items: center;background-color: white;padding-right: 0.2em;padding-left: 0.2em;position: relative;}#sk-container-id-6 div.sk-item {position: relative;z-index: 1;}#sk-container-id-6 div.sk-parallel {display: flex;align-items: stretch;justify-content: center;background-color: white;position: relative;}#sk-container-id-6 div.sk-item::before, #sk-container-id-6 div.sk-parallel-item::before {content: \"\";position: absolute;border-left: 1px solid gray;box-sizing: border-box;top: 0;bottom: 0;left: 50%;z-index: -1;}#sk-container-id-6 div.sk-parallel-item {display: flex;flex-direction: column;z-index: 1;position: relative;background-color: white;}#sk-container-id-6 div.sk-parallel-item:first-child::after {align-self: flex-end;width: 50%;}#sk-container-id-6 div.sk-parallel-item:last-child::after {align-self: flex-start;width: 50%;}#sk-container-id-6 div.sk-parallel-item:only-child::after {width: 0;}#sk-container-id-6 div.sk-dashed-wrapped {border: 1px dashed gray;margin: 0 0.4em 0.5em 0.4em;box-sizing: border-box;padding-bottom: 0.4em;background-color: white;}#sk-container-id-6 div.sk-label label {font-family: monospace;font-weight: bold;display: inline-block;line-height: 1.2em;}#sk-container-id-6 div.sk-label-container {text-align: center;}#sk-container-id-6 div.sk-container {/* jupyter's `normalize.less` sets `[hidden] { display: none; }` but bootstrap.min.css set `[hidden] { display: none !important; }` so we also need the `!important` here to be able to override the default hidden behavior on the sphinx rendered scikit-learn.org. See: https://github.com/scikit-learn/scikit-learn/issues/21755 */display: inline-block !important;position: relative;}#sk-container-id-6 div.sk-text-repr-fallback {display: none;}</style><div id=\"sk-container-id-6\" class=\"sk-top-container\"><div class=\"sk-text-repr-fallback\"><pre>XGBClassifier(base_score=None, booster=None, callbacks=None,\n",
       "              colsample_bylevel=None, colsample_bynode=None,\n",
       "              colsample_bytree=None, device=None, early_stopping_rounds=None,\n",
       "              enable_categorical=True, eval_metric=None, feature_types=None,\n",
       "              gamma=None, grow_policy=None, importance_type=None,\n",
       "              interaction_constraints=None, learning_rate=0.3, max_bin=None,\n",
       "              max_cat_threshold=None, max_cat_to_onehot=None,\n",
       "              max_delta_step=None, max_depth=4, max_leaves=None,\n",
       "              min_child_weight=None, missing=nan, monotone_constraints=None,\n",
       "              multi_strategy=None, n_estimators=100, n_jobs=None,\n",
       "              num_parallel_tree=None, objective=&#x27;multi:softprob&#x27;, ...)</pre><b>In a Jupyter environment, please rerun this cell to show the HTML representation or trust the notebook. <br />On GitHub, the HTML representation is unable to render, please try loading this page with nbviewer.org.</b></div><div class=\"sk-container\" hidden><div class=\"sk-item\"><div class=\"sk-estimator sk-toggleable\"><input class=\"sk-toggleable__control sk-hidden--visually\" id=\"sk-estimator-id-6\" type=\"checkbox\" checked><label for=\"sk-estimator-id-6\" class=\"sk-toggleable__label sk-toggleable__label-arrow\">XGBClassifier</label><div class=\"sk-toggleable__content\"><pre>XGBClassifier(base_score=None, booster=None, callbacks=None,\n",
       "              colsample_bylevel=None, colsample_bynode=None,\n",
       "              colsample_bytree=None, device=None, early_stopping_rounds=None,\n",
       "              enable_categorical=True, eval_metric=None, feature_types=None,\n",
       "              gamma=None, grow_policy=None, importance_type=None,\n",
       "              interaction_constraints=None, learning_rate=0.3, max_bin=None,\n",
       "              max_cat_threshold=None, max_cat_to_onehot=None,\n",
       "              max_delta_step=None, max_depth=4, max_leaves=None,\n",
       "              min_child_weight=None, missing=nan, monotone_constraints=None,\n",
       "              multi_strategy=None, n_estimators=100, n_jobs=None,\n",
       "              num_parallel_tree=None, objective=&#x27;multi:softprob&#x27;, ...)</pre></div></div></div></div></div>"
      ],
      "text/plain": [
       "XGBClassifier(base_score=None, booster=None, callbacks=None,\n",
       "              colsample_bylevel=None, colsample_bynode=None,\n",
       "              colsample_bytree=None, device=None, early_stopping_rounds=None,\n",
       "              enable_categorical=True, eval_metric=None, feature_types=None,\n",
       "              gamma=None, grow_policy=None, importance_type=None,\n",
       "              interaction_constraints=None, learning_rate=0.3, max_bin=None,\n",
       "              max_cat_threshold=None, max_cat_to_onehot=None,\n",
       "              max_delta_step=None, max_depth=4, max_leaves=None,\n",
       "              min_child_weight=None, missing=nan, monotone_constraints=None,\n",
       "              multi_strategy=None, n_estimators=100, n_jobs=None,\n",
       "              num_parallel_tree=None, objective='multi:softprob', ...)"
      ]
     },
     "execution_count": 330,
     "metadata": {},
     "output_type": "execute_result"
    }
   ],
   "source": [
    "model_xgb = XGBClassifier(max_depth=4, learning_rate=0.3, n_estimators=100,  enable_categorical=True)\n",
    "\n",
    "\n",
    "x_new_1['Weekday'] = pd.Categorical(x_new_1['Weekday'])\n",
    "x_new_1['DepartmentDescription'] = pd.Categorical(x_new_1['DepartmentDescription'])\n",
    "\n",
    "\n",
    "model_xgb.fit(x_new_1, y_new_1, eval_metric='mlogloss')"
   ]
  },
  {
   "cell_type": "code",
   "execution_count": 332,
   "metadata": {},
   "outputs": [
    {
     "data": {
      "text/plain": [
       "0.3744105493554438"
      ]
     },
     "execution_count": 332,
     "metadata": {},
     "output_type": "execute_result"
    }
   ],
   "source": [
    "y_pred = model_xgb.predict(x_new_1)\n",
    "accuracy_score(y_new_1, y_pred)"
   ]
  },
  {
   "cell_type": "code",
   "execution_count": 346,
   "metadata": {},
   "outputs": [
    {
     "data": {
      "text/plain": [
       "0.2683234037292039"
      ]
     },
     "execution_count": 346,
     "metadata": {},
     "output_type": "execute_result"
    }
   ],
   "source": [
    "x_eval_new_1['Weekday'] = pd.Categorical(x_eval_new_1['Weekday'])\n",
    "x_eval_new_1['DepartmentDescription'] = pd.Categorical(x_eval_new_1['DepartmentDescription'])\n",
    "x_eval_new_1['Upc'] = pd.Categorical(x_eval_new_1['Upc'])\n",
    "x_eval_new_1['FinelineNumber'] = pd.Categorical(x_eval_new_1['FinelineNumber'])\n",
    "y_pred = model_xgb.predict(x_eval_new_1)\n",
    "accuracy_score(y_eval_new_1, y_pred)"
   ]
  },
  {
   "cell_type": "markdown",
   "metadata": {},
   "source": [
    "Обучим с параметрами lightgbm"
   ]
  },
  {
   "cell_type": "code",
   "execution_count": 85,
   "metadata": {},
   "outputs": [
    {
     "name": "stdout",
     "output_type": "stream",
     "text": [
      "[LightGBM] [Info] Auto-choosing row-wise multi-threading, the overhead of testing was 0.009638 seconds.\n",
      "You can set `force_row_wise=true` to remove the overhead.\n",
      "And if memory is not enough, you can set `force_col_wise=true`.\n",
      "[LightGBM] [Info] Total Bins 610\n",
      "[LightGBM] [Info] Number of data points in the train set: 517643, number of used features: 5\n",
      "[LightGBM] [Info] Start training from score -4.553303\n",
      "[LightGBM] [Info] Start training from score -6.573632\n",
      "[LightGBM] [Info] Start training from score -3.844234\n",
      "[LightGBM] [Info] Start training from score -5.243520\n",
      "[LightGBM] [Info] Start training from score -3.327415\n",
      "[LightGBM] [Info] Start training from score -3.341511\n",
      "[LightGBM] [Info] Start training from score -3.654778\n",
      "[LightGBM] [Info] Start training from score -5.731087\n",
      "[LightGBM] [Info] Start training from score -9.861204\n",
      "[LightGBM] [Info] Start training from score -4.502872\n",
      "[LightGBM] [Info] Start training from score -5.386818\n",
      "[LightGBM] [Info] Start training from score -6.289067\n",
      "[LightGBM] [Info] Start training from score -5.336200\n",
      "[LightGBM] [Info] Start training from score -5.082081\n",
      "[LightGBM] [Info] Start training from score -5.201265\n",
      "[LightGBM] [Info] Start training from score -7.584887\n",
      "[LightGBM] [Info] Start training from score -3.574655\n",
      "[LightGBM] [Info] Start training from score -3.148743\n",
      "[LightGBM] [Info] Start training from score -5.554141\n",
      "[LightGBM] [Info] Start training from score -4.937984\n",
      "[LightGBM] [Info] Start training from score -5.505446\n",
      "[LightGBM] [Info] Start training from score -5.749723\n",
      "[LightGBM] [Info] Start training from score -4.895515\n",
      "[LightGBM] [Info] Start training from score -5.897221\n",
      "[LightGBM] [Info] Start training from score -3.843873\n",
      "[LightGBM] [Info] Start training from score -4.186228\n",
      "[LightGBM] [Info] Start training from score -4.910083\n",
      "[LightGBM] [Info] Start training from score -3.947601\n",
      "[LightGBM] [Info] Start training from score -3.384118\n",
      "[LightGBM] [Info] Start training from score -2.810375\n",
      "[LightGBM] [Info] Start training from score -3.088675\n",
      "[LightGBM] [Info] Start training from score -1.915452\n",
      "[LightGBM] [Info] Start training from score -1.310232\n",
      "[LightGBM] [Info] Start training from score -4.775668\n",
      "[LightGBM] [Info] Start training from score -3.509285\n",
      "[LightGBM] [Info] Start training from score -4.631483\n",
      "[LightGBM] [Info] Start training from score -3.454813\n",
      "[LightGBM] [Info] Start training from score -3.600773\n"
     ]
    },
    {
     "data": {
      "text/html": [
       "<style>#sk-container-id-2 {color: black;background-color: white;}#sk-container-id-2 pre{padding: 0;}#sk-container-id-2 div.sk-toggleable {background-color: white;}#sk-container-id-2 label.sk-toggleable__label {cursor: pointer;display: block;width: 100%;margin-bottom: 0;padding: 0.3em;box-sizing: border-box;text-align: center;}#sk-container-id-2 label.sk-toggleable__label-arrow:before {content: \"▸\";float: left;margin-right: 0.25em;color: #696969;}#sk-container-id-2 label.sk-toggleable__label-arrow:hover:before {color: black;}#sk-container-id-2 div.sk-estimator:hover label.sk-toggleable__label-arrow:before {color: black;}#sk-container-id-2 div.sk-toggleable__content {max-height: 0;max-width: 0;overflow: hidden;text-align: left;background-color: #f0f8ff;}#sk-container-id-2 div.sk-toggleable__content pre {margin: 0.2em;color: black;border-radius: 0.25em;background-color: #f0f8ff;}#sk-container-id-2 input.sk-toggleable__control:checked~div.sk-toggleable__content {max-height: 200px;max-width: 100%;overflow: auto;}#sk-container-id-2 input.sk-toggleable__control:checked~label.sk-toggleable__label-arrow:before {content: \"▾\";}#sk-container-id-2 div.sk-estimator input.sk-toggleable__control:checked~label.sk-toggleable__label {background-color: #d4ebff;}#sk-container-id-2 div.sk-label input.sk-toggleable__control:checked~label.sk-toggleable__label {background-color: #d4ebff;}#sk-container-id-2 input.sk-hidden--visually {border: 0;clip: rect(1px 1px 1px 1px);clip: rect(1px, 1px, 1px, 1px);height: 1px;margin: -1px;overflow: hidden;padding: 0;position: absolute;width: 1px;}#sk-container-id-2 div.sk-estimator {font-family: monospace;background-color: #f0f8ff;border: 1px dotted black;border-radius: 0.25em;box-sizing: border-box;margin-bottom: 0.5em;}#sk-container-id-2 div.sk-estimator:hover {background-color: #d4ebff;}#sk-container-id-2 div.sk-parallel-item::after {content: \"\";width: 100%;border-bottom: 1px solid gray;flex-grow: 1;}#sk-container-id-2 div.sk-label:hover label.sk-toggleable__label {background-color: #d4ebff;}#sk-container-id-2 div.sk-serial::before {content: \"\";position: absolute;border-left: 1px solid gray;box-sizing: border-box;top: 0;bottom: 0;left: 50%;z-index: 0;}#sk-container-id-2 div.sk-serial {display: flex;flex-direction: column;align-items: center;background-color: white;padding-right: 0.2em;padding-left: 0.2em;position: relative;}#sk-container-id-2 div.sk-item {position: relative;z-index: 1;}#sk-container-id-2 div.sk-parallel {display: flex;align-items: stretch;justify-content: center;background-color: white;position: relative;}#sk-container-id-2 div.sk-item::before, #sk-container-id-2 div.sk-parallel-item::before {content: \"\";position: absolute;border-left: 1px solid gray;box-sizing: border-box;top: 0;bottom: 0;left: 50%;z-index: -1;}#sk-container-id-2 div.sk-parallel-item {display: flex;flex-direction: column;z-index: 1;position: relative;background-color: white;}#sk-container-id-2 div.sk-parallel-item:first-child::after {align-self: flex-end;width: 50%;}#sk-container-id-2 div.sk-parallel-item:last-child::after {align-self: flex-start;width: 50%;}#sk-container-id-2 div.sk-parallel-item:only-child::after {width: 0;}#sk-container-id-2 div.sk-dashed-wrapped {border: 1px dashed gray;margin: 0 0.4em 0.5em 0.4em;box-sizing: border-box;padding-bottom: 0.4em;background-color: white;}#sk-container-id-2 div.sk-label label {font-family: monospace;font-weight: bold;display: inline-block;line-height: 1.2em;}#sk-container-id-2 div.sk-label-container {text-align: center;}#sk-container-id-2 div.sk-container {/* jupyter's `normalize.less` sets `[hidden] { display: none; }` but bootstrap.min.css set `[hidden] { display: none !important; }` so we also need the `!important` here to be able to override the default hidden behavior on the sphinx rendered scikit-learn.org. See: https://github.com/scikit-learn/scikit-learn/issues/21755 */display: inline-block !important;position: relative;}#sk-container-id-2 div.sk-text-repr-fallback {display: none;}</style><div id=\"sk-container-id-2\" class=\"sk-top-container\"><div class=\"sk-text-repr-fallback\"><pre>LGBMClassifier()</pre><b>In a Jupyter environment, please rerun this cell to show the HTML representation or trust the notebook. <br />On GitHub, the HTML representation is unable to render, please try loading this page with nbviewer.org.</b></div><div class=\"sk-container\" hidden><div class=\"sk-item\"><div class=\"sk-estimator sk-toggleable\"><input class=\"sk-toggleable__control sk-hidden--visually\" id=\"sk-estimator-id-2\" type=\"checkbox\" checked><label for=\"sk-estimator-id-2\" class=\"sk-toggleable__label sk-toggleable__label-arrow\">LGBMClassifier</label><div class=\"sk-toggleable__content\"><pre>LGBMClassifier()</pre></div></div></div></div></div>"
      ],
      "text/plain": [
       "LGBMClassifier()"
      ]
     },
     "execution_count": 85,
     "metadata": {},
     "output_type": "execute_result"
    }
   ],
   "source": [
    "model_lgbm = LGBMClassifier(num_leaves = 31, learning_rate = 0.1, n_estimators = 100)\n",
    "x_new['Weekday'] = x_new['Weekday'].astype('category')\n",
    "x_new['DepartmentDescription'] = x_new['DepartmentDescription'].astype('category')\n",
    "x_new['FinelineNumber'] = x1\n",
    "x_new['Upc'] = x2\n",
    "model_lgbm.fit(x_new, y_new,eval_metric='multi_logloss', categorical_feature=['Weekday', 'DepartmentDescription'])"
   ]
  },
  {
   "cell_type": "code",
   "execution_count": 86,
   "metadata": {},
   "outputs": [
    {
     "data": {
      "text/plain": [
       "0.27280191174226254"
      ]
     },
     "execution_count": 86,
     "metadata": {},
     "output_type": "execute_result"
    }
   ],
   "source": [
    "y_pred = model_lgbm.predict(x_new)\n",
    "accuracy_score(y_new, y_pred)"
   ]
  },
  {
   "cell_type": "code",
   "execution_count": 87,
   "metadata": {},
   "outputs": [
    {
     "name": "stderr",
     "output_type": "stream",
     "text": [
      "/Library/Frameworks/Python.framework/Versions/3.10/lib/python3.10/site-packages/xgboost/sklearn.py:889: UserWarning: `eval_metric` in `fit` method is deprecated for better compatibility with scikit-learn, use `eval_metric` in constructor or`set_params` instead.\n",
      "  warnings.warn(\n",
      "/Library/Frameworks/Python.framework/Versions/3.10/lib/python3.10/site-packages/xgboost/core.py:160: UserWarning: [23:47:13] WARNING: /Users/runner/work/xgboost/xgboost/src/learner.cc:742: \n",
      "Parameters: { \"num_leaves\" } are not used.\n",
      "\n",
      "  warnings.warn(smsg, UserWarning)\n"
     ]
    },
    {
     "data": {
      "text/html": [
       "<style>#sk-container-id-3 {color: black;background-color: white;}#sk-container-id-3 pre{padding: 0;}#sk-container-id-3 div.sk-toggleable {background-color: white;}#sk-container-id-3 label.sk-toggleable__label {cursor: pointer;display: block;width: 100%;margin-bottom: 0;padding: 0.3em;box-sizing: border-box;text-align: center;}#sk-container-id-3 label.sk-toggleable__label-arrow:before {content: \"▸\";float: left;margin-right: 0.25em;color: #696969;}#sk-container-id-3 label.sk-toggleable__label-arrow:hover:before {color: black;}#sk-container-id-3 div.sk-estimator:hover label.sk-toggleable__label-arrow:before {color: black;}#sk-container-id-3 div.sk-toggleable__content {max-height: 0;max-width: 0;overflow: hidden;text-align: left;background-color: #f0f8ff;}#sk-container-id-3 div.sk-toggleable__content pre {margin: 0.2em;color: black;border-radius: 0.25em;background-color: #f0f8ff;}#sk-container-id-3 input.sk-toggleable__control:checked~div.sk-toggleable__content {max-height: 200px;max-width: 100%;overflow: auto;}#sk-container-id-3 input.sk-toggleable__control:checked~label.sk-toggleable__label-arrow:before {content: \"▾\";}#sk-container-id-3 div.sk-estimator input.sk-toggleable__control:checked~label.sk-toggleable__label {background-color: #d4ebff;}#sk-container-id-3 div.sk-label input.sk-toggleable__control:checked~label.sk-toggleable__label {background-color: #d4ebff;}#sk-container-id-3 input.sk-hidden--visually {border: 0;clip: rect(1px 1px 1px 1px);clip: rect(1px, 1px, 1px, 1px);height: 1px;margin: -1px;overflow: hidden;padding: 0;position: absolute;width: 1px;}#sk-container-id-3 div.sk-estimator {font-family: monospace;background-color: #f0f8ff;border: 1px dotted black;border-radius: 0.25em;box-sizing: border-box;margin-bottom: 0.5em;}#sk-container-id-3 div.sk-estimator:hover {background-color: #d4ebff;}#sk-container-id-3 div.sk-parallel-item::after {content: \"\";width: 100%;border-bottom: 1px solid gray;flex-grow: 1;}#sk-container-id-3 div.sk-label:hover label.sk-toggleable__label {background-color: #d4ebff;}#sk-container-id-3 div.sk-serial::before {content: \"\";position: absolute;border-left: 1px solid gray;box-sizing: border-box;top: 0;bottom: 0;left: 50%;z-index: 0;}#sk-container-id-3 div.sk-serial {display: flex;flex-direction: column;align-items: center;background-color: white;padding-right: 0.2em;padding-left: 0.2em;position: relative;}#sk-container-id-3 div.sk-item {position: relative;z-index: 1;}#sk-container-id-3 div.sk-parallel {display: flex;align-items: stretch;justify-content: center;background-color: white;position: relative;}#sk-container-id-3 div.sk-item::before, #sk-container-id-3 div.sk-parallel-item::before {content: \"\";position: absolute;border-left: 1px solid gray;box-sizing: border-box;top: 0;bottom: 0;left: 50%;z-index: -1;}#sk-container-id-3 div.sk-parallel-item {display: flex;flex-direction: column;z-index: 1;position: relative;background-color: white;}#sk-container-id-3 div.sk-parallel-item:first-child::after {align-self: flex-end;width: 50%;}#sk-container-id-3 div.sk-parallel-item:last-child::after {align-self: flex-start;width: 50%;}#sk-container-id-3 div.sk-parallel-item:only-child::after {width: 0;}#sk-container-id-3 div.sk-dashed-wrapped {border: 1px dashed gray;margin: 0 0.4em 0.5em 0.4em;box-sizing: border-box;padding-bottom: 0.4em;background-color: white;}#sk-container-id-3 div.sk-label label {font-family: monospace;font-weight: bold;display: inline-block;line-height: 1.2em;}#sk-container-id-3 div.sk-label-container {text-align: center;}#sk-container-id-3 div.sk-container {/* jupyter's `normalize.less` sets `[hidden] { display: none; }` but bootstrap.min.css set `[hidden] { display: none !important; }` so we also need the `!important` here to be able to override the default hidden behavior on the sphinx rendered scikit-learn.org. See: https://github.com/scikit-learn/scikit-learn/issues/21755 */display: inline-block !important;position: relative;}#sk-container-id-3 div.sk-text-repr-fallback {display: none;}</style><div id=\"sk-container-id-3\" class=\"sk-top-container\"><div class=\"sk-text-repr-fallback\"><pre>XGBClassifier(base_score=None, booster=None, callbacks=None,\n",
       "              colsample_bylevel=None, colsample_bynode=None,\n",
       "              colsample_bytree=None, device=None, early_stopping_rounds=None,\n",
       "              enable_categorical=True, eval_metric=None, feature_types=None,\n",
       "              gamma=None, grow_policy=None, importance_type=None,\n",
       "              interaction_constraints=None, learning_rate=0.1, max_bin=None,\n",
       "              max_cat_threshold=None, max_cat_to_onehot=None,\n",
       "              max_delta_step=None, max_depth=None, max_leaves=None,\n",
       "              min_child_weight=None, missing=nan, monotone_constraints=None,\n",
       "              multi_strategy=None, n_estimators=100, n_jobs=None, num_leaves=31,\n",
       "              num_parallel_tree=None, ...)</pre><b>In a Jupyter environment, please rerun this cell to show the HTML representation or trust the notebook. <br />On GitHub, the HTML representation is unable to render, please try loading this page with nbviewer.org.</b></div><div class=\"sk-container\" hidden><div class=\"sk-item\"><div class=\"sk-estimator sk-toggleable\"><input class=\"sk-toggleable__control sk-hidden--visually\" id=\"sk-estimator-id-3\" type=\"checkbox\" checked><label for=\"sk-estimator-id-3\" class=\"sk-toggleable__label sk-toggleable__label-arrow\">XGBClassifier</label><div class=\"sk-toggleable__content\"><pre>XGBClassifier(base_score=None, booster=None, callbacks=None,\n",
       "              colsample_bylevel=None, colsample_bynode=None,\n",
       "              colsample_bytree=None, device=None, early_stopping_rounds=None,\n",
       "              enable_categorical=True, eval_metric=None, feature_types=None,\n",
       "              gamma=None, grow_policy=None, importance_type=None,\n",
       "              interaction_constraints=None, learning_rate=0.1, max_bin=None,\n",
       "              max_cat_threshold=None, max_cat_to_onehot=None,\n",
       "              max_delta_step=None, max_depth=None, max_leaves=None,\n",
       "              min_child_weight=None, missing=nan, monotone_constraints=None,\n",
       "              multi_strategy=None, n_estimators=100, n_jobs=None, num_leaves=31,\n",
       "              num_parallel_tree=None, ...)</pre></div></div></div></div></div>"
      ],
      "text/plain": [
       "XGBClassifier(base_score=None, booster=None, callbacks=None,\n",
       "              colsample_bylevel=None, colsample_bynode=None,\n",
       "              colsample_bytree=None, device=None, early_stopping_rounds=None,\n",
       "              enable_categorical=True, eval_metric=None, feature_types=None,\n",
       "              gamma=None, grow_policy=None, importance_type=None,\n",
       "              interaction_constraints=None, learning_rate=0.1, max_bin=None,\n",
       "              max_cat_threshold=None, max_cat_to_onehot=None,\n",
       "              max_delta_step=None, max_depth=None, max_leaves=None,\n",
       "              min_child_weight=None, missing=nan, monotone_constraints=None,\n",
       "              multi_strategy=None, n_estimators=100, n_jobs=None, num_leaves=31,\n",
       "              num_parallel_tree=None, ...)"
      ]
     },
     "execution_count": 87,
     "metadata": {},
     "output_type": "execute_result"
    }
   ],
   "source": [
    "model_xgb = XGBClassifier(num_leaves = 31, learning_rate = 0.1, n_estimators = 100,  enable_categorical=True)\n",
    "\n",
    "\n",
    "x_new_1['Weekday'] = pd.Categorical(x_new_1['Weekday'])\n",
    "x_new_1['DepartmentDescription'] = pd.Categorical(x_new_1['DepartmentDescription'])\n",
    "\n",
    "\n",
    "model_xgb.fit(x_new_1, y_new_1, eval_metric='mlogloss')"
   ]
  },
  {
   "cell_type": "code",
   "execution_count": 88,
   "metadata": {},
   "outputs": [
    {
     "data": {
      "text/plain": [
       "0.3757821510191387"
      ]
     },
     "execution_count": 88,
     "metadata": {},
     "output_type": "execute_result"
    }
   ],
   "source": [
    "y_pred = model_xgb.predict(x_new_1)\n",
    "accuracy_score(y_new_1, y_pred)"
   ]
  },
  {
   "cell_type": "code",
   "execution_count": 89,
   "metadata": {},
   "outputs": [
    {
     "data": {
      "text/plain": [
       "0.2750538980457612"
      ]
     },
     "execution_count": 89,
     "metadata": {},
     "output_type": "execute_result"
    }
   ],
   "source": [
    "x_eval_new_1['Weekday'] = pd.Categorical(x_eval_new_1['Weekday'])\n",
    "x_eval_new_1['DepartmentDescription'] = pd.Categorical(x_eval_new_1['DepartmentDescription'])\n",
    "x_eval_new_1['Upc'] = pd.Categorical(x_eval_new_1['Upc'])\n",
    "x_eval_new_1['FinelineNumber'] = pd.Categorical(x_eval_new_1['FinelineNumber'])\n",
    "y_pred = model_xgb.predict(x_eval_new_1)\n",
    "accuracy_score(y_eval_new_1, y_pred)"
   ]
  }
 ],
 "metadata": {
  "kernelspec": {
   "display_name": "Python 3 (ipykernel)",
   "language": "python",
   "name": "python3"
  },
  "language_info": {
   "codemirror_mode": {
    "name": "ipython",
    "version": 3
   },
   "file_extension": ".py",
   "mimetype": "text/x-python",
   "name": "python",
   "nbconvert_exporter": "python",
   "pygments_lexer": "ipython3",
   "version": "3.10.2"
  }
 },
 "nbformat": 4,
 "nbformat_minor": 4
}
