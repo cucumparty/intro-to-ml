{
 "cells": [
  {
   "cell_type": "markdown",
   "id": "a17b492d",
   "metadata": {},
   "source": [
    "# Домашнее задание 2.\n",
    "\n",
    "- Влияние стандартизации признаков на модель линейной регрессии\n",
    "- Интерпретация модели линейной регрессии \n",
    "\n",
    "В качестве набора данных мы будем пользоваться данными о стоимости домов в King County, Wahington, USA. Перед вами стоит задача предсказания стоимости дома."
   ]
  },
  {
   "cell_type": "markdown",
   "id": "ff5ecfce",
   "metadata": {},
   "source": [
    "## 1. Обучите линейную модель\n",
    "\n",
    "1. Для обучения используйте только набор данных `kc_house_data_train.csv`, набором данных `kc_house_data_test.csv` вы воспользуетесь в самом конце для тестирования качества.\n",
    "\n",
    "2. Разбейте выборку `kc_house_data_train.csv` на тренировочную и валидационную в отношении 7:3. Используйте `sklearn.model_selection.train_test_split`. Исключите из рассмотрения столбцы `id`, `zipcode`, `lat`, `long`.\n",
    "\n",
    "3. Обучите линейную модель `sklearn.linear_model.LinearRegression` (с параметрами по умолчанию) на предсказание столбца `price`.  - Чему равно качество такой модели в терминах Mean Squared Error на тренировочной и валидационной выборке?   \n",
    "Ответ: MSE train: 47752321019\n",
    "MSE val: 44600692064.  \n",
    "- Какие признаки имеют наибольший положительный и отрицательный вес? Насколько это согласуется с вашей интуицией?  \n",
    "Ответ: Max: waterfront(набережная) 543770 \n",
    "Min: bedrooms(спальни) -39392,  \n",
    "что не соответствует интуиции.\n"
   ]
  },
  {
   "cell_type": "code",
   "execution_count": 1,
   "id": "34bbf5c3",
   "metadata": {},
   "outputs": [],
   "source": [
    "import pandas as pd\n",
    "import numpy as np"
   ]
  },
  {
   "cell_type": "code",
   "execution_count": 2,
   "id": "b5d8dde7",
   "metadata": {},
   "outputs": [],
   "source": [
    "pd.options.display.max_columns=30\n",
    "mse_val = np.zeros(8)\n",
    "mse_test =np.zeros(8)"
   ]
  },
  {
   "cell_type": "code",
   "execution_count": 3,
   "id": "f4ed5304",
   "metadata": {},
   "outputs": [],
   "source": [
    "X = pd.read_csv('kc_house_data_train.csv', index_col=0)\n",
    "X_test = pd.read_csv('kc_house_data_test.csv', index_col=0)\n",
    "y_test = X_test.price\n",
    "X_test = X_test.drop([\"id\", 'zipcode', 'lat', 'long', 'price', 'date'], axis = 1)"
   ]
  },
  {
   "cell_type": "code",
   "execution_count": 4,
   "id": "1f604f2e",
   "metadata": {},
   "outputs": [
    {
     "name": "stdout",
     "output_type": "stream",
     "text": [
      "Categorical variables:\n",
      "['date']\n"
     ]
    }
   ],
   "source": [
    "s = (X.dtypes == 'object')\n",
    "object_cols = list(s[s].index)\n",
    "\n",
    "print(\"Categorical variables:\")\n",
    "print(object_cols)"
   ]
  },
  {
   "cell_type": "code",
   "execution_count": 5,
   "id": "849c8581",
   "metadata": {},
   "outputs": [],
   "source": [
    "y = X.price\n",
    "\n",
    "X = X.drop([\"id\", 'zipcode', 'lat', 'long', 'price', 'date'], axis = 1)"
   ]
  },
  {
   "cell_type": "code",
   "execution_count": 6,
   "id": "6d1be3b7",
   "metadata": {},
   "outputs": [
    {
     "data": {
      "text/plain": [
       "bedrooms         0\n",
       "bathrooms        0\n",
       "sqft_living      0\n",
       "sqft_lot         0\n",
       "floors           0\n",
       "waterfront       0\n",
       "view             0\n",
       "condition        0\n",
       "grade            0\n",
       "sqft_above       0\n",
       "sqft_basement    0\n",
       "yr_built         0\n",
       "yr_renovated     0\n",
       "sqft_living15    0\n",
       "sqft_lot15       0\n",
       "dtype: int64"
      ]
     },
     "execution_count": 6,
     "metadata": {},
     "output_type": "execute_result"
    }
   ],
   "source": [
    "X.isnull().sum()"
   ]
  },
  {
   "cell_type": "code",
   "execution_count": 7,
   "id": "ba4c86fe",
   "metadata": {},
   "outputs": [],
   "source": [
    "from sklearn.model_selection import train_test_split\n",
    "\n",
    "X_train, X_val, y_train, y_val = train_test_split(X, y, train_size=0.7, random_state=5)"
   ]
  },
  {
   "cell_type": "code",
   "execution_count": 8,
   "id": "f550a3a2",
   "metadata": {},
   "outputs": [],
   "source": [
    "from sklearn.linear_model import LinearRegression\n",
    "\n",
    "model = LinearRegression()\n",
    "lr = model.fit(X_train, y_train)"
   ]
  },
  {
   "cell_type": "code",
   "execution_count": 9,
   "id": "80317fcb",
   "metadata": {},
   "outputs": [
    {
     "name": "stdout",
     "output_type": "stream",
     "text": [
      "MSE train: 47752321019.68232\n",
      "MSE val: 44600692064.98482\n",
      "MSE test: 46611588405.96249\n",
      "Linear coefficients: {'bedrooms': -39392.40296475128, 'bathrooms': 60405.47914515011, 'sqft_living': 106.57544556572248, 'sqft_lot': -0.07805306891532382, 'floors': 18325.44624475113, 'waterfront': 543770.5941995028, 'view': 45169.62520782234, 'condition': 14777.408327582256, 'grade': 119568.46159295774, 'sqft_above': 53.36407800074085, 'sqft_basement': 53.21136781673067, 'yr_built': -3720.72629083537, 'yr_renovated': 0.8137902379511388, 'sqft_living15': 22.475426676328425, 'sqft_lot15': -0.43252047401983873}\n",
      "Max: waterfront 543770.5941995028\n",
      "Min: bedrooms -39392.40296475128\n"
     ]
    }
   ],
   "source": [
    "from sklearn.metrics import mean_squared_error as mse\n",
    "\n",
    "y_pred = lr.predict(X_train)\n",
    "y_pred_val = lr.predict(X_val)\n",
    "y_pred_test = lr.predict(X_test)\n",
    "\n",
    "print(\"MSE train:\", mse(y_train, y_pred))\n",
    "mse_val[0] = (mse(y_val, y_pred_val))\n",
    "print(\"MSE val:\", mse(y_val, y_pred_val))\n",
    "mse_test[0] = (mse(y_test, y_pred_test))\n",
    "print(\"MSE test:\", mse(y_test, y_pred_test))\n",
    "\n",
    "dict_train_1 = {}\n",
    "for i in range (len(model.coef_)):\n",
    "    dict_train_1[X_train.columns[i]] = model.coef_[i]\n",
    "print(\"Linear coefficients:\", dict_train_1)\n",
    "print(\"Max:\", max(dict_train_1, key = dict_train_1.get), dict_train_1[max(dict_train_1, key = dict_train_1.get)])\n",
    "print(\"Min:\" , min(dict_train_1, key = dict_train_1.get), dict_train_1[min(dict_train_1, key = dict_train_1.get)])"
   ]
  },
  {
   "cell_type": "markdown",
   "id": "d3e41bb0",
   "metadata": {},
   "source": [
    "## 2. Стандартизация признаков\n",
    "\n",
    "Поскольку в линейной модели мы ищем целевую характеристику ввиде линейной комбинации признаков, то мы бы хотели чтобы величины признаков измерялись в сопоставимых масштабах. Сравните различные подходы к стандартизации признаков:\n",
    "\n",
    "1. Стандартизация или z-scoring: (x - mean(x)) / std(x). Среднее каждого признака становится равно 0, стандартное отклонение становится равно 1.\n",
    "2. Нормализация к [0, 1]: (x - min(x)) / (max(x) - min(x))\n",
    "3. Логарифмирование: log(x + 1). Потенциальным недостатком первых двух подходов является необходимость подсчета статистик на тренировочной выборке и применение их на тестовой.\n",
    "\n",
    "Обратите внимание что подсчет всех статистик mean, std, min, max должен производиться на тренировочной части данных и применяться к тестовой (потому что на практике у вас нет никакой статистики на этапе предсказание, вы делаете предсказание для конкретного 1ого дома).\n",
    "\n",
    "Воспользуйтесь методами `sklearn.preprocessing.StandardScaler` и `sklearn.preprocessing.MinMaxScaler`. Обучайте модель линейной регрессии на тренировочной части данных, делайте предсказание и оценивайте качество на валидационной.\n",
    "\n",
    "4. Какой из подходов дает наилучшее качество (включая отсутствие какой бы то нибыло стандартизации данных)?  \n",
    "Ответ: лучшее качество получилось при z-scoring и нормализации, но не сильно отличается от того, что было без стандартизации\n",
    "5. Как меняются веса признаков в линейной модели при применении различных видов стандартизации?  \n",
    "Ответ: веса признаков меняются, но при этом наибольший положительный и отрицательный вес имеют одинаковые признаки"
   ]
  },
  {
   "cell_type": "code",
   "execution_count": 10,
   "id": "dd7f63d0",
   "metadata": {},
   "outputs": [],
   "source": [
    "from sklearn.preprocessing import StandardScaler, MinMaxScaler"
   ]
  },
  {
   "cell_type": "code",
   "execution_count": 11,
   "id": "1761e583",
   "metadata": {},
   "outputs": [
    {
     "name": "stdout",
     "output_type": "stream",
     "text": [
      "MSE val: 44600692064.987686\n",
      "MSE test: 46611588405.96165\n",
      "Linear coefficients: {'bedrooms': -38461.61438468296, 'bathrooms': 46576.524007117114, 'sqft_living': 75015.83554764224, 'sqft_lot': -3143.2019851167256, 'floors': 9800.437588784629, 'waterfront': 45666.8103293275, 'view': 34645.06267486751, 'condition': 9510.361582030606, 'grade': 139561.38023910025, 'sqft_above': 64778.43927520313, 'sqft_basement': 34770.93468400805, 'yr_built': -109828.56407384046, 'yr_renovated': 322.1088818449707, 'sqft_living15': 15371.819906524, 'sqft_lot15': -11996.504140918278}\n",
      "Max: grade 139561.38023910025\n",
      "Min: yr_built -109828.56407384046\n"
     ]
    }
   ],
   "source": [
    "z_scaler = StandardScaler()\n",
    "X_train_scaled = z_scaler.fit_transform(X_train)\n",
    "X_val_scaled = z_scaler.transform(X_val)\n",
    "X_test_scaled = z_scaler.transform(X_test)\n",
    "\n",
    "scaled = model.fit(X_train_scaled, y_train)\n",
    "y_pred_val_z = scaled.predict(X_val_scaled)\n",
    "y_pred_test_z = scaled.predict(X_test_scaled)\n",
    "\n",
    "mse_val[1] = (mse(y_val, y_pred_val_z))\n",
    "print(\"MSE val:\", mse_val[1])\n",
    "mse_test[1] = (mse(y_test, y_pred_test_z))\n",
    "print(\"MSE test:\", mse_test[1])\n",
    "\n",
    "dict_train_2 = {}\n",
    "for i in range (len(scaled.coef_)):\n",
    "    dict_train_2[X_train.columns[i]] = scaled.coef_[i]\n",
    "print(\"Linear coefficients:\", dict_train_2)\n",
    "print(\"Max:\", max(dict_train_2, key = dict_train_2.get), dict_train_2[max(dict_train_2, key = dict_train_2.get)])\n",
    "print(\"Min:\" , min(dict_train_2, key = dict_train_2.get), dict_train_2[min(dict_train_2, key = dict_train_2.get)])"
   ]
  },
  {
   "cell_type": "code",
   "execution_count": 12,
   "id": "35b2a354",
   "metadata": {},
   "outputs": [
    {
     "name": "stdout",
     "output_type": "stream",
     "text": [
      "MSE val: 44600692064.98767\n",
      "MSE test: 46611588405.96165\n",
      "Linear coefficients: {'bedrooms': -1299949.2978340157, 'bathrooms': 483243.83316134685, 'sqft_living': 799555.6332045053, 'sqft_lot': -79891.06258461392, 'floors': 45813.61561185308, 'waterfront': 543770.5941995142, 'view': 180678.50083122845, 'condition': 59109.63331033952, 'grade': 1434821.5391152222, 'sqft_above': 908312.8039939748, 'sqft_basement': 479315.2214802074, 'yr_built': -427883.52344607445, 'yr_renovated': 1639.7873294314195, 'sqft_living15': 130604.70441673714, 'sqft_lot15': -376530.2661312691}\n",
      "Max: grade 1434821.5391152222\n",
      "Min: bedrooms -1299949.2978340157\n"
     ]
    }
   ],
   "source": [
    "n_scaler = MinMaxScaler()\n",
    "X_train_scaled_n = n_scaler.fit_transform(X_train)\n",
    "X_val_scaled_n = n_scaler.transform(X_val)\n",
    "X_test_scaled_n = n_scaler.transform(X_test)\n",
    "\n",
    "norm = model.fit(X_train_scaled_n, y_train)\n",
    "y_pred_val_n = norm.predict(X_val_scaled_n)\n",
    "y_pred_test_n = norm.predict(X_test_scaled_n)\n",
    "\n",
    "mse_val[2] = (mse(y_val, y_pred_val_n))\n",
    "print(\"MSE val:\", mse_val[2])\n",
    "mse_test[2] = (mse(y_test, y_pred_test_n))\n",
    "print(\"MSE test:\", mse_test[2])\n",
    "\n",
    "dict_train_3 = {}\n",
    "for i in range (len(norm.coef_)):\n",
    "    dict_train_3[X_train.columns[i]] = norm.coef_[i]\n",
    "print(\"Linear coefficients:\", dict_train_3)\n",
    "print(\"Max:\", max(dict_train_3, key = dict_train_3.get), dict_train_3[max(dict_train_3, key = dict_train_3.get)])\n",
    "print(\"Min:\" , min(dict_train_3, key = dict_train_3.get), dict_train_3[min(dict_train_3, key = dict_train_3.get)])"
   ]
  },
  {
   "cell_type": "code",
   "execution_count": 13,
   "id": "c5fe0e96",
   "metadata": {},
   "outputs": [
    {
     "name": "stdout",
     "output_type": "stream",
     "text": [
      "MSE val: 51841036974.26174\n",
      "MSE test: 54179215275.622505\n",
      "Linear coefficients: {'bedrooms': -141034.74693485638, 'bathrooms': 169180.50388410335, 'sqft_living': -78614.73611051208, 'sqft_lot': -6481.69347770774, 'floors': 2840.9781507783136, 'waterfront': 904932.7964033512, 'view': 117832.91111080923, 'condition': 68726.5668984285, 'grade': 1175162.9589023707, 'sqft_above': 305317.69108270184, 'sqft_basement': 19338.34587771204, 'yr_built': -7305272.051581271, 'yr_renovated': 2045.0848352860248, 'sqft_living15': 110049.7965941675, 'sqft_lot15': -13037.8799606904}\n",
      "Max: grade 1175162.9589023707\n",
      "Min: yr_built -7305272.051581271\n"
     ]
    }
   ],
   "source": [
    "X_train_log = X_train.apply(lambda x: np.log(x+1))\n",
    "X_val_log = X_val.apply(lambda x: np.log(x+1))\n",
    "X_test_log = X_test.apply(lambda x: np.log(x+1))\n",
    "\n",
    "log = model.fit(X_train_log, y_train)\n",
    "y_pred_val_log = log.predict(X_val_log)\n",
    "y_pred_test_log = log.predict(X_test_log)\n",
    "\n",
    "mse_val[3] = (mse(y_val, y_pred_val_log))\n",
    "print(\"MSE val:\", mse_val[3])\n",
    "mse_test[3] = (mse(y_test, y_pred_test_log))\n",
    "print(\"MSE test:\", mse_test[3])\n",
    "\n",
    "dict_train_4= {}\n",
    "for i in range (len(log.coef_)):\n",
    "    dict_train_4[X_train.columns[i]] = log.coef_[i]\n",
    "print(\"Linear coefficients:\", dict_train_4)\n",
    "print(\"Max:\", max(dict_train_4, key = dict_train_4.get), dict_train_4[max(dict_train_4, key = dict_train_4.get)])\n",
    "print(\"Min:\" , min(dict_train_4, key = dict_train_4.get), dict_train_4[min(dict_train_4, key = dict_train_4.get)])"
   ]
  },
  {
   "cell_type": "markdown",
   "id": "cceeafa7",
   "metadata": {},
   "source": [
    "## 3. Отбор признаков\n",
    "\n",
    "1. Воспользуйтесь методом `sklearn.feature_selection.RFE` для отбора 5 наиболее важных признаков. \n",
    "- опишите словами в чем заключается метод RFE?  \n",
    "Ответ: он выделяет наиболее важные признаки и находит их оптимальное количество с помощью ранжирования\n",
    "- сравните как меняется результат для 3 подходов к стандартизации признаков и для случая без нормировки  \n",
    "Ответ: с нормировкой результат несильно, но улучшается\n",
    "- в рамках каждого подхода сравните отобранные 5 признаков с 5 признаками имеющими наибольшую важность для базовой модели (обученной на всех данных). Подготовьте таблицу важности признаков, в которой каждый столбец соответствует какому-то методу нормировки данных, а каждая строка это название признака. Сравните какие признаки оказываются важными в разных сценариях. Прокомментируйте полученный результат.  \n",
    "Ответ: самыми важными признаками стали класс, набережная и площадь наверху, что соотвествует интуиции. \n",
    "\n",
    "|LR|LR-standartized|LR-normalized|LR-log|LR-standartized-RFE|LR-normalized-RFE|LR-log-RFE|\n",
    "\n",
    "2. Оцените качество каждой из 7 обученных моделей на тестовой части данных `kc_house_data_test.csv` не забудьте применить соответствующие преобразования (стандартизация и пр). Совпадают ли лучшая модель на валидации и на тесте?  \n",
    "Ответ: лучшей моделью стали LR-normalized и LR-standartized, но качество модели конечно ухудшается на тесте"
   ]
  },
  {
   "cell_type": "code",
   "execution_count": 14,
   "id": "5ed2c7ee",
   "metadata": {},
   "outputs": [],
   "source": [
    "from sklearn.feature_selection import RFE\n",
    "rfe = RFE(estimator=model, n_features_to_select=5)"
   ]
  },
  {
   "cell_type": "code",
   "execution_count": 15,
   "id": "c60c42b3",
   "metadata": {},
   "outputs": [],
   "source": [
    "X_test_scaled = z_scaler.transform(X_test)\n",
    "X_test_scaled_n = n_scaler.transform(X_test)\n",
    "X_test_log = X_test.apply(lambda x: np.log(x+1))"
   ]
  },
  {
   "cell_type": "code",
   "execution_count": 16,
   "id": "96d3488f",
   "metadata": {},
   "outputs": [
    {
     "name": "stdout",
     "output_type": "stream",
     "text": [
      "MSE val without normalization: 59826960746.65318\n",
      "MSE test without normalization: 60988140443.15362\n"
     ]
    }
   ],
   "source": [
    "rfe_1 = rfe.fit(X_train, y_train)\n",
    "y_pred_rfe = rfe_1.predict(X_val)\n",
    "y_pred_rfe_test = rfe_1.predict(X_test)\n",
    "\n",
    "mse_val[4] = (mse(y_val, y_pred_rfe))\n",
    "print(\"MSE val without normalization:\",mse_val[4])\n",
    "mse_test[4] = (mse(y_test, y_pred_rfe_test))\n",
    "print(\"MSE test without normalization:\", mse_test[4])\n",
    "\n",
    "dict_train_5 = {}\n",
    "l = 0\n",
    "for i in range (len(rfe_1.support_)):\n",
    "    if rfe_1.support_[i] == True:\n",
    "        dict_train_5[X_train.columns[i]] = rfe_1.estimator_.coef_[l]\n",
    "        l = l+1"
   ]
  },
  {
   "cell_type": "code",
   "execution_count": 17,
   "id": "f345c0c0",
   "metadata": {},
   "outputs": [
    {
     "name": "stdout",
     "output_type": "stream",
     "text": [
      "[False  True False False False  True  True  True  True False False False\n",
      " False False False]\n",
      "Index(['bedrooms', 'bathrooms', 'sqft_living', 'sqft_lot', 'floors',\n",
      "       'waterfront', 'view', 'condition', 'grade', 'sqft_above',\n",
      "       'sqft_basement', 'yr_built', 'yr_renovated', 'sqft_living15',\n",
      "       'sqft_lot15'],\n",
      "      dtype='object')\n",
      "[ 73826.38785382 558974.08203673  87568.29856773  68756.45457015\n",
      " 164663.8639791 ]\n",
      "{'bathrooms': 73826.38785382074, 'waterfront': 558974.082036726, 'view': 87568.29856772996, 'condition': 68756.45457014692, 'grade': 164663.86397910095}\n"
     ]
    }
   ],
   "source": [
    "print(rfe_1.support_)\n",
    "print(X_train.columns)\n",
    "print(rfe_1.estimator_.coef_)\n",
    "print(dict_train_5)"
   ]
  },
  {
   "cell_type": "code",
   "execution_count": 18,
   "id": "9b8db073",
   "metadata": {},
   "outputs": [
    {
     "name": "stdout",
     "output_type": "stream",
     "text": [
      "MSE val with standartization: 47761912049.86946\n",
      "MSE test with standartization: 48419454301.99658\n"
     ]
    }
   ],
   "source": [
    "rfe_2 = rfe.fit(X_train_scaled, y_train)\n",
    "y_pred_rfe_scaled = rfe_2.predict(X_val_scaled)\n",
    "y_pred_rfe_test_sc = rfe_2.predict(X_test_scaled)\n",
    "\n",
    "mse_val[5] = (mse(y_val, y_pred_rfe_scaled))\n",
    "print(\"MSE val with standartization:\", mse_val[5])\n",
    "mse_test[5] = (mse(y_test, y_pred_rfe_test_sc))\n",
    "print(\"MSE test with standartization:\", mse_test[5])\n",
    "\n",
    "dict_train_6 = {}\n",
    "l = 0\n",
    "for i in range (len(rfe_2.support_)):\n",
    "    if rfe_2.support_[i] == True:\n",
    "        dict_train_6[X_train.columns[i]] = rfe_2.estimator_.coef_[l]\n",
    "        l = l+1"
   ]
  },
  {
   "cell_type": "code",
   "execution_count": 19,
   "id": "a665d386",
   "metadata": {},
   "outputs": [
    {
     "name": "stdout",
     "output_type": "stream",
     "text": [
      "[ 167023.34947317   60251.41019383  164969.20471979   -8891.75967626\n",
      " -102331.39780581]\n",
      "{'sqft_living': 167023.34947317277, 'waterfront': 60251.4101938285, 'grade': 164969.2047197853, 'sqft_above': -8891.759676257643, 'yr_built': -102331.39780581126}\n"
     ]
    }
   ],
   "source": [
    "print(rfe_2.estimator_.coef_)\n",
    "print(dict_train_6)"
   ]
  },
  {
   "cell_type": "code",
   "execution_count": 20,
   "id": "7a47442c",
   "metadata": {},
   "outputs": [
    {
     "name": "stdout",
     "output_type": "stream",
     "text": [
      "MSE val with normalization: 59241761832.89006\n",
      "MSE test with normalization: 60634950053.95871\n"
     ]
    }
   ],
   "source": [
    "rfe_3 = rfe.fit(X_train_scaled_n, y_train)\n",
    "y_pred_rfe_n = rfe_3.predict(X_val_scaled_n)\n",
    "y_pred_rfe_test_n = rfe_3.predict(X_test_scaled_n)\n",
    "\n",
    "mse_val[6] = (mse(y_val, y_pred_rfe_n))\n",
    "print(\"MSE val with normalization:\", mse_val[6])\n",
    "mse_test[6] = (mse(y_test, y_pred_rfe_test_n))\n",
    "print(\"MSE test with normalization:\", mse_test[6])\n",
    "\n",
    "dict_train_7 = {}\n",
    "l = 0\n",
    "for i in range (len(rfe_3.support_)):\n",
    "    if rfe_3.support_[i] == True:\n",
    "        dict_train_7[X_train.columns[i]] = rfe_3.estimator_.coef_[l]\n",
    "        l = l+1"
   ]
  },
  {
   "cell_type": "code",
   "execution_count": 21,
   "id": "206bea23",
   "metadata": {},
   "outputs": [
    {
     "name": "stdout",
     "output_type": "stream",
     "text": [
      "MSE val with log: 56025767959.23278\n",
      "MSE test with log: 57209745331.27951\n"
     ]
    }
   ],
   "source": [
    "rfe_4 = rfe.fit(X_train_log, y_train)\n",
    "y_pred_rfe_log = rfe_4.predict(X_val_log)\n",
    "y_pred_rfe_test_l = rfe_4.predict(X_test_log)\n",
    "\n",
    "mse_val[7] = (mse(y_val, y_pred_rfe_log))\n",
    "print(\"MSE val with log:\", mse_val[7] )\n",
    "mse_test[7] = (mse(y_test, y_pred_rfe_test_l))\n",
    "print(\"MSE test with log:\", mse_test[7])\n",
    "\n",
    "dict_train_8 = {}\n",
    "l = 0\n",
    "for i in range (15):\n",
    "    if rfe_4.support_[i] == True:\n",
    "        dict_train_8[X_train.columns[i]] = rfe_4.estimator_.coef_[l]\n",
    "        l +=1"
   ]
  },
  {
   "cell_type": "code",
   "execution_count": 22,
   "id": "5f4ec95c",
   "metadata": {},
   "outputs": [
    {
     "data": {
      "text/html": [
       "<div>\n",
       "<style scoped>\n",
       "    .dataframe tbody tr th:only-of-type {\n",
       "        vertical-align: middle;\n",
       "    }\n",
       "\n",
       "    .dataframe tbody tr th {\n",
       "        vertical-align: top;\n",
       "    }\n",
       "\n",
       "    .dataframe thead th {\n",
       "        text-align: right;\n",
       "    }\n",
       "</style>\n",
       "<table border=\"1\" class=\"dataframe\">\n",
       "  <thead>\n",
       "    <tr style=\"text-align: right;\">\n",
       "      <th></th>\n",
       "      <th>LR</th>\n",
       "      <th>LR-standartized</th>\n",
       "      <th>LR-normalized</th>\n",
       "      <th>LR-log</th>\n",
       "      <th>LR-RFE</th>\n",
       "      <th>LR-standartized-RFE</th>\n",
       "      <th>LR-normalized-RFE</th>\n",
       "      <th>LR-log-RFE</th>\n",
       "    </tr>\n",
       "  </thead>\n",
       "  <tbody>\n",
       "    <tr>\n",
       "      <th>0</th>\n",
       "      <td>waterfront</td>\n",
       "      <td>grade</td>\n",
       "      <td>grade</td>\n",
       "      <td>yr_built</td>\n",
       "      <td>waterfront</td>\n",
       "      <td>sqft_living</td>\n",
       "      <td>bedrooms</td>\n",
       "      <td>yr_built</td>\n",
       "    </tr>\n",
       "    <tr>\n",
       "      <th>1</th>\n",
       "      <td>grade</td>\n",
       "      <td>yr_built</td>\n",
       "      <td>bedrooms</td>\n",
       "      <td>grade</td>\n",
       "      <td>grade</td>\n",
       "      <td>grade</td>\n",
       "      <td>grade</td>\n",
       "      <td>grade</td>\n",
       "    </tr>\n",
       "    <tr>\n",
       "      <th>2</th>\n",
       "      <td>bathrooms</td>\n",
       "      <td>sqft_living</td>\n",
       "      <td>sqft_above</td>\n",
       "      <td>waterfront</td>\n",
       "      <td>view</td>\n",
       "      <td>yr_built</td>\n",
       "      <td>sqft_living</td>\n",
       "      <td>waterfront</td>\n",
       "    </tr>\n",
       "    <tr>\n",
       "      <th>3</th>\n",
       "      <td>view</td>\n",
       "      <td>sqft_above</td>\n",
       "      <td>sqft_living</td>\n",
       "      <td>sqft_above</td>\n",
       "      <td>bathrooms</td>\n",
       "      <td>waterfront</td>\n",
       "      <td>sqft_above</td>\n",
       "      <td>sqft_living</td>\n",
       "    </tr>\n",
       "    <tr>\n",
       "      <th>4</th>\n",
       "      <td>bedrooms</td>\n",
       "      <td>bathrooms</td>\n",
       "      <td>waterfront</td>\n",
       "      <td>bathrooms</td>\n",
       "      <td>condition</td>\n",
       "      <td>sqft_above</td>\n",
       "      <td>sqft_basement</td>\n",
       "      <td>bathrooms</td>\n",
       "    </tr>\n",
       "  </tbody>\n",
       "</table>\n",
       "</div>"
      ],
      "text/plain": [
       "           LR LR-standartized LR-normalized      LR-log      LR-RFE  \\\n",
       "0  waterfront           grade         grade    yr_built  waterfront   \n",
       "1       grade        yr_built      bedrooms       grade       grade   \n",
       "2   bathrooms     sqft_living    sqft_above  waterfront        view   \n",
       "3        view      sqft_above   sqft_living  sqft_above   bathrooms   \n",
       "4    bedrooms       bathrooms    waterfront   bathrooms   condition   \n",
       "\n",
       "  LR-standartized-RFE LR-normalized-RFE   LR-log-RFE  \n",
       "0         sqft_living          bedrooms     yr_built  \n",
       "1               grade             grade        grade  \n",
       "2            yr_built       sqft_living   waterfront  \n",
       "3          waterfront        sqft_above  sqft_living  \n",
       "4          sqft_above     sqft_basement    bathrooms  "
      ]
     },
     "execution_count": 22,
     "metadata": {},
     "output_type": "execute_result"
    }
   ],
   "source": [
    "features = pd.DataFrame({'LR': [sorted(dict_train_1.items(), key=lambda x:abs(x[1]), reverse=1)[i][0] for i in range (5)],\n",
    "                         'LR-standartized': [sorted(dict_train_2.items(), key=lambda x:abs(x[1]), reverse=1)[i][0] for i in range (5)],\n",
    "                         'LR-normalized': [sorted(dict_train_3.items(), key=lambda x:abs(x[1]), reverse=1)[i][0] for i in range (5)],\n",
    "                         'LR-log': [sorted(dict_train_4.items(), key=lambda x:abs(x[1]), reverse=1)[i][0] for i in range (5)],\n",
    "                         'LR-RFE': [sorted(dict_train_5.items(), key=lambda x:abs(x[1]), reverse=1)[i][0] for i in range (5)],\n",
    "                         'LR-standartized-RFE': [sorted(dict_train_6.items(), key=lambda x:abs(x[1]), reverse=1)[i][0] for i in range (5)], \n",
    "                         'LR-normalized-RFE': [sorted(dict_train_7.items(), key=lambda x:abs(x[1]), reverse=1)[i][0] for i in range (5)],\n",
    "                         'LR-log-RFE':[sorted(dict_train_8.items(), key=lambda x:abs(x[1]), reverse=1)[i][0] for i in range (5)] })\n",
    "features"
   ]
  },
  {
   "cell_type": "code",
   "execution_count": 23,
   "id": "97044a33",
   "metadata": {},
   "outputs": [
    {
     "data": {
      "text/html": [
       "<div>\n",
       "<style scoped>\n",
       "    .dataframe tbody tr th:only-of-type {\n",
       "        vertical-align: middle;\n",
       "    }\n",
       "\n",
       "    .dataframe tbody tr th {\n",
       "        vertical-align: top;\n",
       "    }\n",
       "\n",
       "    .dataframe thead th {\n",
       "        text-align: right;\n",
       "    }\n",
       "</style>\n",
       "<table border=\"1\" class=\"dataframe\">\n",
       "  <thead>\n",
       "    <tr style=\"text-align: right;\">\n",
       "      <th></th>\n",
       "      <th>LR</th>\n",
       "      <th>LR-standartized</th>\n",
       "      <th>LR-normalized</th>\n",
       "      <th>LR-log</th>\n",
       "      <th>LR-RFE</th>\n",
       "      <th>LR-standartized-RFE</th>\n",
       "      <th>LR-normalized-RFE</th>\n",
       "      <th>LR-log-RFE</th>\n",
       "    </tr>\n",
       "  </thead>\n",
       "  <tbody>\n",
       "    <tr>\n",
       "      <th>mse_val</th>\n",
       "      <td>4.460069e+10</td>\n",
       "      <td>4.460069e+10</td>\n",
       "      <td>4.460069e+10</td>\n",
       "      <td>5.184104e+10</td>\n",
       "      <td>5.982696e+10</td>\n",
       "      <td>4.776191e+10</td>\n",
       "      <td>5.924176e+10</td>\n",
       "      <td>5.602577e+10</td>\n",
       "    </tr>\n",
       "    <tr>\n",
       "      <th>mse_test</th>\n",
       "      <td>4.661159e+10</td>\n",
       "      <td>4.661159e+10</td>\n",
       "      <td>4.661159e+10</td>\n",
       "      <td>5.417922e+10</td>\n",
       "      <td>6.098814e+10</td>\n",
       "      <td>4.841945e+10</td>\n",
       "      <td>6.063495e+10</td>\n",
       "      <td>5.720975e+10</td>\n",
       "    </tr>\n",
       "  </tbody>\n",
       "</table>\n",
       "</div>"
      ],
      "text/plain": [
       "                    LR  LR-standartized  LR-normalized        LR-log  \\\n",
       "mse_val   4.460069e+10     4.460069e+10   4.460069e+10  5.184104e+10   \n",
       "mse_test  4.661159e+10     4.661159e+10   4.661159e+10  5.417922e+10   \n",
       "\n",
       "                LR-RFE  LR-standartized-RFE  LR-normalized-RFE    LR-log-RFE  \n",
       "mse_val   5.982696e+10         4.776191e+10       5.924176e+10  5.602577e+10  \n",
       "mse_test  6.098814e+10         4.841945e+10       6.063495e+10  5.720975e+10  "
      ]
     },
     "execution_count": 23,
     "metadata": {},
     "output_type": "execute_result"
    }
   ],
   "source": [
    "final = pd.DataFrame([mse_val, mse_test], index=['mse_val', 'mse_test'], columns = ['LR', 'LR-standartized','LR-normalized','LR-log','LR-RFE','LR-standartized-RFE','LR-normalized-RFE','LR-log-RFE'])\n",
    "final "
   ]
  },
  {
   "cell_type": "markdown",
   "id": "38ca8def",
   "metadata": {},
   "source": [
    "## Подготовьте репорт о выполненном домашнем задании\n",
    "\n",
    "jupyter notebook c вашим решением необходимо отправить на почту kurmukovai@gmail.com, с темой письма [ml-ds-2024-ha2-Surname], например [ml-ds-2023-ha2-Kurmukov] до 12:00 МСК 15.02.2023. Задания отправленные до полуночи Вторника 13.02.2023 получают +1 балл в случае полного выполнения.\n",
    "\n",
    "Обратите внимание, что нотбук с вашим решением должно быть возможно запустить путем Kernel -> Restart & Run all. И он не должен падать с ошибками. Если он будет падать с ошибками вы можете потерять часть баллов за задания."
   ]
  },
  {
   "cell_type": "code",
   "execution_count": null,
   "id": "2be05870",
   "metadata": {},
   "outputs": [],
   "source": []
  }
 ],
 "metadata": {
  "kernelspec": {
   "display_name": "Python 3 (ipykernel)",
   "language": "python",
   "name": "python3"
  },
  "language_info": {
   "codemirror_mode": {
    "name": "ipython",
    "version": 3
   },
   "file_extension": ".py",
   "mimetype": "text/x-python",
   "name": "python",
   "nbconvert_exporter": "python",
   "pygments_lexer": "ipython3",
   "version": "3.10.2"
  }
 },
 "nbformat": 4,
 "nbformat_minor": 5
}
