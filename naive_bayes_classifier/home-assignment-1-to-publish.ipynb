{
 "cells": [
  {
   "cell_type": "markdown",
   "id": "a7973ccf",
   "metadata": {},
   "source": [
    "# Домашнее задание 1. \n",
    "\n",
    "-  \"Оптимальность\" наивного Байесовского классификатора\n",
    "- Оценка \"важности\" признаков (feature importance)\n",
    "\n",
    "Для тех кто не знаком с библиотекой pandas я рекомендую вот эти два практических туториала:\n",
    "\n",
    "-  https://nbviewer.jupyter.org/github/justmarkham/pandas-videos/blob/master/pandas.ipynb (1-3 часа на прохождение, 30 вопросов с видео разборами)\n",
    "- https://github.com/guipsamora/pandas_exercises/ 11 топиков покрывающих весь основной функционал библиотеки\n"
   ]
  },
  {
   "cell_type": "code",
   "execution_count": 604,
   "id": "df3f9952",
   "metadata": {},
   "outputs": [],
   "source": [
    "from sklearn.metrics import confusion_matrix, precision_score, recall_score, accuracy_score"
   ]
  },
  {
   "cell_type": "markdown",
   "id": "7104cd39",
   "metadata": {},
   "source": [
    "## 1. Наивный Байес\n",
    "\n",
    "Ваша задача сравнить вероятности получаемые наивным байесовским классификатором с вероятностями получаемыми если не делать предположения о независимости признаков. Мы будем делать это для 2 признаков рассмотренных на семинаре: Пол и Класс билета (пассажира)."
   ]
  },
  {
   "cell_type": "code",
   "execution_count": 605,
   "id": "4d081a96",
   "metadata": {},
   "outputs": [],
   "source": [
    "import pandas as pd"
   ]
  },
  {
   "cell_type": "code",
   "execution_count": 606,
   "id": "08916921",
   "metadata": {},
   "outputs": [],
   "source": [
    "df = pd.read_csv('./titanic_data.csv')"
   ]
  },
  {
   "cell_type": "code",
   "execution_count": 607,
   "id": "f8497c59",
   "metadata": {},
   "outputs": [],
   "source": [
    "X = pd.DataFrame()\n",
    "\n",
    "X['Sex'] = df['Sex'].map({\n",
    "    'Male':0,\n",
    "    'Female':1\n",
    "})\n",
    "X['PassengerClass'] = df['Passenger Class'].map({\n",
    "    'First': 1,\n",
    "    'Second': 2,\n",
    "    'Third': 3\n",
    "})\n",
    "\n",
    "X['Survived'] = df['Survived'].map({\n",
    "    'Yes': 1,\n",
    "    'No': 0\n",
    "})\n",
    "\n",
    "y = X['Survived']\n",
    "X = X.drop(['Survived'], axis=1)"
   ]
  },
  {
   "cell_type": "markdown",
   "id": "884ee769",
   "metadata": {},
   "source": [
    "## 1.1 Разделим данные на тренировочную и тестовую части 70-30\n",
    "\n",
    "сколько наблюдений оказалось в тренировочной и тестовой выборках? В тренировочной 916, в тестовой 393"
   ]
  },
  {
   "cell_type": "code",
   "execution_count": 608,
   "id": "bff7a804",
   "metadata": {},
   "outputs": [],
   "source": [
    "from sklearn.model_selection import train_test_split"
   ]
  },
  {
   "cell_type": "code",
   "execution_count": 609,
   "id": "33ea4670",
   "metadata": {},
   "outputs": [],
   "source": [
    "X_train, X_test, y_train, y_test = train_test_split(X, y, train_size=0.70, random_state=5)"
   ]
  },
  {
   "cell_type": "code",
   "execution_count": 610,
   "id": "41e9d7df",
   "metadata": {},
   "outputs": [
    {
     "data": {
      "text/plain": [
       "(916, 2)"
      ]
     },
     "execution_count": 610,
     "metadata": {},
     "output_type": "execute_result"
    }
   ],
   "source": [
    "X_train.shape"
   ]
  },
  {
   "cell_type": "code",
   "execution_count": 611,
   "id": "0cef228f",
   "metadata": {},
   "outputs": [
    {
     "data": {
      "text/plain": [
       "(393, 2)"
      ]
     },
     "execution_count": 611,
     "metadata": {},
     "output_type": "execute_result"
    }
   ],
   "source": [
    "X_test.shape"
   ]
  },
  {
   "cell_type": "code",
   "execution_count": 612,
   "id": "ffa9ca8d",
   "metadata": {},
   "outputs": [
    {
     "data": {
      "text/plain": [
       "Sex    PassengerClass\n",
       "False  False             916\n",
       "dtype: int64"
      ]
     },
     "execution_count": 612,
     "metadata": {},
     "output_type": "execute_result"
    }
   ],
   "source": [
    "X_train.isnull().value_counts()"
   ]
  },
  {
   "cell_type": "code",
   "execution_count": 613,
   "id": "fd9f507b",
   "metadata": {},
   "outputs": [
    {
     "data": {
      "text/plain": [
       "Sex    PassengerClass\n",
       "False  False             393\n",
       "dtype: int64"
      ]
     },
     "execution_count": 613,
     "metadata": {},
     "output_type": "execute_result"
    }
   ],
   "source": [
    "X_test.isnull().value_counts()"
   ]
  },
  {
   "cell_type": "markdown",
   "id": "bdf6e1fc",
   "metadata": {},
   "source": [
    "## 1.2 Реализуйте функцию `get_probability_survived_bayes`\n",
    "\n",
    "Которая считает честные вероятности выживания при условии заданного класса билета и пола:\n",
    "\n",
    "$$\n",
    "P(\\text{y}|\\text{Sex}, \\text{Passenger Class}) = \\frac{p(\\text{Sex}|\\text{Passenger Class}, \\text{y}) p(\\text{Passenger Class}|\\text{ y}) p(\\text{y})}{p(\\text{Sex}|\\text{Passenger Class}) p(\\text{Passenger Class})}\n",
    "$$\n",
    "\n",
    "## Помните что оценка вероятностей всегда должна происходить на тренировочной выборке."
   ]
  },
  {
   "cell_type": "code",
   "execution_count": 614,
   "id": "01177ce2",
   "metadata": {},
   "outputs": [],
   "source": [
    "from typing import Tuple"
   ]
  },
  {
   "cell_type": "code",
   "execution_count": 615,
   "id": "f1c44dfa",
   "metadata": {},
   "outputs": [
    {
     "data": {
      "text/plain": [
       "0    597\n",
       "1    319\n",
       "Name: Sex, dtype: int64"
      ]
     },
     "execution_count": 615,
     "metadata": {},
     "output_type": "execute_result"
    }
   ],
   "source": [
    "X_train[\"Sex\"].value_counts()"
   ]
  },
  {
   "cell_type": "code",
   "execution_count": 616,
   "id": "6be76fa5",
   "metadata": {},
   "outputs": [
    {
     "data": {
      "text/plain": [
       "3    493\n",
       "1    243\n",
       "2    180\n",
       "Name: PassengerClass, dtype: int64"
      ]
     },
     "execution_count": 616,
     "metadata": {},
     "output_type": "execute_result"
    }
   ],
   "source": [
    "X_train[\"PassengerClass\"].value_counts()"
   ]
  },
  {
   "cell_type": "code",
   "execution_count": 617,
   "id": "8c3ab2be",
   "metadata": {},
   "outputs": [
    {
     "name": "stdout",
     "output_type": "stream",
     "text": [
      "0    563\n",
      "1    353\n",
      "Name: Survived, dtype: int64\n",
      "916\n"
     ]
    }
   ],
   "source": [
    "print(y_train.value_counts())\n",
    "print(y_train.shape[0])"
   ]
  },
  {
   "cell_type": "code",
   "execution_count": 618,
   "id": "9c477f9b",
   "metadata": {},
   "outputs": [],
   "source": [
    "# Hint 1. Используйте pandas.groupby\n",
    "# Hint 2. Вы возвращаете tuple p_not_survived, p_survived, в котором\n",
    "# вероятность выжить находится на второй позиции, чтобы когда вы берете аргмакс получать метки классов 0/1 (не выжил/выжил)\n",
    "\n",
    "def get_probability_survived_bayes(pclass: int, sex: int) -> Tuple[float, float]:\n",
    "    '''Given `Passenger Class` and `Sex` returns true probabilities tuple(p_not_survived, p_survived)'''\n",
    "    \n",
    "    p_pass_class = X_train[\"PassengerClass\"].value_counts()[pclass] / X_train[\"PassengerClass\"].shape[0]\n",
    "    p_sex_pass_class = X_train.groupby(['PassengerClass']).value_counts()[pclass][sex] / \\\n",
    "                        X_train.groupby(['PassengerClass']).value_counts()[pclass].sum()\n",
    "\n",
    "    all = y_train.shape[0]\n",
    "    surv = 1\n",
    "    not_surv = 0\n",
    "    p_not_survived_prior = y_train.value_counts()[not_surv] / all\n",
    "    p_survived_prior = y_train.value_counts()[surv] / all\n",
    "\n",
    "    X_full = X_train.join(y_train)\n",
    "    p_pass_class_not_survived = X_full.groupby([\"Survived\", \"PassengerClass\"]).count()['Sex'][not_surv][pclass] / \\\n",
    "                                X_full.groupby([\"Survived\", \"PassengerClass\"]).count()['Sex'][not_surv].sum()\n",
    "    \n",
    "    p_pass_class_survived = X_full.groupby([\"Survived\", \"PassengerClass\"]).count()['Sex'][surv][pclass] / \\\n",
    "                                X_full.groupby([\"Survived\", \"PassengerClass\"]).count()['Sex'][surv].sum()\n",
    "    \n",
    "    p_sex_pass_class_not_survived = X_full.groupby([\"PassengerClass\", \"Survived\"]).value_counts().to_frame()[0][pclass][not_surv][sex] / \\\n",
    "                                X_full.groupby([\"PassengerClass\", \"Survived\"]).value_counts().to_frame()[0][pclass][not_surv].sum()\n",
    "    \n",
    "    p_sex_pass_class_survived = X_full.groupby([\"PassengerClass\", \"Survived\"]).value_counts().to_frame()[0][pclass][surv][sex] / \\\n",
    "                                X_full.groupby([\"PassengerClass\", \"Survived\"]).value_counts().to_frame()[0][pclass][surv].sum()\n",
    "    \n",
    "    p_not_survived = (p_sex_pass_class_not_survived * p_pass_class_not_survived * p_not_survived_prior) / \\\n",
    "                        (p_sex_pass_class * p_pass_class)\n",
    "    p_survived = (p_sex_pass_class_survived * p_pass_class_survived * p_survived_prior) / \\\n",
    "                        (p_sex_pass_class * p_pass_class)\n",
    "    return(p_not_survived, p_survived)"
   ]
  },
  {
   "cell_type": "code",
   "execution_count": 619,
   "id": "b9d25923",
   "metadata": {},
   "outputs": [
    {
     "data": {
      "text/plain": [
       "(0.6417910447761194, 0.3582089552238805)"
      ]
     },
     "execution_count": 619,
     "metadata": {},
     "output_type": "execute_result"
    }
   ],
   "source": [
    "get_probability_survived_bayes(1,0)"
   ]
  },
  {
   "cell_type": "markdown",
   "id": "dc7484a1",
   "metadata": {},
   "source": [
    "## 1.3 Реализуйте функцию `get_probability_survived_bayes_naive`\n",
    "\n",
    "Которая оценивает вероятность выжить в предположении о независимости признаков\n",
    "\n",
    "$$\n",
    "P(\\text{y}|\\text{Sex}, \\text{Passenger Class}) = \\frac{p(\\text{Sex}|\\text{y}) p(\\text{Passenger Class}|\\text{ y}) p(\\text{y})}{p(\\text{Sex}) p(\\text{Passenger Class})}\n",
    "$$"
   ]
  },
  {
   "cell_type": "code",
   "execution_count": 620,
   "id": "5ee72a95",
   "metadata": {},
   "outputs": [],
   "source": [
    "def get_probability_survived_bayes_naive(pclass: int, sex: int) -> Tuple[float, float]:\n",
    "    '''Given `Passenger Class` and `Sex` returns tuple(p_not_survived, p_survived), \n",
    "    under naive assumption of features independence'''\n",
    "    ...\n",
    "    \n",
    "# Hint 1. Поскольку вы делаете предположении о независимости признаков, то p(y=1|...) + p(y=0| ...) некорректно отнормированы\n",
    "# и не будут суммироваться в 1. Не забудьте выполнить необходимую нормировку.\n",
    "    \n",
    "    p_pass_class = X_train[\"PassengerClass\"].value_counts()[pclass] / X_train[\"PassengerClass\"].shape[0]\n",
    "    p_sex = X_train[\"Sex\"].value_counts()[sex] / X_train[\"Sex\"].shape[0]\n",
    "\n",
    "    all = y_train.shape[0]\n",
    "    surv = 1\n",
    "    not_surv = 0\n",
    "    p_not_survived_prior = y_train.value_counts()[not_surv] / all\n",
    "    p_survived_prior = y_train.value_counts()[surv] / all\n",
    "\n",
    "    X_full = X_train.join(y_train)\n",
    "    p_pass_class_not_survived = X_full.groupby([\"Survived\", \"PassengerClass\"]).count()['Sex'][not_surv][pclass] / \\\n",
    "                                X_full.groupby([\"Survived\", \"PassengerClass\"]).count()['Sex'][not_surv].sum()\n",
    "    \n",
    "    p_pass_class_survived = X_full.groupby([\"Survived\", \"PassengerClass\"]).count()['Sex'][surv][pclass] / \\\n",
    "                                X_full.groupby([\"Survived\", \"PassengerClass\"]).count()['Sex'][surv].sum()\n",
    "    \n",
    "    p_sex_not_survived = X_full.groupby([\"Survived\", \"Sex\"]).count()[\"PassengerClass\"][not_surv][sex] / \\\n",
    "                                X_full.groupby([\"Survived\", \"Sex\"]).count()[\"PassengerClass\"][not_surv].sum()\n",
    "        \n",
    "    p_sex_survived = X_full.groupby([\"Survived\", \"Sex\"]).count()[\"PassengerClass\"][surv][sex] / \\\n",
    "                                X_full.groupby([\"Survived\", \"Sex\"]).count()[\"PassengerClass\"][surv].sum()\n",
    "    \n",
    "    p_not_survived = (p_sex_not_survived * p_pass_class_not_survived * p_not_survived_prior) / \\\n",
    "                    (p_sex * p_pass_class)\n",
    "    p_survived = (p_sex_survived * p_pass_class_survived * p_survived_prior) / \\\n",
    "                    (p_sex * p_pass_class)\n",
    "    norm_p_not_survived = p_not_survived / (p_not_survived + p_survived)\n",
    "    norm_p_survived = p_survived / (p_not_survived + p_survived)\n",
    "    return (norm_p_not_survived, norm_p_survived)"
   ]
  },
  {
   "cell_type": "code",
   "execution_count": 621,
   "id": "8e512d88",
   "metadata": {},
   "outputs": [
    {
     "data": {
      "text/plain": [
       "(0.61236332199898, 0.38763667800102003)"
      ]
     },
     "execution_count": 621,
     "metadata": {},
     "output_type": "execute_result"
    }
   ],
   "source": [
    "get_probability_survived_bayes_naive(1,0)"
   ]
  },
  {
   "cell_type": "markdown",
   "id": "ab34439e",
   "metadata": {},
   "source": [
    "## 1.4 Используйте ваши функции для того чтобы сделать предсказание на тесте\n",
    "\n",
    "\n",
    "Для всех 6 уникальных комбинаций значений признаков сравните вероятности принадлежности классу 1\n",
    " - насколько они отличаются?\n",
    " Ответ: отличия совсем незначительные\n",
    " - влияют ли эти отличия на предсказание класса объекта, при пороге $p = 0.5$?\n",
    " Ответ: не влияют"
   ]
  },
  {
   "cell_type": "code",
   "execution_count": 622,
   "id": "b36f3fd7",
   "metadata": {},
   "outputs": [],
   "source": [
    "from tqdm.notebook import tqdm"
   ]
  },
  {
   "cell_type": "code",
   "execution_count": 623,
   "id": "fd4246f5",
   "metadata": {},
   "outputs": [],
   "source": [
    "y_naive_proba_dict = {}\n",
    "\n",
    "for _, (sex, pclass) in X_test.iterrows():\n",
    "    y_naive_proba_dict[(sex, pclass)] = get_probability_survived_bayes_naive(pclass, sex)"
   ]
  },
  {
   "cell_type": "code",
   "execution_count": 624,
   "id": "1dbb622f",
   "metadata": {},
   "outputs": [],
   "source": [
    "y_proba_dict = {}\n",
    "\n",
    "for _, (sex, pclass) in X_test.iterrows():\n",
    "    y_proba_dict[(sex, pclass)] = get_probability_survived_bayes(pclass, sex)"
   ]
  },
  {
   "cell_type": "code",
   "execution_count": 625,
   "id": "db040d3a",
   "metadata": {},
   "outputs": [
    {
     "data": {
      "text/plain": [
       "{(0, 2): (0.8047975487446595, 0.19520245125534053),\n",
       " (1, 2): (0.24061063532344093, 0.759389364676559),\n",
       " (0, 3): (0.8834204092763698, 0.11657959072363035),\n",
       " (1, 3): (0.3680337886313606, 0.6319662113686394),\n",
       " (0, 1): (0.61236332199898, 0.38763667800102003),\n",
       " (1, 1): (0.10826076998031765, 0.8917392300196825)}"
      ]
     },
     "execution_count": 625,
     "metadata": {},
     "output_type": "execute_result"
    }
   ],
   "source": [
    "y_naive_proba_dict"
   ]
  },
  {
   "cell_type": "code",
   "execution_count": 626,
   "id": "fccfa5ae",
   "metadata": {},
   "outputs": [
    {
     "name": "stdout",
     "output_type": "stream",
     "text": [
      "(0, 2) 0\n",
      "(1, 2) 1\n",
      "(0, 3) 0\n",
      "(1, 3) 1\n",
      "(0, 1) 0\n",
      "(1, 1) 1\n"
     ]
    }
   ],
   "source": [
    "import numpy as np\n",
    "for i in y_naive_proba_dict:\n",
    "    print(i, np.argmax(y_naive_proba_dict[i]))"
   ]
  },
  {
   "cell_type": "code",
   "execution_count": 627,
   "id": "f6d0ca59",
   "metadata": {},
   "outputs": [
    {
     "data": {
      "text/plain": [
       "{(0, 2): (0.8771929824561405, 0.12280701754385966),\n",
       " (1, 2): (0.13636363636363638, 0.8636363636363639),\n",
       " (0, 3): (0.8538681948424067, 0.1461318051575931),\n",
       " (1, 3): (0.4583333333333333, 0.5416666666666666),\n",
       " (0, 1): (0.6417910447761194, 0.3582089552238805),\n",
       " (1, 1): (0.03669724770642202, 0.9633027522935779)}"
      ]
     },
     "execution_count": 627,
     "metadata": {},
     "output_type": "execute_result"
    }
   ],
   "source": [
    "y_proba_dict"
   ]
  },
  {
   "cell_type": "code",
   "execution_count": 628,
   "id": "edb6f119",
   "metadata": {},
   "outputs": [
    {
     "name": "stdout",
     "output_type": "stream",
     "text": [
      "(0, 2) 0\n",
      "(1, 2) 1\n",
      "(0, 3) 0\n",
      "(1, 3) 1\n",
      "(0, 1) 0\n",
      "(1, 1) 1\n"
     ]
    }
   ],
   "source": [
    "for i in y_proba_dict:\n",
    "    print(i, np.argmax(y_naive_proba_dict[i]))"
   ]
  },
  {
   "cell_type": "markdown",
   "id": "9b07b1f5",
   "metadata": {},
   "source": [
    "## 1.5 Обучите имплементацию `MultinomialNB` из `sklearn`\n",
    "\n",
    "Тот же вопрос что и 1.4, прокомментируйте отличия в оценке вероятности ваших имлементаций и имплементации\n",
    "`MultinomialNB`. Влияют ли они на предсказание классов при стандартном пороге вероятности (p=0.5)? Заполните таблицу `probabilities`."
   ]
  },
  {
   "cell_type": "code",
   "execution_count": 629,
   "id": "bed3a826",
   "metadata": {},
   "outputs": [],
   "source": [
    "from sklearn.naive_bayes import MultinomialNB\n",
    "clf = MultinomialNB()\n",
    "\n",
    "clf.fit(X_train, y_train)\n",
    "\n",
    "features = pd.DataFrame({'Sex':[0,0,0,1,1,1], 'PassengerClass':[1,2,3,1,2,3]})\n",
    "arr = clf.predict_proba(features)\n",
    "\n",
    "y_pred_2 = clf.predict(X_test)"
   ]
  },
  {
   "cell_type": "code",
   "execution_count": 630,
   "id": "bf606069",
   "metadata": {},
   "outputs": [
    {
     "data": {
      "text/html": [
       "<div>\n",
       "<style scoped>\n",
       "    .dataframe tbody tr th:only-of-type {\n",
       "        vertical-align: middle;\n",
       "    }\n",
       "\n",
       "    .dataframe tbody tr th {\n",
       "        vertical-align: top;\n",
       "    }\n",
       "\n",
       "    .dataframe thead th {\n",
       "        text-align: right;\n",
       "    }\n",
       "</style>\n",
       "<table border=\"1\" class=\"dataframe\">\n",
       "  <thead>\n",
       "    <tr style=\"text-align: right;\">\n",
       "      <th></th>\n",
       "      <th>Sex</th>\n",
       "      <th>Passenger Class</th>\n",
       "      <th>Bayes</th>\n",
       "      <th>BayesNaive</th>\n",
       "      <th>MultinomialNB</th>\n",
       "    </tr>\n",
       "  </thead>\n",
       "  <tbody>\n",
       "    <tr>\n",
       "      <th>0</th>\n",
       "      <td>0</td>\n",
       "      <td>1</td>\n",
       "      <td>0.358209</td>\n",
       "      <td>0.387637</td>\n",
       "      <td>0.328826</td>\n",
       "    </tr>\n",
       "    <tr>\n",
       "      <th>1</th>\n",
       "      <td>0</td>\n",
       "      <td>2</td>\n",
       "      <td>0.122807</td>\n",
       "      <td>0.195202</td>\n",
       "      <td>0.276841</td>\n",
       "    </tr>\n",
       "    <tr>\n",
       "      <th>2</th>\n",
       "      <td>0</td>\n",
       "      <td>3</td>\n",
       "      <td>0.146132</td>\n",
       "      <td>0.116580</td>\n",
       "      <td>0.230255</td>\n",
       "    </tr>\n",
       "    <tr>\n",
       "      <th>3</th>\n",
       "      <td>1</td>\n",
       "      <td>1</td>\n",
       "      <td>0.963303</td>\n",
       "      <td>0.891739</td>\n",
       "      <td>0.702877</td>\n",
       "    </tr>\n",
       "    <tr>\n",
       "      <th>4</th>\n",
       "      <td>1</td>\n",
       "      <td>2</td>\n",
       "      <td>0.863636</td>\n",
       "      <td>0.759389</td>\n",
       "      <td>0.648932</td>\n",
       "    </tr>\n",
       "    <tr>\n",
       "      <th>5</th>\n",
       "      <td>1</td>\n",
       "      <td>3</td>\n",
       "      <td>0.541667</td>\n",
       "      <td>0.631966</td>\n",
       "      <td>0.590894</td>\n",
       "    </tr>\n",
       "  </tbody>\n",
       "</table>\n",
       "</div>"
      ],
      "text/plain": [
       "   Sex  Passenger Class     Bayes  BayesNaive  MultinomialNB\n",
       "0    0                1  0.358209    0.387637       0.328826\n",
       "1    0                2  0.122807    0.195202       0.276841\n",
       "2    0                3  0.146132    0.116580       0.230255\n",
       "3    1                1  0.963303    0.891739       0.702877\n",
       "4    1                2  0.863636    0.759389       0.648932\n",
       "5    1                3  0.541667    0.631966       0.590894"
      ]
     },
     "execution_count": 630,
     "metadata": {},
     "output_type": "execute_result"
    }
   ],
   "source": [
    "probabilities = pd.DataFrame()\n",
    "probabilities['Sex'] = [0,0,0,1,1,1]\n",
    "probabilities['Passenger Class'] = [1,2,3,1,2,3]\n",
    "probabilities['Bayes'] = [y_proba_dict[(probabilities['Sex'][i],probabilities['Passenger Class'][i])][1] for i in range(6)]\n",
    "probabilities['BayesNaive'] = [y_naive_proba_dict[(probabilities['Sex'][i],probabilities['Passenger Class'][i])][1] for i in range(6)]\n",
    "probabilities['MultinomialNB'] = [arr[i][1] for i in range(6)]\n",
    "\n",
    "probabilities"
   ]
  },
  {
   "cell_type": "markdown",
   "id": "86941059",
   "metadata": {},
   "source": [
    "## 2.1 Используя MultinomialNB обучите классификатор на бОльшем количестве признаков\n",
    "\n",
    "1. Подготовьте признаки \n",
    "- 'Passenger Class',\n",
    "- 'Sex',\n",
    "- 'Age',\n",
    "- 'No of Siblings or Spouses on Board',\n",
    "- 'No of Parents or Children on Board',\n",
    "- 'Port of Embarkation'\n",
    "\n",
    "для обучения:\n",
    "- закодируйте столбец `Port of Embarkation` по аналогии с `Passenger Class`\n",
    "- заполните пропуски в столбце `Age` средним возрастом в датасете используйте `pd.DataFrame.fillna(...)`\n",
    "- заполните пропуске в столбце `Port of Embarkation` самым частым портом посадки\n",
    "- для разбиения на тренировчную и тестовую часть данных используйте `train_size=0.66` и `random_state=5`\n",
    "\n",
    "2. обучите MultinomialNB модель на тренировочной части данных\n",
    "2. Как изменилась точность вашей модели на тестовой части данных по сравнению с моделью обученной на 2 признаках?\n",
    "    Ответ: точность увеличилась на одну сотую\n",
    "3. Что означает признак `Life Boat`? Следуют ли на ваш взгляд включать его в список признаков для обучения модели? \n",
    "    Ответ: признак 'Life Boat' означает в какую спасательную лодку был посажен пассажир. По моему мнению, включать его в список признаков не имеет смысла, так как в нем 823 пропущенных значений.\n",
    "- Опишите сценарий (использования модели) в котором его следует включать в список признаков. \n",
    "Ответ: с другой стороны он дает очень высокую процентную выживаемость, так как если лодка доплыла, то с высокой вероятностью человек выжил, то есть если просто есть номер лодки, то уже можно сказать, что человек выжил\n",
    "- Опишите сценарий (использования модели) в котором его не следует включать в список признаков.\n",
    "Ответ: но в большинстве случаев нет информации о лодке, хотя человек выжил, что приведет в неправильной работе модели\n",
    "5. Какая ошибка содержится в предложенной последовательности действий в п. 2.1? \n",
    "    Ответ: возможно, сначала необходимо заполнить пропуски в столбце `Port of Embarkation` самым частым портом посадки, а после уже закодировать его. Кроме того, возможно не стоило заменять пропущенные значения средним значением."
   ]
  },
  {
   "cell_type": "code",
   "execution_count": 631,
   "id": "73544042",
   "metadata": {},
   "outputs": [
    {
     "data": {
      "text/html": [
       "<div>\n",
       "<style scoped>\n",
       "    .dataframe tbody tr th:only-of-type {\n",
       "        vertical-align: middle;\n",
       "    }\n",
       "\n",
       "    .dataframe tbody tr th {\n",
       "        vertical-align: top;\n",
       "    }\n",
       "\n",
       "    .dataframe thead th {\n",
       "        text-align: right;\n",
       "    }\n",
       "</style>\n",
       "<table border=\"1\" class=\"dataframe\">\n",
       "  <thead>\n",
       "    <tr style=\"text-align: right;\">\n",
       "      <th></th>\n",
       "      <th>Passenger Class</th>\n",
       "      <th>Name</th>\n",
       "      <th>Sex</th>\n",
       "      <th>Age</th>\n",
       "      <th>No of Siblings or Spouses on Board</th>\n",
       "      <th>No of Parents or Children on Board</th>\n",
       "      <th>Ticket Number</th>\n",
       "      <th>Passenger Fare</th>\n",
       "      <th>Cabin</th>\n",
       "      <th>Port of Embarkation</th>\n",
       "      <th>Life Boat</th>\n",
       "      <th>Survived</th>\n",
       "    </tr>\n",
       "  </thead>\n",
       "  <tbody>\n",
       "    <tr>\n",
       "      <th>0</th>\n",
       "      <td>First</td>\n",
       "      <td>Allen, Miss. Elisabeth Walton</td>\n",
       "      <td>Female</td>\n",
       "      <td>29.0000</td>\n",
       "      <td>0</td>\n",
       "      <td>0</td>\n",
       "      <td>24160</td>\n",
       "      <td>211.3375</td>\n",
       "      <td>B5</td>\n",
       "      <td>Southampton</td>\n",
       "      <td>2</td>\n",
       "      <td>Yes</td>\n",
       "    </tr>\n",
       "    <tr>\n",
       "      <th>1</th>\n",
       "      <td>First</td>\n",
       "      <td>Allison, Master. Hudson Trevor</td>\n",
       "      <td>Male</td>\n",
       "      <td>0.9167</td>\n",
       "      <td>1</td>\n",
       "      <td>2</td>\n",
       "      <td>113781</td>\n",
       "      <td>151.5500</td>\n",
       "      <td>C22 C26</td>\n",
       "      <td>Southampton</td>\n",
       "      <td>11</td>\n",
       "      <td>Yes</td>\n",
       "    </tr>\n",
       "    <tr>\n",
       "      <th>2</th>\n",
       "      <td>First</td>\n",
       "      <td>Allison, Miss. Helen Loraine</td>\n",
       "      <td>Female</td>\n",
       "      <td>2.0000</td>\n",
       "      <td>1</td>\n",
       "      <td>2</td>\n",
       "      <td>113781</td>\n",
       "      <td>151.5500</td>\n",
       "      <td>C22 C26</td>\n",
       "      <td>Southampton</td>\n",
       "      <td>NaN</td>\n",
       "      <td>No</td>\n",
       "    </tr>\n",
       "    <tr>\n",
       "      <th>3</th>\n",
       "      <td>First</td>\n",
       "      <td>Allison, Mr. Hudson Joshua Creighton</td>\n",
       "      <td>Male</td>\n",
       "      <td>30.0000</td>\n",
       "      <td>1</td>\n",
       "      <td>2</td>\n",
       "      <td>113781</td>\n",
       "      <td>151.5500</td>\n",
       "      <td>C22 C26</td>\n",
       "      <td>Southampton</td>\n",
       "      <td>NaN</td>\n",
       "      <td>No</td>\n",
       "    </tr>\n",
       "    <tr>\n",
       "      <th>4</th>\n",
       "      <td>First</td>\n",
       "      <td>Allison, Mrs. Hudson J C (Bessie Waldo Daniels)</td>\n",
       "      <td>Female</td>\n",
       "      <td>25.0000</td>\n",
       "      <td>1</td>\n",
       "      <td>2</td>\n",
       "      <td>113781</td>\n",
       "      <td>151.5500</td>\n",
       "      <td>C22 C26</td>\n",
       "      <td>Southampton</td>\n",
       "      <td>NaN</td>\n",
       "      <td>No</td>\n",
       "    </tr>\n",
       "  </tbody>\n",
       "</table>\n",
       "</div>"
      ],
      "text/plain": [
       "  Passenger Class                                             Name     Sex  \\\n",
       "0           First                    Allen, Miss. Elisabeth Walton  Female   \n",
       "1           First                   Allison, Master. Hudson Trevor    Male   \n",
       "2           First                     Allison, Miss. Helen Loraine  Female   \n",
       "3           First             Allison, Mr. Hudson Joshua Creighton    Male   \n",
       "4           First  Allison, Mrs. Hudson J C (Bessie Waldo Daniels)  Female   \n",
       "\n",
       "       Age  No of Siblings or Spouses on Board  \\\n",
       "0  29.0000                                   0   \n",
       "1   0.9167                                   1   \n",
       "2   2.0000                                   1   \n",
       "3  30.0000                                   1   \n",
       "4  25.0000                                   1   \n",
       "\n",
       "   No of Parents or Children on Board Ticket Number  Passenger Fare    Cabin  \\\n",
       "0                                   0         24160        211.3375       B5   \n",
       "1                                   2        113781        151.5500  C22 C26   \n",
       "2                                   2        113781        151.5500  C22 C26   \n",
       "3                                   2        113781        151.5500  C22 C26   \n",
       "4                                   2        113781        151.5500  C22 C26   \n",
       "\n",
       "  Port of Embarkation Life Boat Survived  \n",
       "0         Southampton         2      Yes  \n",
       "1         Southampton        11      Yes  \n",
       "2         Southampton       NaN       No  \n",
       "3         Southampton       NaN       No  \n",
       "4         Southampton       NaN       No  "
      ]
     },
     "execution_count": 631,
     "metadata": {},
     "output_type": "execute_result"
    }
   ],
   "source": [
    "df.head()"
   ]
  },
  {
   "cell_type": "code",
   "execution_count": 632,
   "id": "2c0ad86e",
   "metadata": {},
   "outputs": [
    {
     "data": {
      "text/plain": [
       "823"
      ]
     },
     "execution_count": 632,
     "metadata": {},
     "output_type": "execute_result"
    }
   ],
   "source": [
    "# df['Port of Embarkation'].value_counts()\n",
    "# df['Age'].isna().sum()\n",
    "# df['Life Boat'].value_counts()\n",
    "df['Life Boat'].isna().sum()"
   ]
  },
  {
   "cell_type": "code",
   "execution_count": 633,
   "id": "d13b20d7",
   "metadata": {},
   "outputs": [],
   "source": [
    "X_n = pd.DataFrame()\n",
    "\n",
    "X_n['Sex'] = df['Sex'].map({\n",
    "    'Male':0,\n",
    "    'Female':1\n",
    "})\n",
    "X_n['PassengerClass'] = df['Passenger Class'].map({\n",
    "    'First': 1,\n",
    "    'Second': 2,\n",
    "    'Third': 3\n",
    "})\n",
    "\n",
    "X_n['Survived'] = df['Survived'].map({\n",
    "    'Yes': 1,\n",
    "    'No': 0\n",
    "})\n",
    "\n",
    "y_n = X_n['Survived']\n",
    "X_n = X_n.drop(['Survived'], axis=1)\n",
    "\n",
    "X_n['Port'] = df['Port of Embarkation'].map({\n",
    "    'Southampton': 1,\n",
    "    'Cherbourg': 2,\n",
    "    'Queenstown': 3\n",
    "})\n",
    "X_n['Age'] = df['Age'].fillna(df['Age'].mean())\n",
    "X_n['Port'] = X_n['Port'].fillna('1')\n",
    "X_n['NoOfSiblings'] = df['No of Siblings or Spouses on Board']\n",
    "X_n['NoParents'] = df['No of Parents or Children on Board']"
   ]
  },
  {
   "cell_type": "code",
   "execution_count": 634,
   "id": "c73bb8fa",
   "metadata": {},
   "outputs": [
    {
     "data": {
      "text/plain": [
       "Sex               0\n",
       "PassengerClass    0\n",
       "Port              0\n",
       "Age               0\n",
       "NoOfSiblings      0\n",
       "NoParents         0\n",
       "dtype: int64"
      ]
     },
     "execution_count": 634,
     "metadata": {},
     "output_type": "execute_result"
    }
   ],
   "source": [
    "X_n.isna().sum()"
   ]
  },
  {
   "cell_type": "code",
   "execution_count": 635,
   "id": "79f0c852",
   "metadata": {},
   "outputs": [
    {
     "data": {
      "text/html": [
       "<div>\n",
       "<style scoped>\n",
       "    .dataframe tbody tr th:only-of-type {\n",
       "        vertical-align: middle;\n",
       "    }\n",
       "\n",
       "    .dataframe tbody tr th {\n",
       "        vertical-align: top;\n",
       "    }\n",
       "\n",
       "    .dataframe thead th {\n",
       "        text-align: right;\n",
       "    }\n",
       "</style>\n",
       "<table border=\"1\" class=\"dataframe\">\n",
       "  <thead>\n",
       "    <tr style=\"text-align: right;\">\n",
       "      <th></th>\n",
       "      <th>Sex</th>\n",
       "      <th>PassengerClass</th>\n",
       "      <th>Port</th>\n",
       "      <th>Age</th>\n",
       "      <th>NoOfSiblings</th>\n",
       "      <th>NoParents</th>\n",
       "    </tr>\n",
       "  </thead>\n",
       "  <tbody>\n",
       "    <tr>\n",
       "      <th>0</th>\n",
       "      <td>1</td>\n",
       "      <td>1</td>\n",
       "      <td>1.0</td>\n",
       "      <td>29.0000</td>\n",
       "      <td>0</td>\n",
       "      <td>0</td>\n",
       "    </tr>\n",
       "    <tr>\n",
       "      <th>1</th>\n",
       "      <td>0</td>\n",
       "      <td>1</td>\n",
       "      <td>1.0</td>\n",
       "      <td>0.9167</td>\n",
       "      <td>1</td>\n",
       "      <td>2</td>\n",
       "    </tr>\n",
       "    <tr>\n",
       "      <th>2</th>\n",
       "      <td>1</td>\n",
       "      <td>1</td>\n",
       "      <td>1.0</td>\n",
       "      <td>2.0000</td>\n",
       "      <td>1</td>\n",
       "      <td>2</td>\n",
       "    </tr>\n",
       "    <tr>\n",
       "      <th>3</th>\n",
       "      <td>0</td>\n",
       "      <td>1</td>\n",
       "      <td>1.0</td>\n",
       "      <td>30.0000</td>\n",
       "      <td>1</td>\n",
       "      <td>2</td>\n",
       "    </tr>\n",
       "    <tr>\n",
       "      <th>4</th>\n",
       "      <td>1</td>\n",
       "      <td>1</td>\n",
       "      <td>1.0</td>\n",
       "      <td>25.0000</td>\n",
       "      <td>1</td>\n",
       "      <td>2</td>\n",
       "    </tr>\n",
       "  </tbody>\n",
       "</table>\n",
       "</div>"
      ],
      "text/plain": [
       "   Sex  PassengerClass Port      Age  NoOfSiblings  NoParents\n",
       "0    1               1  1.0  29.0000             0          0\n",
       "1    0               1  1.0   0.9167             1          2\n",
       "2    1               1  1.0   2.0000             1          2\n",
       "3    0               1  1.0  30.0000             1          2\n",
       "4    1               1  1.0  25.0000             1          2"
      ]
     },
     "execution_count": 635,
     "metadata": {},
     "output_type": "execute_result"
    }
   ],
   "source": [
    "X_n.head()"
   ]
  },
  {
   "cell_type": "code",
   "execution_count": 636,
   "id": "4d015de2",
   "metadata": {},
   "outputs": [],
   "source": [
    "X_n_train, X_n_test, y_n_train, y_n_test = train_test_split(X_n, y_n, train_size=0.66, random_state=5)"
   ]
  },
  {
   "cell_type": "code",
   "execution_count": 637,
   "id": "21717ab2",
   "metadata": {},
   "outputs": [
    {
     "data": {
      "text/html": [
       "<style>#sk-container-id-11 {color: black;background-color: white;}#sk-container-id-11 pre{padding: 0;}#sk-container-id-11 div.sk-toggleable {background-color: white;}#sk-container-id-11 label.sk-toggleable__label {cursor: pointer;display: block;width: 100%;margin-bottom: 0;padding: 0.3em;box-sizing: border-box;text-align: center;}#sk-container-id-11 label.sk-toggleable__label-arrow:before {content: \"▸\";float: left;margin-right: 0.25em;color: #696969;}#sk-container-id-11 label.sk-toggleable__label-arrow:hover:before {color: black;}#sk-container-id-11 div.sk-estimator:hover label.sk-toggleable__label-arrow:before {color: black;}#sk-container-id-11 div.sk-toggleable__content {max-height: 0;max-width: 0;overflow: hidden;text-align: left;background-color: #f0f8ff;}#sk-container-id-11 div.sk-toggleable__content pre {margin: 0.2em;color: black;border-radius: 0.25em;background-color: #f0f8ff;}#sk-container-id-11 input.sk-toggleable__control:checked~div.sk-toggleable__content {max-height: 200px;max-width: 100%;overflow: auto;}#sk-container-id-11 input.sk-toggleable__control:checked~label.sk-toggleable__label-arrow:before {content: \"▾\";}#sk-container-id-11 div.sk-estimator input.sk-toggleable__control:checked~label.sk-toggleable__label {background-color: #d4ebff;}#sk-container-id-11 div.sk-label input.sk-toggleable__control:checked~label.sk-toggleable__label {background-color: #d4ebff;}#sk-container-id-11 input.sk-hidden--visually {border: 0;clip: rect(1px 1px 1px 1px);clip: rect(1px, 1px, 1px, 1px);height: 1px;margin: -1px;overflow: hidden;padding: 0;position: absolute;width: 1px;}#sk-container-id-11 div.sk-estimator {font-family: monospace;background-color: #f0f8ff;border: 1px dotted black;border-radius: 0.25em;box-sizing: border-box;margin-bottom: 0.5em;}#sk-container-id-11 div.sk-estimator:hover {background-color: #d4ebff;}#sk-container-id-11 div.sk-parallel-item::after {content: \"\";width: 100%;border-bottom: 1px solid gray;flex-grow: 1;}#sk-container-id-11 div.sk-label:hover label.sk-toggleable__label {background-color: #d4ebff;}#sk-container-id-11 div.sk-serial::before {content: \"\";position: absolute;border-left: 1px solid gray;box-sizing: border-box;top: 0;bottom: 0;left: 50%;z-index: 0;}#sk-container-id-11 div.sk-serial {display: flex;flex-direction: column;align-items: center;background-color: white;padding-right: 0.2em;padding-left: 0.2em;position: relative;}#sk-container-id-11 div.sk-item {position: relative;z-index: 1;}#sk-container-id-11 div.sk-parallel {display: flex;align-items: stretch;justify-content: center;background-color: white;position: relative;}#sk-container-id-11 div.sk-item::before, #sk-container-id-11 div.sk-parallel-item::before {content: \"\";position: absolute;border-left: 1px solid gray;box-sizing: border-box;top: 0;bottom: 0;left: 50%;z-index: -1;}#sk-container-id-11 div.sk-parallel-item {display: flex;flex-direction: column;z-index: 1;position: relative;background-color: white;}#sk-container-id-11 div.sk-parallel-item:first-child::after {align-self: flex-end;width: 50%;}#sk-container-id-11 div.sk-parallel-item:last-child::after {align-self: flex-start;width: 50%;}#sk-container-id-11 div.sk-parallel-item:only-child::after {width: 0;}#sk-container-id-11 div.sk-dashed-wrapped {border: 1px dashed gray;margin: 0 0.4em 0.5em 0.4em;box-sizing: border-box;padding-bottom: 0.4em;background-color: white;}#sk-container-id-11 div.sk-label label {font-family: monospace;font-weight: bold;display: inline-block;line-height: 1.2em;}#sk-container-id-11 div.sk-label-container {text-align: center;}#sk-container-id-11 div.sk-container {/* jupyter's `normalize.less` sets `[hidden] { display: none; }` but bootstrap.min.css set `[hidden] { display: none !important; }` so we also need the `!important` here to be able to override the default hidden behavior on the sphinx rendered scikit-learn.org. See: https://github.com/scikit-learn/scikit-learn/issues/21755 */display: inline-block !important;position: relative;}#sk-container-id-11 div.sk-text-repr-fallback {display: none;}</style><div id=\"sk-container-id-11\" class=\"sk-top-container\"><div class=\"sk-text-repr-fallback\"><pre>MultinomialNB()</pre><b>In a Jupyter environment, please rerun this cell to show the HTML representation or trust the notebook. <br />On GitHub, the HTML representation is unable to render, please try loading this page with nbviewer.org.</b></div><div class=\"sk-container\" hidden><div class=\"sk-item\"><div class=\"sk-estimator sk-toggleable\"><input class=\"sk-toggleable__control sk-hidden--visually\" id=\"sk-estimator-id-11\" type=\"checkbox\" checked><label for=\"sk-estimator-id-11\" class=\"sk-toggleable__label sk-toggleable__label-arrow\">MultinomialNB</label><div class=\"sk-toggleable__content\"><pre>MultinomialNB()</pre></div></div></div></div></div>"
      ],
      "text/plain": [
       "MultinomialNB()"
      ]
     },
     "execution_count": 637,
     "metadata": {},
     "output_type": "execute_result"
    }
   ],
   "source": [
    "model = MultinomialNB()\n",
    "model.fit(X_n_train, y_n_train)"
   ]
  },
  {
   "cell_type": "code",
   "execution_count": 638,
   "id": "930b546d",
   "metadata": {},
   "outputs": [
    {
     "name": "stdout",
     "output_type": "stream",
     "text": [
      "6 features 0.7668161434977578\n",
      "2 features 0.7557251908396947\n"
     ]
    }
   ],
   "source": [
    "y_pred = model.predict(X_n_test)\n",
    "print('6 features', accuracy_score(y_n_test, y_pred))\n",
    "print('2 features', accuracy_score(y_test,y_pred_2))"
   ]
  },
  {
   "cell_type": "markdown",
   "id": "e1ece380",
   "metadata": {},
   "source": [
    "## 2.2. Оценка важности признаков\n",
    "\n",
    "Мы воспользуемся простым (и не очень хорошим^[1]) методом оценки важности признаков:\n",
    "\n",
    "1. Воспользуйтесь моделью из п.2. Качество модели на тестовой части данных это ваш бейзлайн\n",
    "2. Исключая по 1 признаку из `X` обучайте модель `MultinomialNB` и измеряйте ее точность на тестовой части данных\n",
    "3. Сохраняйте величину падения или роста качества по сравнению с бейзлайном. Если точность упала значит признак \"полезный\", если выросло - \"вредный\". Абсолютная величина падения или роста в данном случае не так важна, важен только порядок признаков. Такая оценка называется качественной (в противовес количественной).\n",
    "4. Прокомментируйте полученный результат, насколько он согласуется с вашей интуицией?\n",
    "Ответ: самая большая корреляция связана с полом, что совпадает с интуцией. На удивление, отрицательная корреляция связана с возрастом, что скорее всего связано с тем, что было много пропущенных значений, которые мы заполнили средним значением.\n",
    "5. В чем на ваш взляд могут быть преимущества использования мЕньшего числа признаков при обучении моделей? (не обязательно в контексте данной задачи)\n",
    "Ответ: не будет переобучения, ускорение процесса\n",
    "\n",
    "[1] а впрочем какие из них хороши?"
   ]
  },
  {
   "cell_type": "code",
   "execution_count": 639,
   "id": "5757bd7e",
   "metadata": {},
   "outputs": [
    {
     "data": {
      "text/plain": [
       "'Sex'"
      ]
     },
     "execution_count": 639,
     "metadata": {},
     "output_type": "execute_result"
    }
   ],
   "source": [
    "baseline = accuracy_score(y_n_test, y_pred)\n",
    "X_n.columns[0]"
   ]
  },
  {
   "cell_type": "code",
   "execution_count": 640,
   "id": "d1fe6289",
   "metadata": {},
   "outputs": [],
   "source": [
    "drop = {}\n",
    "for i in X_n.columns:\n",
    "    model.fit(X_n_train.drop([i], axis=1), y_n_train)\n",
    "    y_pred_1 = model.predict(X_n_test.drop([i], axis=1))\n",
    "    acc = accuracy_score(y_n_test, y_pred_1)\n",
    "    drop[i]= (acc - baseline)"
   ]
  },
  {
   "cell_type": "code",
   "execution_count": 641,
   "id": "7c0b1f6f",
   "metadata": {},
   "outputs": [
    {
     "data": {
      "text/plain": [
       "{'Sex': -0.10986547085201792,\n",
       " 'PassengerClass': -0.022421524663677084,\n",
       " 'Port': -0.004484304932735439,\n",
       " 'Age': 0.0022421524663677195,\n",
       " 'NoOfSiblings': 0.0,\n",
       " 'NoParents': -0.0022421524663677195}"
      ]
     },
     "execution_count": 641,
     "metadata": {},
     "output_type": "execute_result"
    }
   ],
   "source": [
    "drop"
   ]
  },
  {
   "cell_type": "markdown",
   "id": "6b71f0c8",
   "metadata": {},
   "source": [
    "jupyter notebook c вашим решением необходимо отправить на почту kurmukovai@gmail.com, с темой письма `[ml-ds-2024-ha1-Surname]`, например `[ml-ds-2023-Kurmukov]` до 12:00 МСК 08.02.2023. Задания отправленные до полуночи Вторника 06.02.2023 получают +1 балл в случае полного выполнения (не обязательно верного:))"
   ]
  }
 ],
 "metadata": {
  "kernelspec": {
   "display_name": "Python 3 (ipykernel)",
   "language": "python",
   "name": "python3"
  },
  "language_info": {
   "codemirror_mode": {
    "name": "ipython",
    "version": 3
   },
   "file_extension": ".py",
   "mimetype": "text/x-python",
   "name": "python",
   "nbconvert_exporter": "python",
   "pygments_lexer": "ipython3",
   "version": "3.10.2"
  }
 },
 "nbformat": 4,
 "nbformat_minor": 5
}
