{
 "cells": [
  {
   "cell_type": "markdown",
   "id": "f43bb357",
   "metadata": {},
   "source": [
    "# Решающее дерево для задачи регрессии\n",
    "\n",
    "\n",
    "Ваше домашнее задание состоит из 2 частей, задания 1-3 включают в себя имплементацию алгоритма Решающего дерева для задачи регрессии, в задании 4 необходимо применить метод решающего дерева к набору данных стоимости квартир.\n",
    "\n",
    "# 1. Починить имплементацию решающего дерева\n",
    "\n",
    "Ниже представлена наивная имплементация алгоритма Решающего дерева для задачи регрессии и пример запуска. В качестве критерия остановки выступает максимальная глубина дерева и минимальное количество наблюдений в листе.\n",
    "\n",
    "Вам необходимо внести несколько изменений:\n",
    "\n",
    "    1.1  Сейчас параметр `min_samples_leaf` не используется, таким образом в листах дерева может оказаться произвольное количество наблюдений, вам необходимо это починить.\n",
    "    1.2 Для удобства отслеживания числа наблюдений в каждом узле добавьте поле \"support\" (количество наблюдейний в текущем узле) в словарь `self.tree`."
   ]
  },
  {
   "cell_type": "code",
   "execution_count": 120,
   "id": "6d12334b",
   "metadata": {},
   "outputs": [],
   "source": [
    "import numpy as np\n",
    "\n",
    "class DecisionTreeRegressor:\n",
    "    def __init__(self, max_depth, min_samples_leaf):\n",
    "        \"\"\"\n",
    "        max_depth, int - максимальная глубина дерева\n",
    "        min_samples_leaf, int - минимальное количество наблюдений в листе\n",
    "        \"\"\"\n",
    "        self.max_depth = max_depth\n",
    "        self.min_samples_leaf = min_samples_leaf\n",
    "        self.tree = None\n",
    "        \n",
    "    def _split_data(self, X, y, feature_index, threshold):\n",
    "        left_mask = X[:, feature_index] <= threshold\n",
    "        right_mask = X[:, feature_index] > threshold\n",
    "        X_left, y_left = X[left_mask], y[left_mask]\n",
    "        X_right, y_right = X[right_mask], y[right_mask]\n",
    "        return X_left, y_left, X_right, y_right\n",
    "    \n",
    "    def _mse(self, y):\n",
    "        return np.mean((y - np.mean(y))**2)\n",
    "    \n",
    "    def _best_split(self, X, y):\n",
    "        best_feature_index, best_threshold = None, None\n",
    "        best_mse = float('inf')\n",
    "        n_features = X.shape[1]\n",
    "        for feature_index in range(n_features):\n",
    "            feature_values = X[:, feature_index]\n",
    "            thresholds = np.unique(feature_values)\n",
    "            for threshold in thresholds:\n",
    "                X_left, y_left, X_right, y_right = self._split_data(X, y, feature_index, threshold)\n",
    "                mse_left = self._mse(y_left)\n",
    "                mse_right = self._mse(y_right)\n",
    "                mse_split = (len(y_left) * mse_left + len(y_right) * mse_right) / len(y)\n",
    "                if mse_split < best_mse:\n",
    "                    best_mse = mse_split\n",
    "                    best_feature_index = feature_index\n",
    "                    best_threshold = threshold\n",
    "        return best_feature_index, best_threshold\n",
    "    \n",
    "    def _build_tree(self, X, y, depth):\n",
    "        ##new criteria for stopping\n",
    "        if depth == self.max_depth or len(X) <= self.min_samples_leaf:\n",
    "            return np.mean(y)\n",
    "        feature_index, threshold = self._best_split(X, y)\n",
    "        support = len(X)\n",
    "        if feature_index is None:\n",
    "            return np.mean(y)\n",
    "        X_left, y_left, X_right, y_right = self._split_data(X, y, feature_index, threshold)\n",
    "        ##add support field\n",
    "        tree = {\n",
    "            'feature_index': feature_index,\n",
    "            'threshold': threshold,\n",
    "            'support': support\n",
    "        }\n",
    "        tree['left'] = self._build_tree(X_left, y_left, depth + 1)\n",
    "        tree['right'] = self._build_tree(X_right, y_right, depth + 1)\n",
    "        return tree\n",
    "    \n",
    "    def fit(self, X, y):\n",
    "        self.tree = self._build_tree(X, y, depth=0)\n",
    "    \n",
    "    def _predict_one(self, tree, x):\n",
    "        if isinstance(tree, float):\n",
    "            return tree\n",
    "        feature_index, threshold = tree['feature_index'], tree['threshold']\n",
    "        if x[feature_index] <= threshold:\n",
    "            return self._predict_one(tree['left'], x)\n",
    "        else:\n",
    "            return self._predict_one(tree['right'], x)\n",
    "        \n",
    "    def predict(self, X):\n",
    "        predictions = []\n",
    "        for x in X:\n",
    "            prediction = self._predict_one(self.tree, x)\n",
    "            predictions.append(prediction)\n",
    "        return np.array(predictions)"
   ]
  },
  {
   "cell_type": "code",
   "execution_count": 121,
   "id": "da72439f",
   "metadata": {},
   "outputs": [],
   "source": [
    "dt = DecisionTreeRegressor(max_depth=3, min_samples_leaf=50)"
   ]
  },
  {
   "cell_type": "code",
   "execution_count": 122,
   "id": "b3dc5dfa",
   "metadata": {},
   "outputs": [],
   "source": [
    "from sklearn.datasets import fetch_openml\n",
    "import ssl\n",
    "ssl._create_default_https_context = ssl._create_unverified_context"
   ]
  },
  {
   "cell_type": "code",
   "execution_count": 123,
   "id": "c3770af0",
   "metadata": {},
   "outputs": [
    {
     "name": "stderr",
     "output_type": "stream",
     "text": [
      "/Library/Frameworks/Python.framework/Versions/3.10/lib/python3.10/site-packages/sklearn/datasets/_openml.py:968: FutureWarning: The default value of `parser` will change from `'liac-arff'` to `'auto'` in 1.4. You can set `parser='auto'` to silence this warning. Therefore, an `ImportError` will be raised from 1.4 if the dataset is dense and pandas is not installed. Note that the pandas parser may return different data types. See the Notes Section in fetch_openml's API doc for details.\n",
      "  warn(\n"
     ]
    }
   ],
   "source": [
    "X, y = fetch_openml(name=\"house_prices\", as_frame=True, return_X_y=True)\n",
    "X = X.dropna(axis=1)\n",
    "X = X.loc[:, X.dtypes == 'int64']\n",
    "X.drop('Id', axis=1, inplace=True)"
   ]
  },
  {
   "cell_type": "code",
   "execution_count": 124,
   "id": "c18fd2cb",
   "metadata": {},
   "outputs": [
    {
     "data": {
      "text/html": [
       "<div>\n",
       "<style scoped>\n",
       "    .dataframe tbody tr th:only-of-type {\n",
       "        vertical-align: middle;\n",
       "    }\n",
       "\n",
       "    .dataframe tbody tr th {\n",
       "        vertical-align: top;\n",
       "    }\n",
       "\n",
       "    .dataframe thead th {\n",
       "        text-align: right;\n",
       "    }\n",
       "</style>\n",
       "<table border=\"1\" class=\"dataframe\">\n",
       "  <thead>\n",
       "    <tr style=\"text-align: right;\">\n",
       "      <th></th>\n",
       "      <th>MSSubClass</th>\n",
       "      <th>LotArea</th>\n",
       "      <th>OverallQual</th>\n",
       "      <th>OverallCond</th>\n",
       "      <th>YearBuilt</th>\n",
       "      <th>YearRemodAdd</th>\n",
       "      <th>BsmtFinSF1</th>\n",
       "      <th>BsmtFinSF2</th>\n",
       "      <th>BsmtUnfSF</th>\n",
       "      <th>TotalBsmtSF</th>\n",
       "      <th>...</th>\n",
       "      <th>GarageArea</th>\n",
       "      <th>WoodDeckSF</th>\n",
       "      <th>OpenPorchSF</th>\n",
       "      <th>EnclosedPorch</th>\n",
       "      <th>3SsnPorch</th>\n",
       "      <th>ScreenPorch</th>\n",
       "      <th>PoolArea</th>\n",
       "      <th>MiscVal</th>\n",
       "      <th>MoSold</th>\n",
       "      <th>YrSold</th>\n",
       "    </tr>\n",
       "  </thead>\n",
       "  <tbody>\n",
       "    <tr>\n",
       "      <th>0</th>\n",
       "      <td>60</td>\n",
       "      <td>8450</td>\n",
       "      <td>7</td>\n",
       "      <td>5</td>\n",
       "      <td>2003</td>\n",
       "      <td>2003</td>\n",
       "      <td>706</td>\n",
       "      <td>0</td>\n",
       "      <td>150</td>\n",
       "      <td>856</td>\n",
       "      <td>...</td>\n",
       "      <td>548</td>\n",
       "      <td>0</td>\n",
       "      <td>61</td>\n",
       "      <td>0</td>\n",
       "      <td>0</td>\n",
       "      <td>0</td>\n",
       "      <td>0</td>\n",
       "      <td>0</td>\n",
       "      <td>2</td>\n",
       "      <td>2008</td>\n",
       "    </tr>\n",
       "    <tr>\n",
       "      <th>1</th>\n",
       "      <td>20</td>\n",
       "      <td>9600</td>\n",
       "      <td>6</td>\n",
       "      <td>8</td>\n",
       "      <td>1976</td>\n",
       "      <td>1976</td>\n",
       "      <td>978</td>\n",
       "      <td>0</td>\n",
       "      <td>284</td>\n",
       "      <td>1262</td>\n",
       "      <td>...</td>\n",
       "      <td>460</td>\n",
       "      <td>298</td>\n",
       "      <td>0</td>\n",
       "      <td>0</td>\n",
       "      <td>0</td>\n",
       "      <td>0</td>\n",
       "      <td>0</td>\n",
       "      <td>0</td>\n",
       "      <td>5</td>\n",
       "      <td>2007</td>\n",
       "    </tr>\n",
       "    <tr>\n",
       "      <th>2</th>\n",
       "      <td>60</td>\n",
       "      <td>11250</td>\n",
       "      <td>7</td>\n",
       "      <td>5</td>\n",
       "      <td>2001</td>\n",
       "      <td>2002</td>\n",
       "      <td>486</td>\n",
       "      <td>0</td>\n",
       "      <td>434</td>\n",
       "      <td>920</td>\n",
       "      <td>...</td>\n",
       "      <td>608</td>\n",
       "      <td>0</td>\n",
       "      <td>42</td>\n",
       "      <td>0</td>\n",
       "      <td>0</td>\n",
       "      <td>0</td>\n",
       "      <td>0</td>\n",
       "      <td>0</td>\n",
       "      <td>9</td>\n",
       "      <td>2008</td>\n",
       "    </tr>\n",
       "    <tr>\n",
       "      <th>3</th>\n",
       "      <td>70</td>\n",
       "      <td>9550</td>\n",
       "      <td>7</td>\n",
       "      <td>5</td>\n",
       "      <td>1915</td>\n",
       "      <td>1970</td>\n",
       "      <td>216</td>\n",
       "      <td>0</td>\n",
       "      <td>540</td>\n",
       "      <td>756</td>\n",
       "      <td>...</td>\n",
       "      <td>642</td>\n",
       "      <td>0</td>\n",
       "      <td>35</td>\n",
       "      <td>272</td>\n",
       "      <td>0</td>\n",
       "      <td>0</td>\n",
       "      <td>0</td>\n",
       "      <td>0</td>\n",
       "      <td>2</td>\n",
       "      <td>2006</td>\n",
       "    </tr>\n",
       "    <tr>\n",
       "      <th>4</th>\n",
       "      <td>60</td>\n",
       "      <td>14260</td>\n",
       "      <td>8</td>\n",
       "      <td>5</td>\n",
       "      <td>2000</td>\n",
       "      <td>2000</td>\n",
       "      <td>655</td>\n",
       "      <td>0</td>\n",
       "      <td>490</td>\n",
       "      <td>1145</td>\n",
       "      <td>...</td>\n",
       "      <td>836</td>\n",
       "      <td>192</td>\n",
       "      <td>84</td>\n",
       "      <td>0</td>\n",
       "      <td>0</td>\n",
       "      <td>0</td>\n",
       "      <td>0</td>\n",
       "      <td>0</td>\n",
       "      <td>12</td>\n",
       "      <td>2008</td>\n",
       "    </tr>\n",
       "    <tr>\n",
       "      <th>...</th>\n",
       "      <td>...</td>\n",
       "      <td>...</td>\n",
       "      <td>...</td>\n",
       "      <td>...</td>\n",
       "      <td>...</td>\n",
       "      <td>...</td>\n",
       "      <td>...</td>\n",
       "      <td>...</td>\n",
       "      <td>...</td>\n",
       "      <td>...</td>\n",
       "      <td>...</td>\n",
       "      <td>...</td>\n",
       "      <td>...</td>\n",
       "      <td>...</td>\n",
       "      <td>...</td>\n",
       "      <td>...</td>\n",
       "      <td>...</td>\n",
       "      <td>...</td>\n",
       "      <td>...</td>\n",
       "      <td>...</td>\n",
       "      <td>...</td>\n",
       "    </tr>\n",
       "    <tr>\n",
       "      <th>1455</th>\n",
       "      <td>60</td>\n",
       "      <td>7917</td>\n",
       "      <td>6</td>\n",
       "      <td>5</td>\n",
       "      <td>1999</td>\n",
       "      <td>2000</td>\n",
       "      <td>0</td>\n",
       "      <td>0</td>\n",
       "      <td>953</td>\n",
       "      <td>953</td>\n",
       "      <td>...</td>\n",
       "      <td>460</td>\n",
       "      <td>0</td>\n",
       "      <td>40</td>\n",
       "      <td>0</td>\n",
       "      <td>0</td>\n",
       "      <td>0</td>\n",
       "      <td>0</td>\n",
       "      <td>0</td>\n",
       "      <td>8</td>\n",
       "      <td>2007</td>\n",
       "    </tr>\n",
       "    <tr>\n",
       "      <th>1456</th>\n",
       "      <td>20</td>\n",
       "      <td>13175</td>\n",
       "      <td>6</td>\n",
       "      <td>6</td>\n",
       "      <td>1978</td>\n",
       "      <td>1988</td>\n",
       "      <td>790</td>\n",
       "      <td>163</td>\n",
       "      <td>589</td>\n",
       "      <td>1542</td>\n",
       "      <td>...</td>\n",
       "      <td>500</td>\n",
       "      <td>349</td>\n",
       "      <td>0</td>\n",
       "      <td>0</td>\n",
       "      <td>0</td>\n",
       "      <td>0</td>\n",
       "      <td>0</td>\n",
       "      <td>0</td>\n",
       "      <td>2</td>\n",
       "      <td>2010</td>\n",
       "    </tr>\n",
       "    <tr>\n",
       "      <th>1457</th>\n",
       "      <td>70</td>\n",
       "      <td>9042</td>\n",
       "      <td>7</td>\n",
       "      <td>9</td>\n",
       "      <td>1941</td>\n",
       "      <td>2006</td>\n",
       "      <td>275</td>\n",
       "      <td>0</td>\n",
       "      <td>877</td>\n",
       "      <td>1152</td>\n",
       "      <td>...</td>\n",
       "      <td>252</td>\n",
       "      <td>0</td>\n",
       "      <td>60</td>\n",
       "      <td>0</td>\n",
       "      <td>0</td>\n",
       "      <td>0</td>\n",
       "      <td>0</td>\n",
       "      <td>2500</td>\n",
       "      <td>5</td>\n",
       "      <td>2010</td>\n",
       "    </tr>\n",
       "    <tr>\n",
       "      <th>1458</th>\n",
       "      <td>20</td>\n",
       "      <td>9717</td>\n",
       "      <td>5</td>\n",
       "      <td>6</td>\n",
       "      <td>1950</td>\n",
       "      <td>1996</td>\n",
       "      <td>49</td>\n",
       "      <td>1029</td>\n",
       "      <td>0</td>\n",
       "      <td>1078</td>\n",
       "      <td>...</td>\n",
       "      <td>240</td>\n",
       "      <td>366</td>\n",
       "      <td>0</td>\n",
       "      <td>112</td>\n",
       "      <td>0</td>\n",
       "      <td>0</td>\n",
       "      <td>0</td>\n",
       "      <td>0</td>\n",
       "      <td>4</td>\n",
       "      <td>2010</td>\n",
       "    </tr>\n",
       "    <tr>\n",
       "      <th>1459</th>\n",
       "      <td>20</td>\n",
       "      <td>9937</td>\n",
       "      <td>5</td>\n",
       "      <td>6</td>\n",
       "      <td>1965</td>\n",
       "      <td>1965</td>\n",
       "      <td>830</td>\n",
       "      <td>290</td>\n",
       "      <td>136</td>\n",
       "      <td>1256</td>\n",
       "      <td>...</td>\n",
       "      <td>276</td>\n",
       "      <td>736</td>\n",
       "      <td>68</td>\n",
       "      <td>0</td>\n",
       "      <td>0</td>\n",
       "      <td>0</td>\n",
       "      <td>0</td>\n",
       "      <td>0</td>\n",
       "      <td>6</td>\n",
       "      <td>2008</td>\n",
       "    </tr>\n",
       "  </tbody>\n",
       "</table>\n",
       "<p>1460 rows × 33 columns</p>\n",
       "</div>"
      ],
      "text/plain": [
       "      MSSubClass  LotArea  OverallQual  OverallCond  YearBuilt  YearRemodAdd  \\\n",
       "0             60     8450            7            5       2003          2003   \n",
       "1             20     9600            6            8       1976          1976   \n",
       "2             60    11250            7            5       2001          2002   \n",
       "3             70     9550            7            5       1915          1970   \n",
       "4             60    14260            8            5       2000          2000   \n",
       "...          ...      ...          ...          ...        ...           ...   \n",
       "1455          60     7917            6            5       1999          2000   \n",
       "1456          20    13175            6            6       1978          1988   \n",
       "1457          70     9042            7            9       1941          2006   \n",
       "1458          20     9717            5            6       1950          1996   \n",
       "1459          20     9937            5            6       1965          1965   \n",
       "\n",
       "      BsmtFinSF1  BsmtFinSF2  BsmtUnfSF  TotalBsmtSF  ...  GarageArea  \\\n",
       "0            706           0        150          856  ...         548   \n",
       "1            978           0        284         1262  ...         460   \n",
       "2            486           0        434          920  ...         608   \n",
       "3            216           0        540          756  ...         642   \n",
       "4            655           0        490         1145  ...         836   \n",
       "...          ...         ...        ...          ...  ...         ...   \n",
       "1455           0           0        953          953  ...         460   \n",
       "1456         790         163        589         1542  ...         500   \n",
       "1457         275           0        877         1152  ...         252   \n",
       "1458          49        1029          0         1078  ...         240   \n",
       "1459         830         290        136         1256  ...         276   \n",
       "\n",
       "      WoodDeckSF  OpenPorchSF  EnclosedPorch  3SsnPorch  ScreenPorch  \\\n",
       "0              0           61              0          0            0   \n",
       "1            298            0              0          0            0   \n",
       "2              0           42              0          0            0   \n",
       "3              0           35            272          0            0   \n",
       "4            192           84              0          0            0   \n",
       "...          ...          ...            ...        ...          ...   \n",
       "1455           0           40              0          0            0   \n",
       "1456         349            0              0          0            0   \n",
       "1457           0           60              0          0            0   \n",
       "1458         366            0            112          0            0   \n",
       "1459         736           68              0          0            0   \n",
       "\n",
       "      PoolArea  MiscVal  MoSold  YrSold  \n",
       "0            0        0       2    2008  \n",
       "1            0        0       5    2007  \n",
       "2            0        0       9    2008  \n",
       "3            0        0       2    2006  \n",
       "4            0        0      12    2008  \n",
       "...        ...      ...     ...     ...  \n",
       "1455         0        0       8    2007  \n",
       "1456         0        0       2    2010  \n",
       "1457         0     2500       5    2010  \n",
       "1458         0        0       4    2010  \n",
       "1459         0        0       6    2008  \n",
       "\n",
       "[1460 rows x 33 columns]"
      ]
     },
     "execution_count": 124,
     "metadata": {},
     "output_type": "execute_result"
    }
   ],
   "source": [
    "X"
   ]
  },
  {
   "cell_type": "code",
   "execution_count": 125,
   "id": "e3071ab3",
   "metadata": {},
   "outputs": [
    {
     "name": "stderr",
     "output_type": "stream",
     "text": [
      "/Library/Frameworks/Python.framework/Versions/3.10/lib/python3.10/site-packages/numpy/core/fromnumeric.py:3464: RuntimeWarning: Mean of empty slice.\n",
      "  return _methods._mean(a, axis=axis, dtype=dtype,\n",
      "/Library/Frameworks/Python.framework/Versions/3.10/lib/python3.10/site-packages/numpy/core/_methods.py:192: RuntimeWarning: invalid value encountered in scalar divide\n",
      "  ret = ret.dtype.type(ret / rcount)\n"
     ]
    }
   ],
   "source": [
    "clf = dt.fit(X.values, y.values)"
   ]
  },
  {
   "cell_type": "code",
   "execution_count": 126,
   "id": "f1ca4dc0",
   "metadata": {},
   "outputs": [
    {
     "data": {
      "text/plain": [
       "array([194238.74476987, 124907.77836879, 194238.74476987, 194238.74476987,\n",
       "       314894.55384615])"
      ]
     },
     "execution_count": 126,
     "metadata": {},
     "output_type": "execute_result"
    }
   ],
   "source": [
    "dt.predict(X.values[:5])"
   ]
  },
  {
   "cell_type": "code",
   "execution_count": 127,
   "id": "0a1a2a7d",
   "metadata": {},
   "outputs": [
    {
     "data": {
      "text/plain": [
       "{'feature_index': 2,\n",
       " 'threshold': 7,\n",
       " 'support': 1460,\n",
       " 'left': {'feature_index': 2,\n",
       "  'threshold': 6,\n",
       "  'support': 1231,\n",
       "  'left': {'feature_index': 13,\n",
       "   'threshold': 1376,\n",
       "   'support': 912,\n",
       "   'left': 124907.77836879433,\n",
       "   'right': 165466.08908045976},\n",
       "  'right': {'feature_index': 13,\n",
       "   'threshold': 1935,\n",
       "   'support': 319,\n",
       "   'left': 194238.74476987447,\n",
       "   'right': 247980.9875}},\n",
       " 'right': {'feature_index': 2,\n",
       "  'threshold': 8,\n",
       "  'support': 229,\n",
       "  'left': {'feature_index': 13,\n",
       "   'threshold': 1970,\n",
       "   'support': 168,\n",
       "   'left': 249392.46601941748,\n",
       "   'right': 314894.55384615384},\n",
       "  'right': {'feature_index': 11,\n",
       "   'threshold': 1538,\n",
       "   'support': 61,\n",
       "   'left': 371942.2586206897,\n",
       "   'right': 708333.3333333334}}}"
      ]
     },
     "execution_count": 127,
     "metadata": {},
     "output_type": "execute_result"
    }
   ],
   "source": [
    "dt.tree"
   ]
  },
  {
   "cell_type": "markdown",
   "id": "86f0a3f3",
   "metadata": {},
   "source": [
    "# 2. Воспользуйтесь `line_profiler` \n",
    "\n",
    "Текущая имплементация Решающего дерева работает очень медленно. Чтобы локализовать что отнимает так много времени воспользуйтесь `line_profiler`.\n",
    "\n",
    "    2.1 Что занимает больше всего времени на этапе обучения решающего дерева?  \n",
    "      \n",
    "      Ответ: больше всего занимает нахождение лучшего признака и лучшего значения в нем при разбиении, что правильно, ведь приходится сравнивать MSE при разбиениям по всем уникальным значениям в каждом признаке \n",
    "    \n",
    "https://jakevdp.github.io/PythonDataScienceHandbook/01.07-timing-and-profiling.html"
   ]
  },
  {
   "cell_type": "code",
   "execution_count": 128,
   "id": "12d20345",
   "metadata": {},
   "outputs": [
    {
     "name": "stdout",
     "output_type": "stream",
     "text": [
      "Requirement already satisfied: line_profiler in /Library/Frameworks/Python.framework/Versions/3.10/lib/python3.10/site-packages (4.1.2)\n",
      "\n",
      "\u001b[1m[\u001b[0m\u001b[34;49mnotice\u001b[0m\u001b[1;39;49m]\u001b[0m\u001b[39;49m A new release of pip is available: \u001b[0m\u001b[31;49m23.1.2\u001b[0m\u001b[39;49m -> \u001b[0m\u001b[32;49m24.0\u001b[0m\n",
      "\u001b[1m[\u001b[0m\u001b[34;49mnotice\u001b[0m\u001b[1;39;49m]\u001b[0m\u001b[39;49m To update, run: \u001b[0m\u001b[32;49mpip install --upgrade pip\u001b[0m\n",
      "Note: you may need to restart the kernel to use updated packages.\n"
     ]
    }
   ],
   "source": [
    "pip install line_profiler"
   ]
  },
  {
   "cell_type": "code",
   "execution_count": 129,
   "id": "65cf37dc",
   "metadata": {},
   "outputs": [
    {
     "name": "stdout",
     "output_type": "stream",
     "text": [
      "The line_profiler extension is already loaded. To reload it, use:\n",
      "  %reload_ext line_profiler\n"
     ]
    }
   ],
   "source": [
    "%load_ext line_profiler"
   ]
  },
  {
   "cell_type": "code",
   "execution_count": 130,
   "id": "7a45ca5e",
   "metadata": {},
   "outputs": [
    {
     "name": "stdout",
     "output_type": "stream",
     "text": [
      "Timer unit: 1e-09 s\n",
      "\n",
      "Total time: 0.559124 s\n",
      "File: /var/folders/c6/67fcc9qx15q9fyw75tswhtl80000gn/T/ipykernel_24240/3764655031.py\n",
      "Function: _build_tree at line 41\n",
      "\n",
      "Line #      Hits         Time  Per Hit   % Time  Line Contents\n",
      "==============================================================\n",
      "    41                                               def _build_tree(self, X, y, depth):\n",
      "    42                                                   ##new criteria for stopping\n",
      "    43         5      12000.0   2400.0      0.0          if depth == self.max_depth or len(X) <= self.min_samples_leaf:\n",
      "    44         3      69000.0  23000.0      0.0              return np.mean(y)\n",
      "    45         2  558948000.0    3e+08    100.0          feature_index, threshold = self._best_split(X, y)\n",
      "    46         2       2000.0   1000.0      0.0          support = len(X)\n",
      "    47         2       2000.0   1000.0      0.0          if feature_index is None:\n",
      "    48                                                       return np.mean(y)\n",
      "    49         2      75000.0  37500.0      0.0          X_left, y_left, X_right, y_right = self._split_data(X, y, feature_index, threshold)\n",
      "    50                                                   ##add support field\n",
      "    51         2       6000.0   3000.0      0.0          tree = {\n",
      "    52         2       2000.0   1000.0      0.0              'feature_index': feature_index,\n",
      "    53         2       1000.0    500.0      0.0              'threshold': threshold,\n",
      "    54         2          0.0      0.0      0.0              'support': support\n",
      "    55                                                   }\n",
      "    56         2       4000.0   2000.0      0.0          tree['left'] = self._build_tree(X_left, y_left, depth + 1)\n",
      "    57         2       2000.0   1000.0      0.0          tree['right'] = self._build_tree(X_right, y_right, depth + 1)\n",
      "    58         2       1000.0    500.0      0.0          return tree"
     ]
    }
   ],
   "source": [
    "%lprun -f dt._build_tree dt._build_tree(X.values[:100], y.values[:100], 7)"
   ]
  },
  {
   "cell_type": "markdown",
   "id": "e11520fe",
   "metadata": {},
   "source": [
    "# 3. Гистограммы\n",
    "\n",
    "Вместо того чтобы перебирать все уникальные значения признака в методе `self._best_split` мы будем восстанавливать гистограмму распределения признака и перебирать только уникальные значения в бинах, см. пример:"
   ]
  },
  {
   "cell_type": "code",
   "execution_count": 131,
   "id": "fbdc85b5",
   "metadata": {},
   "outputs": [],
   "source": [
    "x = np.random.normal(0, 1, 200)"
   ]
  },
  {
   "cell_type": "code",
   "execution_count": 132,
   "id": "d428a49c",
   "metadata": {},
   "outputs": [
    {
     "data": {
      "text/plain": [
       "200"
      ]
     },
     "execution_count": 132,
     "metadata": {},
     "output_type": "execute_result"
    }
   ],
   "source": [
    "len(np.unique(x))"
   ]
  },
  {
   "cell_type": "code",
   "execution_count": 133,
   "id": "2921cd55",
   "metadata": {},
   "outputs": [],
   "source": [
    "bins_height, bins_edges = np.histogram(x, bins=10)\n",
    "bins_centers = (bins_edges[:-1]+bins_edges[1:])/2"
   ]
  },
  {
   "cell_type": "code",
   "execution_count": 134,
   "id": "9dd79f0d",
   "metadata": {},
   "outputs": [
    {
     "data": {
      "text/plain": [
       "10"
      ]
     },
     "execution_count": 134,
     "metadata": {},
     "output_type": "execute_result"
    }
   ],
   "source": [
    "len(bins_centers)"
   ]
  },
  {
   "cell_type": "markdown",
   "id": "947ad4d9",
   "metadata": {},
   "source": [
    "Т.е. вместо \"200\" уникальных трешхолдов мы будем использовать только \"10\"."
   ]
  },
  {
   "cell_type": "code",
   "execution_count": 135,
   "id": "b39f3613",
   "metadata": {},
   "outputs": [],
   "source": [
    "import matplotlib.pyplot as plt"
   ]
  },
  {
   "cell_type": "code",
   "execution_count": 136,
   "id": "948f45f1",
   "metadata": {},
   "outputs": [
    {
     "data": {
      "text/plain": [
       "array([-2.67942761, -2.09341021, -1.50739282, -0.92137542, -0.33535803,\n",
       "        0.25065937,  0.83667676,  1.42269416,  2.00871155,  2.59472895])"
      ]
     },
     "execution_count": 136,
     "metadata": {},
     "output_type": "execute_result"
    }
   ],
   "source": [
    "bins_centers"
   ]
  },
  {
   "cell_type": "code",
   "execution_count": 137,
   "id": "324cba97",
   "metadata": {},
   "outputs": [
    {
     "data": {
      "text/plain": [
       "array([-0.58601739, -0.58601739, -0.58601739, -0.58601739, -0.58601739,\n",
       "       -0.58601739, -0.58601739, -0.58601739, -0.58601739, -0.58601739])"
      ]
     },
     "execution_count": 137,
     "metadata": {},
     "output_type": "execute_result"
    }
   ],
   "source": [
    "# Ширина бинов одинакова\n",
    "bins_edges[:-1]-bins_edges[1:] "
   ]
  },
  {
   "cell_type": "code",
   "execution_count": 138,
   "id": "d2878eba",
   "metadata": {},
   "outputs": [
    {
     "data": {
      "image/png": "[encoded data removed]",
      "text/plain": [
       "<Figure size 432x288 with 1 Axes>"
      ]
     },
     "metadata": {
      "needs_background": "light"
     },
     "output_type": "display_data"
    }
   ],
   "source": [
    "plt.bar(bins_centers, bins_height, width=0.6);"
   ]
  },
  {
   "cell_type": "markdown",
   "id": "4ca8fe75",
   "metadata": {},
   "source": [
    "### Выбор числа бинов\n",
    "\n",
    "Количество бинов гистограммы может сильно повлиять на то как вы приближаете ваше распределение"
   ]
  },
  {
   "cell_type": "code",
   "execution_count": 139,
   "id": "3de2b679",
   "metadata": {},
   "outputs": [
    {
     "data": {
      "image/png": "[encoded data removed]",
      "text/plain": [
       "<Figure size 864x648 with 12 Axes>"
      ]
     },
     "metadata": {
      "needs_background": "light"
     },
     "output_type": "display_data"
    }
   ],
   "source": [
    "fig, axs = plt.subplots(3, 4, figsize=(12, 9))\n",
    "n_bins = np.round(np.linspace(1, 50, 12)).astype(int)\n",
    "\n",
    "for i, ax in enumerate(axs.flatten()):\n",
    "    ax.hist(x, bins=n_bins[i])\n",
    "    ax.set_title(f'number of bins is {n_bins[i]}')"
   ]
  },
  {
   "cell_type": "markdown",
   "id": "6b2a962c",
   "metadata": {},
   "source": [
    "### Метод Freedman–Diaconis \n",
    "\n",
    "https://en.wikipedia.org/wiki/Freedman%E2%80%93Diaconis_rule\n",
    "\n",
    "Для выбора числа бинов в гистограмме воспользуйте правилом Freedman–Diaconis:\n",
    "\n",
    "$$\\text{Bin width} = 2 \\cdot \\frac{IQR(x)}{n^{1/3}}$$\n",
    "\n",
    "Где IQR это inter quartile range, то есть расстояние между 25 и 75 перцентилем распределения.\n",
    "\n",
    "    3.1 Метод Freedman–Diaconis дает формулу для ширины бина (одинаковая для всех бинов), а чему в таком случае равно число бинов?   \n",
    "      \n",
    "      Ответ:  (max(x)-min(x))/bin_width\n",
    "    3.2 Имплементируйте функцию для подсчета числа бинов по формуле Freedman–Diaconis"
   ]
  },
  {
   "cell_type": "code",
   "execution_count": 141,
   "id": "e57681a6",
   "metadata": {},
   "outputs": [
    {
     "data": {
      "text/plain": [
       "1.1531464862433398"
      ]
     },
     "execution_count": 141,
     "metadata": {},
     "output_type": "execute_result"
    }
   ],
   "source": [
    "# iqr\n",
    "np.quantile(x, 0.75) - np.quantile(x, 0.25)"
   ]
  },
  {
   "cell_type": "code",
   "execution_count": 142,
   "id": "4c3ff3f4",
   "metadata": {},
   "outputs": [],
   "source": [
    "def freedman_number(x):\n",
    "    iqr = np.quantile(x, 0.75) - np.quantile(x, 0.25)\n",
    "    bin_width = 2*iqr/len(x)**(1/3)\n",
    "    if bin_width > 0:\n",
    "        bin_number = (max(x)-min(x))/bin_width\n",
    "        return bin_number\n",
    "    else: \n",
    "        return -1"
   ]
  },
  {
   "cell_type": "code",
   "execution_count": 143,
   "id": "caa125aa",
   "metadata": {},
   "outputs": [
    {
     "data": {
      "text/plain": [
       "14.859562754100997"
      ]
     },
     "execution_count": 143,
     "metadata": {},
     "output_type": "execute_result"
    }
   ],
   "source": [
    "freedman_number(x)"
   ]
  },
  {
   "cell_type": "markdown",
   "id": "d6eb6b26",
   "metadata": {},
   "source": [
    "### В методе `self._best_split` замените перебор всех уникальных трешхолдов на перебор только по уникальным бинам\n",
    "\n",
    "Количество бинов подбирайте методом Freedman–Diaconis\n",
    "\n",
    "    3.3 Засеките время обучения вашего регрессора до и после имплементации гистограмм, насколько быстрее стало обучение?  \n",
    "      \n",
    "      Ответ: стало в 2-3 раза быстрее при выборке длиной 100  \n",
    "      \n",
    "    3.4 Сравните скорость работы вашей имплементации решающего дерева и имплементации sklearn.tree.DecisionTreeRegressor, с аналогичными гиперпараметрами  \n",
    "      \n",
    "      Ответ: имплементация sklearn на 2 порядка быстрее, что говорит о том, что в нашей имплементации еще есть что улучшать  \n",
    "      \n",
    "    3.5 Опишите другие способы ускорения алгоритма решающего дерева (кроме приближения распределений признаков гистограмми)  \n",
    "      \n",
    "      Ответ: можно предложить динамическое программирование : если отсортировать объекты по какому-то признаку, то, проходя по отсортированному массиву, можно одновременно и перебирать все значения предикатов, и поддерживать все необходимые статистики для пересчёта значений информативности за O(1) для каждого следующего варианта сплита"
   ]
  },
  {
   "cell_type": "code",
   "execution_count": 144,
   "id": "834e94e1",
   "metadata": {},
   "outputs": [],
   "source": [
    "class DecisionTreeRegressorWithHist(DecisionTreeRegressor):\n",
    "    def _best_split(self, X, y):\n",
    "        best_feature_index, best_threshold = None, None\n",
    "        best_mse = float('inf')\n",
    "        n_features = X.shape[1]\n",
    "\n",
    "        for feature_index in range(n_features):\n",
    "            feature_values = X[:, feature_index]\n",
    "            bins_number = freedman_number(feature_values)\n",
    "            if bins_number != -1:\n",
    "                bins_number = int(bins_number)\n",
    "                bins_height, bins_edges = np.histogram(feature_values, bins=bins_number)\n",
    "                ##make the centers of bins the thresholds\n",
    "                thresholds = (bins_edges[:-1]+bins_edges[1:])/2\n",
    "            else:\n",
    "                ##if binwidth is 0, then make like in the 1 variant with unique values\n",
    "                thresholds = np.unique (feature_values)\n",
    "            \n",
    "            for threshold in thresholds:\n",
    "                X_left, y_left, X_right, y_right = self._split_data(X, y, feature_index, threshold)\n",
    "                mse_left = self._mse(y_left)\n",
    "                mse_right = self._mse(y_right)\n",
    "                mse_split = (len(y_left) * mse_left + len(y_right) * mse_right) / len(y)\n",
    "                if mse_split < best_mse:\n",
    "                    best_mse = mse_split\n",
    "                    best_feature_index = feature_index\n",
    "                    best_threshold = threshold\n",
    "        return best_feature_index, best_threshold\n",
    "\n",
    "        "
   ]
  },
  {
   "cell_type": "code",
   "execution_count": 145,
   "id": "a679c402",
   "metadata": {},
   "outputs": [
    {
     "data": {
      "text/plain": [
       "array([194013.62068966, 127111.77414075, 194013.62068966, 194013.62068966,\n",
       "       308268.78947368])"
      ]
     },
     "execution_count": 145,
     "metadata": {},
     "output_type": "execute_result"
    }
   ],
   "source": [
    "# %%timeit\n",
    "dt_hist = DecisionTreeRegressorWithHist(max_depth=3, min_samples_leaf=50)\n",
    "clf = dt_hist.fit(X.values, y.values)\n",
    "dt_hist.predict(X.values[:5])"
   ]
  },
  {
   "cell_type": "code",
   "execution_count": 146,
   "id": "fa2205a2",
   "metadata": {},
   "outputs": [
    {
     "name": "stdout",
     "output_type": "stream",
     "text": [
      "Timer unit: 1e-09 s\n",
      "\n",
      "Total time: 0.192753 s\n",
      "File: /var/folders/c6/67fcc9qx15q9fyw75tswhtl80000gn/T/ipykernel_24240/3764655031.py\n",
      "Function: _build_tree at line 41\n",
      "\n",
      "Line #      Hits         Time  Per Hit   % Time  Line Contents\n",
      "==============================================================\n",
      "    41                                               def _build_tree(self, X, y, depth):\n",
      "    42                                                   ##new criteria for stopping\n",
      "    43         5      13000.0   2600.0      0.0          if depth == self.max_depth or len(X) <= self.min_samples_leaf:\n",
      "    44         3      64000.0  21333.3      0.0              return np.mean(y)\n",
      "    45         2  192594000.0    1e+08     99.9          feature_index, threshold = self._best_split(X, y)\n",
      "    46         2       3000.0   1500.0      0.0          support = len(X)\n",
      "    47         2       2000.0   1000.0      0.0          if feature_index is None:\n",
      "    48                                                       return np.mean(y)\n",
      "    49         2      66000.0  33000.0      0.0          X_left, y_left, X_right, y_right = self._split_data(X, y, feature_index, threshold)\n",
      "    50                                                   ##add support field\n",
      "    51         2       2000.0   1000.0      0.0          tree = {\n",
      "    52         2       1000.0    500.0      0.0              'feature_index': feature_index,\n",
      "    53         2       1000.0    500.0      0.0              'threshold': threshold,\n",
      "    54         2       1000.0    500.0      0.0              'support': support\n",
      "    55                                                   }\n",
      "    56         2       3000.0   1500.0      0.0          tree['left'] = self._build_tree(X_left, y_left, depth + 1)\n",
      "    57         2       2000.0   1000.0      0.0          tree['right'] = self._build_tree(X_right, y_right, depth + 1)\n",
      "    58         2       1000.0    500.0      0.0          return tree"
     ]
    }
   ],
   "source": [
    "%lprun -f dt_hist._build_tree dt_hist._build_tree(X.values[:100], y.values[:100], 7)"
   ]
  },
  {
   "cell_type": "code",
   "execution_count": 147,
   "id": "295410c8",
   "metadata": {},
   "outputs": [],
   "source": [
    "from sklearn.tree import DecisionTreeRegressor"
   ]
  },
  {
   "cell_type": "code",
   "execution_count": 149,
   "id": "af0fc7f2",
   "metadata": {},
   "outputs": [
    {
     "data": {
      "text/plain": [
       "array([194238.74476987, 124907.77836879, 194238.74476987, 194238.74476987,\n",
       "       314894.55384615])"
      ]
     },
     "execution_count": 149,
     "metadata": {},
     "output_type": "execute_result"
    }
   ],
   "source": [
    "# %%timeit\n",
    "regr = DecisionTreeRegressor(max_depth=3, min_samples_leaf=50)\n",
    "regr.fit(X.values, y.values)\n",
    "regr.predict(X.values[:5])"
   ]
  },
  {
   "cell_type": "markdown",
   "id": "be258550",
   "metadata": {},
   "source": [
    "# 4. House pricing\n",
    "\n",
    "воспользуйтесь набором данных из ДЗ2. Обучите алгоритм Решающего дерева (воспользуйтесь имплементацией из sklearn), не забудьте разделить данные на тренировочную и тестовую выборки. \n",
    "\n",
    "    4.1. Влияет ли нормировка признаков на алгоритм Решающего дерева? Почему?  \n",
    "      \n",
    "      Ответ: практически никак не влияет, так как деревья не подвержены никаким монотонным преобразованиям, так как критерием является меньше или больше. Это означает, что реальной информацией из атрибутов для поиска разбиения (и всего дерева) является только порядок значений. А это значит, что если мы преобразуем атрибуты таким образом, чтобы сохранить исходный порядок, получим то же самое дерево.  \n",
    "        \n",
    "    4.2. Переберите различные значения гиперпараметров решающего дерева с использованием функции GridSearchCV, какое наилучшее качество в терминах mean_squared_error вам удалось получить? Насколько это лучше/хуже качества линейных моделей (на том же train-test разбиении).  \n",
    "      \n",
    "       Ответ: train-test разбиение 70:30   \n",
    "        У решающего дерева с лучшими параметрами MSE = 4.67e+10\n",
    "        У линейной регрессии было наилучшее MSE = 4.460069e+10  \n",
    "      Как мы видим по порядку величины не отличаются  \n",
    "        \n",
    "        \n",
    "    4.3. Сравните важность признаков которую предлагает встроенный метод DecisionTreeRegressor().feature_importances_ с важностью признаков полученной для линейных моделей, прокомментируйте.  \n",
    "      \n",
    "      Ответ: важными признаками в решающем дереве оказались sqft_living, grade, yr_built(остальные признаки и вовсе занулились, то есть по ним не происходило разбиение)  \n",
    "      При использовании линейной регрессии также среди важных признаков были также sqft_living, grade, yr_built, но и еще bedrooms, waterfront и view.  \n",
    "      То, что важные признаки остаются такими же, говорит нам о том, то наше дерево работает верно и правильно производит отбор разделения"
   ]
  },
  {
   "cell_type": "code",
   "execution_count": 150,
   "id": "8f98da25",
   "metadata": {},
   "outputs": [],
   "source": [
    "import pandas as pd\n",
    "from sklearn.model_selection import train_test_split, GridSearchCV, ShuffleSplit\n",
    "from sklearn.metrics import mean_squared_error as mse\n",
    "from sklearn.preprocessing import StandardScaler, MinMaxScaler"
   ]
  },
  {
   "cell_type": "code",
   "execution_count": 151,
   "id": "7ce6d450",
   "metadata": {},
   "outputs": [],
   "source": [
    "X = pd.read_csv('kc_house_data_train.csv', index_col=0)\n",
    "y = X.price\n",
    "X = X.drop([\"id\", 'zipcode', 'lat', 'long', 'price', 'date'], axis = 1)\n",
    "\n",
    "X_train, X_val, y_train, y_val = train_test_split(X, y, train_size=0.7, random_state=5)"
   ]
  },
  {
   "cell_type": "code",
   "execution_count": 152,
   "id": "11d69f86",
   "metadata": {},
   "outputs": [
    {
     "name": "stdout",
     "output_type": "stream",
     "text": [
      "MSE val: 46799461347.36352\n",
      "MSE val MinMaxScaler: 46800087953.57903\n",
      "MSE val StandardScaler: 46797150169.206604\n"
     ]
    }
   ],
   "source": [
    "tree = DecisionTreeRegressor(max_depth=13, min_samples_leaf=50)\n",
    "tree.fit(X_train, y_train)\n",
    "y_pred_val = tree.predict(X_val)\n",
    "\n",
    "print(\"MSE val:\", mse(y_val, y_pred_val))\n",
    "\n",
    "n_scaler = MinMaxScaler()\n",
    "X_train_scaled_n = n_scaler.fit_transform(X_train)\n",
    "X_val_scaled_n = n_scaler.transform(X_val)\n",
    "\n",
    "norm = tree.fit(X_train_scaled_n, y_train)\n",
    "y_pred_val_n = norm.predict(X_val_scaled_n)\n",
    "\n",
    "print(\"MSE val MinMaxScaler:\", mse(y_val, y_pred_val_n))\n",
    "\n",
    "z_scaler = StandardScaler()\n",
    "X_train_scaled = z_scaler.fit_transform(X_train)\n",
    "X_val_scaled = z_scaler.transform(X_val)\n",
    "\n",
    "scaled = tree.fit(X_train_scaled, y_train)\n",
    "y_pred_val_z = scaled.predict(X_val_scaled)\n",
    "\n",
    "print(\"MSE val StandardScaler:\", mse(y_val, y_pred_val_z))"
   ]
  },
  {
   "cell_type": "code",
   "execution_count": 153,
   "id": "a12dc6d8",
   "metadata": {},
   "outputs": [
    {
     "name": "stdout",
     "output_type": "stream",
     "text": [
      "Fitting 1 folds for each of 108 candidates, totalling 108 fits\n"
     ]
    },
    {
     "data": {
      "text/html": [
       "<style>#sk-container-id-4 {color: black;background-color: white;}#sk-container-id-4 pre{padding: 0;}#sk-container-id-4 div.sk-toggleable {background-color: white;}#sk-container-id-4 label.sk-toggleable__label {cursor: pointer;display: block;width: 100%;margin-bottom: 0;padding: 0.3em;box-sizing: border-box;text-align: center;}#sk-container-id-4 label.sk-toggleable__label-arrow:before {content: \"▸\";float: left;margin-right: 0.25em;color: #696969;}#sk-container-id-4 label.sk-toggleable__label-arrow:hover:before {color: black;}#sk-container-id-4 div.sk-estimator:hover label.sk-toggleable__label-arrow:before {color: black;}#sk-container-id-4 div.sk-toggleable__content {max-height: 0;max-width: 0;overflow: hidden;text-align: left;background-color: #f0f8ff;}#sk-container-id-4 div.sk-toggleable__content pre {margin: 0.2em;color: black;border-radius: 0.25em;background-color: #f0f8ff;}#sk-container-id-4 input.sk-toggleable__control:checked~div.sk-toggleable__content {max-height: 200px;max-width: 100%;overflow: auto;}#sk-container-id-4 input.sk-toggleable__control:checked~label.sk-toggleable__label-arrow:before {content: \"▾\";}#sk-container-id-4 div.sk-estimator input.sk-toggleable__control:checked~label.sk-toggleable__label {background-color: #d4ebff;}#sk-container-id-4 div.sk-label input.sk-toggleable__control:checked~label.sk-toggleable__label {background-color: #d4ebff;}#sk-container-id-4 input.sk-hidden--visually {border: 0;clip: rect(1px 1px 1px 1px);clip: rect(1px, 1px, 1px, 1px);height: 1px;margin: -1px;overflow: hidden;padding: 0;position: absolute;width: 1px;}#sk-container-id-4 div.sk-estimator {font-family: monospace;background-color: #f0f8ff;border: 1px dotted black;border-radius: 0.25em;box-sizing: border-box;margin-bottom: 0.5em;}#sk-container-id-4 div.sk-estimator:hover {background-color: #d4ebff;}#sk-container-id-4 div.sk-parallel-item::after {content: \"\";width: 100%;border-bottom: 1px solid gray;flex-grow: 1;}#sk-container-id-4 div.sk-label:hover label.sk-toggleable__label {background-color: #d4ebff;}#sk-container-id-4 div.sk-serial::before {content: \"\";position: absolute;border-left: 1px solid gray;box-sizing: border-box;top: 0;bottom: 0;left: 50%;z-index: 0;}#sk-container-id-4 div.sk-serial {display: flex;flex-direction: column;align-items: center;background-color: white;padding-right: 0.2em;padding-left: 0.2em;position: relative;}#sk-container-id-4 div.sk-item {position: relative;z-index: 1;}#sk-container-id-4 div.sk-parallel {display: flex;align-items: stretch;justify-content: center;background-color: white;position: relative;}#sk-container-id-4 div.sk-item::before, #sk-container-id-4 div.sk-parallel-item::before {content: \"\";position: absolute;border-left: 1px solid gray;box-sizing: border-box;top: 0;bottom: 0;left: 50%;z-index: -1;}#sk-container-id-4 div.sk-parallel-item {display: flex;flex-direction: column;z-index: 1;position: relative;background-color: white;}#sk-container-id-4 div.sk-parallel-item:first-child::after {align-self: flex-end;width: 50%;}#sk-container-id-4 div.sk-parallel-item:last-child::after {align-self: flex-start;width: 50%;}#sk-container-id-4 div.sk-parallel-item:only-child::after {width: 0;}#sk-container-id-4 div.sk-dashed-wrapped {border: 1px dashed gray;margin: 0 0.4em 0.5em 0.4em;box-sizing: border-box;padding-bottom: 0.4em;background-color: white;}#sk-container-id-4 div.sk-label label {font-family: monospace;font-weight: bold;display: inline-block;line-height: 1.2em;}#sk-container-id-4 div.sk-label-container {text-align: center;}#sk-container-id-4 div.sk-container {/* jupyter's `normalize.less` sets `[hidden] { display: none; }` but bootstrap.min.css set `[hidden] { display: none !important; }` so we also need the `!important` here to be able to override the default hidden behavior on the sphinx rendered scikit-learn.org. See: https://github.com/scikit-learn/scikit-learn/issues/21755 */display: inline-block !important;position: relative;}#sk-container-id-4 div.sk-text-repr-fallback {display: none;}</style><div id=\"sk-container-id-4\" class=\"sk-top-container\"><div class=\"sk-text-repr-fallback\"><pre>DecisionTreeRegressor(max_depth=13, min_samples_leaf=50, min_samples_split=10)</pre><b>In a Jupyter environment, please rerun this cell to show the HTML representation or trust the notebook. <br />On GitHub, the HTML representation is unable to render, please try loading this page with nbviewer.org.</b></div><div class=\"sk-container\" hidden><div class=\"sk-item\"><div class=\"sk-estimator sk-toggleable\"><input class=\"sk-toggleable__control sk-hidden--visually\" id=\"sk-estimator-id-4\" type=\"checkbox\" checked><label for=\"sk-estimator-id-4\" class=\"sk-toggleable__label sk-toggleable__label-arrow\">DecisionTreeRegressor</label><div class=\"sk-toggleable__content\"><pre>DecisionTreeRegressor(max_depth=13, min_samples_leaf=50, min_samples_split=10)</pre></div></div></div></div></div>"
      ],
      "text/plain": [
       "DecisionTreeRegressor(max_depth=13, min_samples_leaf=50, min_samples_split=10)"
      ]
     },
     "execution_count": 153,
     "metadata": {},
     "output_type": "execute_result"
    }
   ],
   "source": [
    "params_grid = {\n",
    "    'criterion': ['squared_error'],\n",
    "    'max_depth': np.arange(3, 30),\n",
    "    'min_samples_split': np.arange(10, 30, 5)\n",
    "}\n",
    "cv = ShuffleSplit(test_size=0.30, n_splits=1)\n",
    "gs = GridSearchCV(tree, param_grid=params_grid, cv=cv, n_jobs=-1, verbose=1)\n",
    "gs.fit(X_train, y_train)\n",
    "\n",
    "gs.best_estimator_"
   ]
  },
  {
   "cell_type": "code",
   "execution_count": 154,
   "id": "a60b3093",
   "metadata": {},
   "outputs": [
    {
     "name": "stdout",
     "output_type": "stream",
     "text": [
      "MSE val: 46799461347.36352\n"
     ]
    }
   ],
   "source": [
    "y_pred_val = gs.predict(X_val)\n",
    "\n",
    "print(\"MSE val:\", mse(y_val, y_pred_val))"
   ]
  },
  {
   "cell_type": "code",
   "execution_count": 115,
   "id": "b3bda216",
   "metadata": {},
   "outputs": [
    {
     "name": "stdout",
     "output_type": "stream",
     "text": [
      "{'bedrooms': 0.00017188542585037334, 'bathrooms': 0.016433161970328163, 'sqft_living': 0.2965239372594896, 'sqft_lot': 0.002328761540875573, 'floors': 0.0002455687604012326, 'waterfront': 0.0, 'view': 0.004599216393615382, 'condition': 0.00030076338217624194, 'grade': 0.5339476848699479, 'sqft_above': 0.0015486663143982847, 'sqft_basement': 0.0005262892337970276, 'yr_built': 0.09216525026169864, 'yr_renovated': 0.0, 'sqft_living15': 0.04217277068514863, 'sqft_lot15': 0.009036043902272937}\n"
     ]
    }
   ],
   "source": [
    "dict = {}\n",
    "for i in range(len(X.columns)):\n",
    "    dict[X.columns[i]] = tree.feature_importances_[i]\n",
    "print(dict)"
   ]
  },
  {
   "cell_type": "markdown",
   "id": "12745cdf",
   "metadata": {},
   "source": [
    "jupyter notebook c вашим решением необходимо отправить на почту kurmukovai@gmail.com, с темой письма [iitp-intro-ds-2024-ha4-Surname], например [iitp-intro-ds-2024-ha4-Kurmukov] до 12:59:59 МСК 29.02.2024. Дополнительный балл за раннюю сдачу до 23:59:59 27.02.2024"
   ]
  },
  {
   "cell_type": "code",
   "execution_count": null,
   "id": "9a6e867c",
   "metadata": {},
   "outputs": [],
   "source": []
  }
 ],
 "metadata": {
  "kernelspec": {
   "display_name": "Python 3 (ipykernel)",
   "language": "python",
   "name": "python3"
  },
  "language_info": {
   "codemirror_mode": {
    "name": "ipython",
    "version": 3
   },
   "file_extension": ".py",
   "mimetype": "text/x-python",
   "name": "python",
   "nbconvert_exporter": "python",
   "pygments_lexer": "ipython3",
   "version": "3.10.2"
  }
 },
 "nbformat": 4,
 "nbformat_minor": 5
}
